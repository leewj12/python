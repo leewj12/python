{
 "cells": [
  {
   "cell_type": "code",
   "execution_count": 35,
   "id": "c94dcdb0-ed66-489b-957d-354834e4ec3e",
   "metadata": {
    "scrolled": true
   },
   "outputs": [
    {
     "name": "stdout",
     "output_type": "stream",
     "text": [
      "안지수님 안녕하세요.\n",
      "홍지영님 반갑습니다.\n",
      "황예림님 만나서 반가워요.\n"
     ]
    }
   ],
   "source": [
    "# greet 모듈 활용하기\n",
    "import greet\n",
    "print(greet.hello1('안지수'))\n",
    "print(greet.hello2('홍지영'))\n",
    "print(greet.hello3('황예림'))"
   ]
  },
  {
   "cell_type": "code",
   "execution_count": 3,
   "id": "c2d29d3e-b949-4805-b1b0-500c364a9d50",
   "metadata": {
    "scrolled": true
   },
   "outputs": [
    {
     "name": "stdout",
     "output_type": "stream",
     "text": [
      "김영진님 안녕하세요.\n",
      "10.0\n",
      "25살 입니다\n",
      "박소정님 반갑습니다.\n",
      "10.0\n",
      "0.8939966636005579\n",
      "한은정님 만나서 반가워요.\n",
      "10.0\n",
      "한은정님 반갑습니다.\n",
      "10.0 0.8414709848078965\n"
     ]
    }
   ],
   "source": [
    "# 모듈 불러와 사용하기\n",
    "import greet \n",
    "import math # 수학 관련 모듈\n",
    "print(greet.hello1('김영진')) \n",
    "print(math.sqrt(100))\n",
    "print(greet.sqrt(25))\n",
    "\n",
    "import greet as gr \n",
    "import math as m \n",
    "print(gr.hello2('박소정')) \n",
    "print(m.sqrt(100))\n",
    "print(m.sin(90))\n",
    "\n",
    "from greet import hello3 # hello3만 import\n",
    "from math import sqrt  # sqrt만 import\n",
    "print(hello3('한은정')) \n",
    "print(sqrt(100))\n",
    "\n",
    "from greet import * # = import greet\n",
    "from math import * \n",
    "print(hello2('한은정')) \n",
    "print(sqrt(100), sin(1))"
   ]
  },
  {
   "cell_type": "code",
   "execution_count": 3,
   "id": "d62dd7b8-3e4c-4936-8121-704056e04b69",
   "metadata": {},
   "outputs": [
    {
     "name": "stdout",
     "output_type": "stream",
     "text": [
      "floor(7.7) : 7\n",
      "ceil(10.1) : 11\n",
      "round(8.6) : 9\n",
      "5의 팩토리얼 : 120\n"
     ]
    }
   ],
   "source": [
    "# Math 모듈의 정수 관련 함수\n",
    "import math\n",
    "print('floor(7.7) : %d' % math.floor(7.7)) #버림\n",
    "print('ceil(10.1) : %d' % math.ceil(10.1)) # 올림\n",
    "print('round(8.6) : %d' % round(8.6)) # 반올림\n",
    "print('5의 팩토리얼 : %d' % math.factorial(5)) # 5*4*3*2*1"
   ]
  },
  {
   "cell_type": "code",
   "execution_count": 5,
   "id": "2d74d3ef-f773-4f96-ac2b-aad9f04f6744",
   "metadata": {},
   "outputs": [
    {
     "name": "stdout",
     "output_type": "stream",
     "text": [
      "sin(pi/2) : 1.00\n",
      "cos(pi) : -1.00\n",
      "tan(pi*2) : -0.00\n",
      "2의 4승 : 16\n",
      "49의 제곱근 : 7\n",
      "log10(100) : 2.00\n"
     ]
    }
   ],
   "source": [
    "#삼각/거듭제곱/제곱근/로그 함수\n",
    "import math as m\n",
    "print('sin(pi/2) : %.2f' % m.sin(m.pi/2))\n",
    "print('cos(pi) : %.2f' % m.cos(m.pi))\n",
    "print('tan(pi*2) : %.2f' % m.tan(m.pi*2))\n",
    "print('2의 4승 : %d' % m.pow(2,4))\n",
    "print('49의 제곱근 : %d' % m.sqrt(49))\n",
    "print('log10(100) : %.2f' % m.log10(100))"
   ]
  },
  {
   "cell_type": "code",
   "execution_count": 59,
   "id": "ca0dad37-9782-4295-adc2-71b0f57372f9",
   "metadata": {},
   "outputs": [
    {
     "name": "stdout",
     "output_type": "stream",
     "text": [
      "0.4019154647138026\n",
      "0.6385447175411979\n",
      "0.3356101191476113\n"
     ]
    }
   ],
   "source": [
    "# random() 함수\n",
    "import random \n",
    "for i in range(3) :\n",
    "    print(random.random())"
   ]
  },
  {
   "cell_type": "code",
   "execution_count": 9,
   "id": "ca515fcd-6169-4e9d-a13b-e7351297b3f5",
   "metadata": {},
   "outputs": [
    {
     "name": "stdout",
     "output_type": "stream",
     "text": [
      "7\n",
      "5\n",
      "3\n",
      "1\n",
      "9\n"
     ]
    }
   ],
   "source": [
    "# randrange() 함수\n",
    "import random \n",
    "for i in range(5) :\n",
    "    print(random.randrange(1, 11, 2))"
   ]
  },
  {
   "cell_type": "code",
   "execution_count": 11,
   "id": "10692c4c-50bc-4ee2-9e4c-f928aa4cfa1d",
   "metadata": {},
   "outputs": [
    {
     "name": "stdout",
     "output_type": "stream",
     "text": [
      "6\n",
      "6\n",
      "3\n",
      "1\n",
      "6\n"
     ]
    }
   ],
   "source": [
    "# randint() 함수\n",
    "import random\n",
    "for i in range(5) :\n",
    "    print(random.randint(1, 6)) # randint 끝값도 포함"
   ]
  },
  {
   "cell_type": "code",
   "execution_count": 13,
   "id": "ad6d2a4c-3fcc-4b41-8f7b-186e1a3a654c",
   "metadata": {},
   "outputs": [
    {
     "name": "stdout",
     "output_type": "stream",
     "text": [
      "가위\n",
      "보\n",
      "보\n",
      "바위\n",
      "보\n"
     ]
    }
   ],
   "source": [
    "# choice() 함수\n",
    "import random\n",
    "toss = ['가위', '바위', '보'] \n",
    "for i in range(5) :\n",
    "    print(random.choice(toss))"
   ]
  },
  {
   "cell_type": "code",
   "execution_count": 17,
   "id": "0057106a-fcfd-4c79-b7b0-736c954a6fb3",
   "metadata": {
    "scrolled": true
   },
   "outputs": [
    {
     "name": "stdout",
     "output_type": "stream",
     "text": [
      "['사과', '바나나', '오렌지']\n",
      "['사과', '오렌지', '바나나']\n",
      "['바나나', '오렌지', '사과']\n"
     ]
    }
   ],
   "source": [
    "# shuffle() 함수\n",
    "import random\n",
    "fruits = ['사과', '바나나', '오렌지'] \n",
    "for i in range(3) :\n",
    "    random.shuffle(fruits) \n",
    "    print(fruits)"
   ]
  },
  {
   "cell_type": "code",
   "execution_count": 1,
   "id": "e0a697d2-6cab-47a7-89a0-beff09a8ae40",
   "metadata": {},
   "outputs": [
    {
     "name": "stdout",
     "output_type": "stream",
     "text": [
      "------------------------------\n",
      "주사위 던지기 : 1번째\n",
      "나 : 5\n",
      "컴퓨터 : 5\n",
      "무승부!\n"
     ]
    },
    {
     "name": "stdin",
     "output_type": "stream",
     "text": [
      "계속하려면  y를 입력하세요! y\n"
     ]
    },
    {
     "name": "stdout",
     "output_type": "stream",
     "text": [
      "------------------------------\n",
      "주사위 던지기 : 2번째\n",
      "나 : 4\n",
      "컴퓨터 : 3\n",
      "나의 승리!\n"
     ]
    },
    {
     "name": "stdin",
     "output_type": "stream",
     "text": [
      "계속하려면  y를 입력하세요! z\n"
     ]
    }
   ],
   "source": [
    "# 주사위 게임 만들기\n",
    "import random \n",
    "again = 'y'\n",
    "count = 1 \n",
    "while again =='y':\n",
    "    print('-' * 30)\n",
    "    print('주사위 던지기 : %d번째' % count)\n",
    "    me = random.randint(1, 6)\n",
    "    computer = random.randint(1, 6) \n",
    "    print('나 : %d' % me )\n",
    "    print('컴퓨터 : %d' % computer)\n",
    "    if me > computer : \n",
    "        print('나의 승리!')\n",
    "    elif me == computer : \n",
    "        print('무승부!')\n",
    "    else :\n",
    "        print('컴퓨터의 승리!') \n",
    "    count = count + 1\n",
    "    again = input('계속하려면  y를 입력하세요!')"
   ]
  },
  {
   "cell_type": "code",
   "execution_count": 57,
   "id": "ab6d395b-a8fd-4220-aefc-f2d11ca8e2c9",
   "metadata": {
    "scrolled": true
   },
   "outputs": [
    {
     "name": "stdout",
     "output_type": "stream",
     "text": [
      "==============================\n",
      "가위 바위 보 게임\n",
      "==============================\n",
      "나 : 가위\n",
      "당신 : 가위\n",
      "무승부입니다!\n",
      "------------------------------\n"
     ]
    },
    {
     "name": "stdin",
     "output_type": "stream",
     "text": [
      "계속하려면  y를 입력하세요! ㅛ\n"
     ]
    },
    {
     "name": "stdout",
     "output_type": "stream",
     "text": [
      "\n"
     ]
    }
   ],
   "source": [
    "import random\n",
    "def whoWin(x, y) :\n",
    "    if x == '가위' : \n",
    "        if y == '가위' :\n",
    "            msg = '무승부입니다!' \n",
    "        elif y == '바위' :\n",
    "            msg = '당신의 승리입니다!' \n",
    "        else :\n",
    "            msg = '나의 승리입니다!'\n",
    "    elif x == '바위' : \n",
    "        if y == '가위' :\n",
    "            msg = '나의 승리입니다!' \n",
    "        elif y == '바위' :\n",
    "            msg = '무승부입니다!' \n",
    "        else :\n",
    "            msg = '당신의 승리입니다!'\n",
    "    else :\n",
    "        if y == '가위' :\n",
    "            msg = '당신의 승리입니다!' \n",
    "        elif y == '바위' :\n",
    "            msg = '나의 승리입니다!' \n",
    "        else :\n",
    "            msg = '무승부입니다!' \n",
    "    return msg\n",
    "print('=' * 30)\n",
    "print('가위 바위 보 게임')\n",
    "print('=' * 30)\n",
    "gawibawibo = ['가위','바위', '보'] \n",
    "again = 'y'\n",
    "while again == 'y' :\n",
    "    me  = random.choice(gawibawibo) \n",
    "    you = random.choice(gawibawibo)\n",
    "    result = whoWin(me, you)\n",
    "    print('나 : %s' % me)\n",
    "    print('당신 : %s' % you)\n",
    "    print(result)\n",
    "    print('-' * 30)\n",
    "    again = input('계속하려면  y를 입력하세요!') \n",
    "    print()"
   ]
  },
  {
   "cell_type": "code",
   "execution_count": null,
   "id": "4569fcca-e477-4228-96e6-b41ac4291b47",
   "metadata": {},
   "outputs": [],
   "source": []
  },
  {
   "cell_type": "code",
   "execution_count": null,
   "id": "236522de-a7ba-4a10-9437-678a785357f3",
   "metadata": {},
   "outputs": [],
   "source": []
  },
  {
   "cell_type": "code",
   "execution_count": null,
   "id": "72babd1a-8ebb-4049-b37e-e3c06fb2686b",
   "metadata": {},
   "outputs": [],
   "source": []
  },
  {
   "cell_type": "code",
   "execution_count": null,
   "id": "659c53da-c2c0-482c-a09b-0b8d6b0b7e8e",
   "metadata": {},
   "outputs": [],
   "source": []
  },
  {
   "cell_type": "code",
   "execution_count": null,
   "id": "351afe8f-3abc-4c5e-8af5-d9e0dc184c5f",
   "metadata": {},
   "outputs": [],
   "source": []
  },
  {
   "cell_type": "code",
   "execution_count": null,
   "id": "2b4c38af-323f-4028-83e2-d74f9e35ffa2",
   "metadata": {},
   "outputs": [],
   "source": []
  },
  {
   "cell_type": "code",
   "execution_count": null,
   "id": "6aaf26fd-bd21-4f85-9c43-65c6de4be307",
   "metadata": {},
   "outputs": [],
   "source": []
  }
 ],
 "metadata": {
  "kernelspec": {
   "display_name": "Python 3 (ipykernel)",
   "language": "python",
   "name": "python3"
  },
  "language_info": {
   "codemirror_mode": {
    "name": "ipython",
    "version": 3
   },
   "file_extension": ".py",
   "mimetype": "text/x-python",
   "name": "python",
   "nbconvert_exporter": "python",
   "pygments_lexer": "ipython3",
   "version": "3.12.4"
  }
 },
 "nbformat": 4,
 "nbformat_minor": 5
}
