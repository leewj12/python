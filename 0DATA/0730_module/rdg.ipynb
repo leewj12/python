{
 "cells": [
  {
   "cell_type": "code",
   "execution_count": 1,
   "id": "08ef36a3-5ab8-4bea-bf71-b7343a69135c",
   "metadata": {},
   "outputs": [
    {
     "name": "stdout",
     "output_type": "stream",
     "text": [
      "------------------------------\n",
      "주사위 던지기 : 1번째\n",
      "나 : 3\n",
      "컴퓨터 : 3\n",
      "무승부!\n"
     ]
    },
    {
     "name": "stdin",
     "output_type": "stream",
     "text": [
      "계속하려면  y를 입력하세요! z\n"
     ]
    }
   ],
   "source": [
    "import random \n",
    "again = 'y'\n",
    "count = 1 \n",
    "while again =='y':\n",
    "    print('-' * 30)\n",
    "    print('주사위 던지기 : %d번째' % count)\n",
    "    me = random.randint(1, 6)\n",
    "    computer = random.randint(1, 6) \n",
    "    print('나 : %d' % me )\n",
    "    print('컴퓨터 : %d' % computer)\n",
    "    if me > computer : \n",
    "        print('나의 승리!')\n",
    "    elif me == computer : \n",
    "        print('무승부!')\n",
    "    else :\n",
    "        print('컴퓨터의 승리!') \n",
    "    count = count + 1\n",
    "    again = input('계속하려면  y를 입력하세요!')"
   ]
  }
 ],
 "metadata": {
  "kernelspec": {
   "display_name": "Python 3 (ipykernel)",
   "language": "python",
   "name": "python3"
  },
  "language_info": {
   "codemirror_mode": {
    "name": "ipython",
    "version": 3
   },
   "file_extension": ".py",
   "mimetype": "text/x-python",
   "name": "python",
   "nbconvert_exporter": "python",
   "pygments_lexer": "ipython3",
   "version": "3.12.4"
  }
 },
 "nbformat": 4,
 "nbformat_minor": 5
}
