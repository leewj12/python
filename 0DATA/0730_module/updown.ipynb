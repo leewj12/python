{
 "cells": [
  {
   "cell_type": "code",
   "execution_count": 19,
   "id": "8c28fe97-7b37-4d14-bc47-52d2a8d4d989",
   "metadata": {},
   "outputs": [
    {
     "name": "stdin",
     "output_type": "stream",
     "text": [
      "값의 범위 입력해주세요 (1~n)\n",
      " ex) 1~500 사이값\n",
      " 2\n",
      "정답 값을 입력하세요 1\n"
     ]
    },
    {
     "name": "stdout",
     "output_type": "stream",
     "text": [
      "up\n"
     ]
    },
    {
     "name": "stdin",
     "output_type": "stream",
     "text": [
      "정답 값을 입력하세요 2\n"
     ]
    },
    {
     "name": "stdout",
     "output_type": "stream",
     "text": [
      "축하합니다. 2번만에 정답 2를 맞추셨습니다 ~!!!\n"
     ]
    },
    {
     "name": "stdin",
     "output_type": "stream",
     "text": [
      "입력시 종료 2\n"
     ]
    },
    {
     "data": {
      "text/plain": [
       "'2'"
      ]
     },
     "execution_count": 19,
     "metadata": {},
     "output_type": "execute_result"
    }
   ],
   "source": [
    "import random\n",
    "\n",
    "n = int(input('값의 범위 입력해주세요 (1~n)\\n ex) 1~500 사이값\\n'))\n",
    "answer = random.randint(1,n)\n",
    "count = 0\n",
    "\n",
    "while True:\n",
    "    a = int(input('정답 값을 입력하세요'))\n",
    "    count += 1\n",
    "    if a == answer:\n",
    "        print ('축하합니다. %d번만에 정답 %d를 맞추셨습니다 ~!!!'%(count, answer))\n",
    "        break\n",
    "    elif a > answer :\n",
    "        print('down')\n",
    "    else:\n",
    "        print('up')\n",
    "msg = input('입력시 종료')"
   ]
  }
 ],
 "metadata": {
  "kernelspec": {
   "display_name": "Python 3 (ipykernel)",
   "language": "python",
   "name": "python3"
  },
  "language_info": {
   "codemirror_mode": {
    "name": "ipython",
    "version": 3
   },
   "file_extension": ".py",
   "mimetype": "text/x-python",
   "name": "python",
   "nbconvert_exporter": "python",
   "pygments_lexer": "ipython3",
   "version": "3.12.4"
  }
 },
 "nbformat": 4,
 "nbformat_minor": 5
}
