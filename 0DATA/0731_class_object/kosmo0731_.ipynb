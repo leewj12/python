{
 "cells": [
  {
   "cell_type": "code",
   "execution_count": 5,
   "id": "55a74f88-32f1-4d26-a482-bf4a9970e58d",
   "metadata": {
    "scrolled": true
   },
   "outputs": [
    {
     "name": "stdout",
     "output_type": "stream",
     "text": [
      "년 : 2024\n",
      "월 : 7\n",
      "일 : 31\n",
      "시 : 10\n",
      "분 : 42\n",
      "초 : 31\n",
      "2024/07/31 10:42:31\n",
      "24-07-31 AM 10:42\n"
     ]
    }
   ],
   "source": [
    "# datetime 모듈\n",
    "from datetime import datetime \n",
    "today = datetime.now()\n",
    "print('년 : %s' % today.year)\n",
    "print('월 : %s' % today.month)\n",
    "print('일 : %s' % today.day)\n",
    "print('시 : %s' % today.hour)\n",
    "print('분 : %s' % today.minute)\n",
    "print('초 : %s' % today.second)\n",
    "print(today.strftime('%Y/%m/%d %H:%M:%S')) \n",
    "print(today.strftime('%y-%m-%d %p %I:%M'))"
   ]
  },
  {
   "cell_type": "code",
   "execution_count": 5,
   "id": "e6c99a07-45aa-4e64-953b-9cea002a91d8",
   "metadata": {},
   "outputs": [
    {
     "name": "stdout",
     "output_type": "stream",
     "text": [
      "10 + 20 = 30\n",
      "100 + 200 = 300\n"
     ]
    }
   ],
   "source": [
    "#객체지향의 예\n",
    "class Calculator:\n",
    "    def set(self, x, y):\n",
    "        self.first = x\n",
    "        self.second = y\n",
    "    def add(self):\n",
    "        result = self.first + self.second\n",
    "        return result\n",
    "cal1 = Calculator()\n",
    "cal1.set(10, 20)\n",
    "print('%d + %d = %d' % (cal1.first, cal1.second, cal1.add()))\n",
    "cal1.set(100, 200)\n",
    "print('%d + %d = %d' % (cal1.first, cal1.second, cal1.add()))"
   ]
  },
  {
   "cell_type": "code",
   "execution_count": 45,
   "id": "d65e24c7-26a2-4ba3-a4f5-4e98b38eb1d6",
   "metadata": {
    "scrolled": true
   },
   "outputs": [
    {
     "name": "stdout",
     "output_type": "stream",
     "text": [
      "이름 : 홍지수\n",
      "나이 : 24\n",
      "이름 : 안지영\n",
      "나이 : 20\n"
     ]
    }
   ],
   "source": [
    "#생성자\n",
    "class Member :\n",
    "    def __init__(self, name, age) : \n",
    "        self.name = name\n",
    "        self.age = age\n",
    "    def showMember(self) : \n",
    "        print('이름 : %s' % self.name) \n",
    "        print('나이 : %d' % self.age)\n",
    "mem1 = Member('홍지수', 24)\n",
    "mem1.showMember()\n",
    "mem2 = Member('안지영', 20)\n",
    "mem2.showMember()"
   ]
  },
  {
   "cell_type": "code",
   "execution_count": 1,
   "id": "911aedc1-01de-492d-97d0-5af7617dd182",
   "metadata": {},
   "outputs": [
    {
     "name": "stdout",
     "output_type": "stream",
     "text": [
      "110\n",
      "130\n",
      "150\n"
     ]
    }
   ],
   "source": [
    "class MyClass :\n",
    "    number = 100     # 클래스 속성 \n",
    "    def inc_10(self): \n",
    "        MyClass.number += 10 \n",
    "    def inc_20(self): \n",
    "        MyClass.number += 20 \n",
    "obj1 = MyClass() \n",
    "obj1.inc_10()         \n",
    "print(obj1.number)\n",
    "obj2 = MyClass() \n",
    "obj2.inc_20()         \n",
    "print(obj2.number) \n",
    "obj1.inc_20()\n",
    "print(obj1.number)"
   ]
  },
  {
   "cell_type": "code",
   "execution_count": 7,
   "id": "db646f56-8be8-444e-8427-47ac318c9826",
   "metadata": {},
   "outputs": [
    {
     "name": "stdout",
     "output_type": "stream",
     "text": [
      "130\n",
      "230\n"
     ]
    }
   ],
   "source": [
    "# 인스턴스 속성\n",
    "class MyClass :\n",
    "    def __init__(self, number) :\n",
    "        self.number = number     # 인스턴스 속성 \n",
    "    def inc_10(self): \n",
    "        self.number += 10 \n",
    "    def inc_20(self): \n",
    "        self.number += 20 \n",
    "obj1 = MyClass(100) \n",
    "obj1.inc_10()         \n",
    "obj1.inc_20() \n",
    "print(obj1.number)\n",
    "obj2 = MyClass(200) \n",
    "obj2.inc_10()     \n",
    "obj2.inc_20() \n",
    "print(obj2.number)"
   ]
  },
  {
   "cell_type": "code",
   "execution_count": 11,
   "id": "beae2819-c6cd-400c-a2fb-83c8a4ad2099",
   "metadata": {},
   "outputs": [
    {
     "name": "stdout",
     "output_type": "stream",
     "text": [
      "행복이\n",
      "멍멍~~~\n"
     ]
    }
   ],
   "source": [
    "class Animal:\n",
    "    def __init__(self, name):\n",
    "        self.name = name \n",
    "    def printName(self):\n",
    "        print(self.name) \n",
    "class Dog(Animal):\n",
    "    def __init__(self, name, sound): \n",
    "        super().__init__(name)\n",
    "        self.sound = sound\n",
    "    def printSound(self):\n",
    "        print(self.sound)\n",
    "dog1 = Dog('행복이', '멍멍~~~')\n",
    "dog1.printName()\n",
    "dog1.printSound()"
   ]
  },
  {
   "cell_type": "code",
   "execution_count": 15,
   "id": "bf730842-7a6d-4580-8321-71fc5561c477",
   "metadata": {},
   "outputs": [
    {
     "name": "stdout",
     "output_type": "stream",
     "text": [
      "이름:홍지수, 나이:20\n",
      "홍지수, 20\n",
      "홍지수님의 학과:소프트웨어공학과, 학번:20215550001\n"
     ]
    }
   ],
   "source": [
    "# super() 함수\n",
    "class Person:\n",
    "    def __init__(self, name, age): \n",
    "        self.name = name\n",
    "        self.age = age \n",
    "    def printInfo(self):\n",
    "        print('이름:%s, 나이:%d' % (self.name, self.age)) \n",
    "    def getInfo(self) :\n",
    "        return self.name + ', ' + str(self.age)\n",
    "class Student(Person):\n",
    "    def __init__(self, name, age, department, id):\n",
    "        super().__init__(name, age) \n",
    "        self.department = department \n",
    "        self.id = id\n",
    "    def printStudentInfo(self): \n",
    "        name_age = super().getInfo() \n",
    "        print(name_age)\n",
    "        print('%s님의 학과:%s, 학번:%s' % (self.name, self.department, self.id))\n",
    "x = Student('홍지수', 20, '소프트웨어공학과', '20215550001') \n",
    "x.printInfo()\n",
    "x.printStudentInfo()"
   ]
  },
  {
   "cell_type": "code",
   "execution_count": 19,
   "id": "4e0bc7a3-a6df-4a63-9a36-446b1b122b94",
   "metadata": {},
   "outputs": [
    {
     "data": {
      "text/plain": [
       "'C:\\\\Users\\\\user\\\\0DAta\\\\0731_class_object'"
      ]
     },
     "execution_count": 19,
     "metadata": {},
     "output_type": "execute_result"
    }
   ],
   "source": [
    "%pwd"
   ]
  },
  {
   "cell_type": "code",
   "execution_count": 23,
   "id": "831eb6e7-64eb-4b96-8397-966e2044bd00",
   "metadata": {
    "scrolled": true
   },
   "outputs": [
    {
     "name": "stdout",
     "output_type": "stream",
     "text": [
      "Requirement already satisfied: pyinstaller in c:\\users\\user\\anaconda3\\lib\\site-packages (6.9.0)\n",
      "Requirement already satisfied: setuptools>=42.0.0 in c:\\users\\user\\anaconda3\\lib\\site-packages (from pyinstaller) (69.5.1)\n",
      "Requirement already satisfied: altgraph in c:\\users\\user\\anaconda3\\lib\\site-packages (from pyinstaller) (0.17.4)\n",
      "Requirement already satisfied: pyinstaller-hooks-contrib>=2024.7 in c:\\users\\user\\anaconda3\\lib\\site-packages (from pyinstaller) (2024.7)\n",
      "Requirement already satisfied: packaging>=22.0 in c:\\users\\user\\appdata\\roaming\\python\\python312\\site-packages (from pyinstaller) (24.1)\n",
      "Requirement already satisfied: pefile>=2022.5.30 in c:\\users\\user\\anaconda3\\lib\\site-packages (from pyinstaller) (2023.2.7)\n",
      "Requirement already satisfied: pywin32-ctypes>=0.2.1 in c:\\users\\user\\anaconda3\\lib\\site-packages (from pyinstaller) (0.2.2)\n"
     ]
    }
   ],
   "source": [
    "!pip install pyinstaller"
   ]
  },
  {
   "cell_type": "code",
   "execution_count": 25,
   "id": "3f3fe6f3-9f6d-482b-9321-92739737f9ce",
   "metadata": {},
   "outputs": [
    {
     "name": "stdout",
     "output_type": "stream",
     "text": [
      "Requirement already satisfied: numpy in c:\\users\\user\\anaconda3\\lib\\site-packages (1.26.4)\n"
     ]
    }
   ],
   "source": [
    "!pip install numpy"
   ]
  },
  {
   "cell_type": "code",
   "execution_count": 27,
   "id": "6270cfbd-6918-44c0-b276-03831994212e",
   "metadata": {},
   "outputs": [
    {
     "name": "stdout",
     "output_type": "stream",
     "text": [
      "Requirement already satisfied: seaborn in c:\\users\\user\\anaconda3\\lib\\site-packages (0.13.2)\n",
      "Requirement already satisfied: numpy!=1.24.0,>=1.20 in c:\\users\\user\\anaconda3\\lib\\site-packages (from seaborn) (1.26.4)\n",
      "Requirement already satisfied: pandas>=1.2 in c:\\users\\user\\anaconda3\\lib\\site-packages (from seaborn) (2.2.2)\n",
      "Requirement already satisfied: matplotlib!=3.6.1,>=3.4 in c:\\users\\user\\anaconda3\\lib\\site-packages (from seaborn) (3.8.4)\n",
      "Requirement already satisfied: contourpy>=1.0.1 in c:\\users\\user\\anaconda3\\lib\\site-packages (from matplotlib!=3.6.1,>=3.4->seaborn) (1.2.0)\n",
      "Requirement already satisfied: cycler>=0.10 in c:\\users\\user\\anaconda3\\lib\\site-packages (from matplotlib!=3.6.1,>=3.4->seaborn) (0.11.0)\n",
      "Requirement already satisfied: fonttools>=4.22.0 in c:\\users\\user\\anaconda3\\lib\\site-packages (from matplotlib!=3.6.1,>=3.4->seaborn) (4.51.0)\n",
      "Requirement already satisfied: kiwisolver>=1.3.1 in c:\\users\\user\\anaconda3\\lib\\site-packages (from matplotlib!=3.6.1,>=3.4->seaborn) (1.4.4)\n",
      "Requirement already satisfied: packaging>=20.0 in c:\\users\\user\\appdata\\roaming\\python\\python312\\site-packages (from matplotlib!=3.6.1,>=3.4->seaborn) (24.1)\n",
      "Requirement already satisfied: pillow>=8 in c:\\users\\user\\anaconda3\\lib\\site-packages (from matplotlib!=3.6.1,>=3.4->seaborn) (10.3.0)\n",
      "Requirement already satisfied: pyparsing>=2.3.1 in c:\\users\\user\\anaconda3\\lib\\site-packages (from matplotlib!=3.6.1,>=3.4->seaborn) (3.0.9)\n",
      "Requirement already satisfied: python-dateutil>=2.7 in c:\\users\\user\\appdata\\roaming\\python\\python312\\site-packages (from matplotlib!=3.6.1,>=3.4->seaborn) (2.9.0.post0)\n",
      "Requirement already satisfied: pytz>=2020.1 in c:\\users\\user\\anaconda3\\lib\\site-packages (from pandas>=1.2->seaborn) (2024.1)\n",
      "Requirement already satisfied: tzdata>=2022.7 in c:\\users\\user\\anaconda3\\lib\\site-packages (from pandas>=1.2->seaborn) (2023.3)\n",
      "Requirement already satisfied: six>=1.5 in c:\\users\\user\\appdata\\roaming\\python\\python312\\site-packages (from python-dateutil>=2.7->matplotlib!=3.6.1,>=3.4->seaborn) (1.16.0)\n"
     ]
    }
   ],
   "source": [
    "!pip install seaborn"
   ]
  },
  {
   "cell_type": "code",
   "execution_count": 29,
   "id": "3ad4a557-8074-4f78-8f4b-73fa8dfc4fcf",
   "metadata": {},
   "outputs": [
    {
     "name": "stdout",
     "output_type": "stream",
     "text": [
      "Collecting folium\n",
      "  Downloading folium-0.17.0-py2.py3-none-any.whl.metadata (3.8 kB)\n",
      "Collecting branca>=0.6.0 (from folium)\n",
      "  Downloading branca-0.7.2-py3-none-any.whl.metadata (1.5 kB)\n",
      "Requirement already satisfied: jinja2>=2.9 in c:\\users\\user\\anaconda3\\lib\\site-packages (from folium) (3.1.4)\n",
      "Requirement already satisfied: numpy in c:\\users\\user\\anaconda3\\lib\\site-packages (from folium) (1.26.4)\n",
      "Requirement already satisfied: requests in c:\\users\\user\\anaconda3\\lib\\site-packages (from folium) (2.32.2)\n",
      "Requirement already satisfied: xyzservices in c:\\users\\user\\anaconda3\\lib\\site-packages (from folium) (2022.9.0)\n",
      "Requirement already satisfied: MarkupSafe>=2.0 in c:\\users\\user\\anaconda3\\lib\\site-packages (from jinja2>=2.9->folium) (2.1.3)\n",
      "Requirement already satisfied: charset-normalizer<4,>=2 in c:\\users\\user\\anaconda3\\lib\\site-packages (from requests->folium) (2.0.4)\n",
      "Requirement already satisfied: idna<4,>=2.5 in c:\\users\\user\\anaconda3\\lib\\site-packages (from requests->folium) (3.7)\n",
      "Requirement already satisfied: urllib3<3,>=1.21.1 in c:\\users\\user\\anaconda3\\lib\\site-packages (from requests->folium) (2.2.2)\n",
      "Requirement already satisfied: certifi>=2017.4.17 in c:\\users\\user\\anaconda3\\lib\\site-packages (from requests->folium) (2024.7.4)\n",
      "Downloading folium-0.17.0-py2.py3-none-any.whl (108 kB)\n",
      "   ---------------------------------------- 0.0/108.4 kB ? eta -:--:--\n",
      "   -------------- ------------------------ 41.0/108.4 kB 991.0 kB/s eta 0:00:01\n",
      "   ---------------------------------------- 108.4/108.4 kB 2.1 MB/s eta 0:00:00\n",
      "Downloading branca-0.7.2-py3-none-any.whl (25 kB)\n",
      "Installing collected packages: branca, folium\n",
      "Successfully installed branca-0.7.2 folium-0.17.0\n"
     ]
    }
   ],
   "source": [
    "!Pip install folium"
   ]
  },
  {
   "cell_type": "code",
   "execution_count": 9,
   "id": "0789a484-10f6-4227-97a7-5649d556e0ff",
   "metadata": {},
   "outputs": [
    {
     "name": "stdout",
     "output_type": "stream",
     "text": [
      "반지름:10\n",
      "원의 면적: 314.16\n",
      "원주의 길이: 62.83\n"
     ]
    }
   ],
   "source": [
    "# Q 9-1 객체지향 원의 면적과 원주\n",
    "# 반지름: 10 \n",
    "# 원의 면적 : 314.16 \n",
    "# 원주의 길이 : 62.83\n",
    "import math\n",
    "class Circle:\n",
    "    def __init__(self,radius):\n",
    "        self.radius = radius\n",
    "    def getArea(self):\n",
    "        area = math.pi* self.radius * self.radius\n",
    "        return area\n",
    "    def getCircum(self):\n",
    "        circum = 2 * math.pi * self.radius\n",
    "        return circum\n",
    "cir = Circle(10)\n",
    "print('반지름:%d'% cir.radius)\n",
    "print('원의 면적: %.2f'% cir.getArea())\n",
    "print('원주의 길이: %.2f'% cir.getCircum())"
   ]
  },
  {
   "cell_type": "code",
   "execution_count": 3,
   "id": "b4b14f6e-a58f-4f61-9817-7a79b51852d2",
   "metadata": {},
   "outputs": [
    {
     "name": "stdout",
     "output_type": "stream",
     "text": [
      "3과목 합계와 평균\n",
      "이름: 김성윤\n",
      "국어: 85, 영어: 90, 수학: 83\n",
      "합계: 258, 평균: 86.0\n"
     ]
    }
   ],
   "source": [
    "# q9-2\n",
    "# - 3과목 합계와 평균 \n",
    "# 이름 : 김성윤\n",
    "# 국어 : 85, 영어 : 90, 수학 : 83 \n",
    "# 합계 : 258, 평균 : 86.0\n",
    "class sumavg:\n",
    "    title = '3과목 합계와 평균' # class 변수: class 내 모든 객체가 공유\n",
    "    def __init__(self, name, kor, eng, math):\n",
    "        self.name = name  #instance 변수: \n",
    "        self.kor = kor  #instance 변수: \n",
    "        self.eng = eng  #instance 변수: \n",
    "        self.math = math  #instance 변수: \n",
    "    def getsum(self):\n",
    "        sum = self.kor + self.eng + self.math\n",
    "        return sum\n",
    "    # def getavg(self):\n",
    "    #     return self.getsum() / 3\n",
    "s1 = sumavg('김성윤', 85, 90, 83)\n",
    "print(sumavg.title) # ==(s1.title)\n",
    "print('이름: %s'%s1.name)\n",
    "print('국어: %d, 영어: %d, 수학: %d'%(s1.kor, s1.eng, s1.math))\n",
    "print('합계: %d, 평균: %.1f'%(s1.getsum(),s1.getsum()/3)) # s1.getsun()/3 == s1.getavg()"
   ]
  },
  {
   "cell_type": "code",
   "execution_count": 7,
   "id": "290cb2bc-71e0-4147-a473-b1d94e5c5b57",
   "metadata": {
    "scrolled": true
   },
   "outputs": [
    {
     "name": "stdin",
     "output_type": "stream",
     "text": [
      "첫 번째 수를 입력하시오:  10\n",
      "두 번째 수를 입력하시오:  20\n"
     ]
    },
    {
     "name": "stdout",
     "output_type": "stream",
     "text": [
      "10 - 20 = -10\n",
      "10 / 20 = 0.5\n"
     ]
    }
   ],
   "source": [
    "# q9-3\n",
    "# 첫번째 수를 입력하세요 : 10 \n",
    "# 두번째 수를 입력하세요 : 20 \n",
    "# 10 - 20 = -10\n",
    "# 10 / 20 = 0.5\n",
    "class calculator:\n",
    "    def __init__(self,num1,num2):\n",
    "        calculator.num1 = num1\n",
    "        calculator.num2 = num2\n",
    "    def add(self):\n",
    "        return self.num1 + self.num2\n",
    "    def sub(self):\n",
    "        return self.num1 - self.num2\n",
    "    def mul(self):\n",
    "        return self.num1 * self.num2\n",
    "    def mul(self):\n",
    "        return self.num1 / self.num2\n",
    "a = int(input('첫 번째 수를 입력하시오: '))\n",
    "b = int(input('두 번째 수를 입력하시오: '))\n",
    "cal1 = calculator(a,b)\n",
    "print('%d - %d = %d' %(a, b, cal1.sub())) # == ('{} - {} = {}' .format(a, b, cal1.sub()) == (f'{a} - {b} = {cal1.sub()}')\n",
    "print('%d / %d = %.1f' %(a, b, cal1.mul()))"
   ]
  },
  {
   "cell_type": "code",
   "execution_count": 18,
   "id": "4af56b0c-770f-4755-ac39-48f83e6361bb",
   "metadata": {},
   "outputs": [
    {
     "name": "stdout",
     "output_type": "stream",
     "text": [
      "성명: 김지혜\n",
      "이메일: rubato@hanmail.com\n",
      "전화번호: 010-1234-4567\n"
     ]
    }
   ],
   "source": [
    "# q9-4\n",
    "# 성명 : 김지혜\n",
    "# 이메일 : rubato@hanmail.net \n",
    "# 전화번호 : 010-1234-4567\n",
    "class person:\n",
    "        def __init__(self,info):\n",
    "            self.info = info\n",
    "        def getname(self):\n",
    "            return self.info[0]\n",
    "        def getemail(self):\n",
    "            return self.info[1]\n",
    "        def getphonenum(self):\n",
    "            return self.info[2]\n",
    "info = ['김지혜', 'rubato@hanmail.com', '010-1234-4567']\n",
    "person = person(info)\n",
    "print('성명: %s'% person.getname())\n",
    "print('이메일: %s'% person.getemail())\n",
    "print('전화번호: %s'% person.getphonenum())"
   ]
  },
  {
   "cell_type": "code",
   "execution_count": 7,
   "id": "6c0fe0fe-3deb-40b0-b204-34ce910c156e",
   "metadata": {},
   "outputs": [
    {
     "name": "stdout",
     "output_type": "stream",
     "text": [
      "역순 : !snoipmahc eht era eW\n",
      "하이픈(-) 삽입 : We-are-the-champions!\n"
     ]
    }
   ],
   "source": [
    "# Q9-5 객체지향 문자열 다루기\n",
    "# 역순 : !snoipmahc eht era eW \n",
    "# 하이픈(-) 삽입 : We-are-the-champions!\n",
    "class EngSentence :\n",
    "    def __init__(self, sentence) :\n",
    "        self.sentence = sentence\n",
    "        self.length = len(self.sentence)\n",
    "    def reverse(self) :\n",
    "        tmp = '' # 빈 문자열로 초기화\n",
    "        for i in range(self.length) : \n",
    "            tmp += (self.sentence[self.length - i - 1])  # 역순 정렬\n",
    "        return tmp \n",
    "    def insertHypen(self) :\n",
    "        tmp = ''\n",
    "        for i in range(self.length) :\n",
    "            if self.sentence[i] == ' ' : # 공백일 때 '-'추가\n",
    "                tmp += '-'\n",
    "            else :\n",
    "                tmp += self.sentence[i] # 공백이 아닐떄 문자 추가\n",
    "        return tmp\n",
    "a = 'We are the champions!' \n",
    "eng1 = EngSentence(a) \n",
    "print('역순 : %s' % eng1.reverse()) \n",
    "print('하이픈(-) 삽입 : %s' % eng1.insertHypen())"
   ]
  }
 ],
 "metadata": {
  "kernelspec": {
   "display_name": "Python 3 (ipykernel)",
   "language": "python",
   "name": "python3"
  },
  "language_info": {
   "codemirror_mode": {
    "name": "ipython",
    "version": 3
   },
   "file_extension": ".py",
   "mimetype": "text/x-python",
   "name": "python",
   "nbconvert_exporter": "python",
   "pygments_lexer": "ipython3",
   "version": "3.12.4"
  }
 },
 "nbformat": 4,
 "nbformat_minor": 5
}
