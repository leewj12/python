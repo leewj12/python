{
 "cells": [
  {
   "cell_type": "code",
   "execution_count": 113,
   "id": "4b0c12b6-7377-4be4-9c43-efd94f210aff",
   "metadata": {},
   "outputs": [
    {
     "name": "stdin",
     "output_type": "stream",
     "text": [
      "6 자리 수 입력:  234567\n"
     ]
    },
    {
     "name": "stdout",
     "output_type": "stream",
     "text": [
      "Baby Gin\n"
     ]
    }
   ],
   "source": [
    "# Baby-gin Game\n",
    "# 설명\n",
    "# 0~9 사이의 숫자 카드에서 임의의 카드 6장을 뽑았을 때, 3장의 카드가\n",
    "# 연속적인 번호를 갖는 경우를 run이라 하고, 3장의 카드가 동일한 번호를 갖는 경우를 triplet이라고 한다.\n",
    "# 그리고, 6장의 카드가 run과 triplet로맊 구성된 경우를 baby-gin으로 부른다.\n",
    "# 6자리의 숫자를 입력 받아 baby-gin 여부를 판단하는 프로그램을 작성하라.\n",
    "i = 0  # 인덱스\n",
    "inp = int(input(\"6 자리 수 입력: \"))  # 6자리 수 입력\n",
    "tri = 0  # triplet의 출현 개수\n",
    "run = 0  # run의 출현 개수\n",
    "c = [0] * 12# 6자리 수로부터 각 자리 수를 추출하여 개수를 누적할 배열\n",
    "while i < 6:# 각 자리 숫자의 개수 조사\n",
    "    c[inp % 10] += 1  # 자리수에 해당하는 숫자의 개수를 증가시킴\n",
    "    inp //= 10  # 다음 자리 수로 이동\n",
    "    i += 1\n",
    "i = 0  # 인덱스 초기화 \n",
    "while i < 10:   # triplet과 run 조사\n",
    "    if c[i] >= 3:  # triplet 조사 후 데이터 삭제\n",
    "        c[i] -= 3\n",
    "        tri += 1\n",
    "        continue\n",
    "    if i <= 7 and c[i] >= 1 and c[i + 1] >= 1 and c[i + 2] >= 1:  # run 조사 후 데이터 삭제\n",
    "        c[i] -= 1\n",
    "        c[i + 1] -= 1\n",
    "        c[i + 2] -= 1\n",
    "        run += 1\n",
    "        continue\n",
    "    i += 1\n",
    "# 결과 출력\n",
    "if run + tri == 2:\n",
    "    print(\"Baby Gin\")\n",
    "else:\n",
    "    print(\"lose\")"
   ]
  },
  {
   "cell_type": "code",
   "execution_count": 4,
   "id": "1b9d14dd-7992-4ce1-a7d7-2899e78d190f",
   "metadata": {
    "scrolled": true
   },
   "outputs": [
    {
     "name": "stdout",
     "output_type": "stream",
     "text": [
      "Sorted list is: [11, 12, 22, 25, 34, 64, 90]\n"
     ]
    }
   ],
   "source": [
    "# BubbleSort(a[], n) // 정렬할 배열 // 배열의 크기\n",
    "#     for i from n-1 to 0 decreasin by 1 {\n",
    "#         for j from 0 to i {\n",
    "#             if (a[j]>a[j+1]) then{\n",
    "#                 temp ← a[j];\n",
    "#                 a[j] ← a[j+1];\n",
    "#                 a[j+1] ← temp;\n",
    "# }\n",
    "# }\n",
    "# }\n",
    "# end BubbleSort\n",
    "#-------------------------------------------------------\n",
    "def bubble_sort(lst):\n",
    "    n = len(lst)\n",
    "    for i in range(n):\n",
    "        for j in range(0, n-i-1):\n",
    "            if lst[j] > lst[j+1]:\n",
    "                lst[j], lst[j+1] = lst[j+1], lst[j]  # 두 요소의 위치를 교환\n",
    "# 예제 리스트\n",
    "lst = [64, 34, 25, 12, 22, 11, 90]\n",
    "# 정렬 함수 호출\n",
    "bubble_sort(lst)\n",
    "# 정렬된 리스트 출력\n",
    "print(\"Sorted list is:\", lst)"
   ]
  },
  {
   "cell_type": "code",
   "execution_count": 32,
   "id": "3ddbd0ec-72c6-4d52-b0d0-1d15a40d1ea9",
   "metadata": {},
   "outputs": [
    {
     "name": "stdin",
     "output_type": "stream",
     "text": [
      "정렬할 배열을 띄어쓰기로 구분하여 입력 1 4 3 2 1 5\n"
     ]
    },
    {
     "name": "stdout",
     "output_type": "stream",
     "text": [
      "bubble sort list:  [1, 1, 2, 3, 4, 5]\n"
     ]
    }
   ],
   "source": [
    "l = list(map(int,input('정렬할 배열을 띄어쓰기로 구분하여 입력').split()))\n",
    "def bubblesort(l):\n",
    "    n = len(l)\n",
    "    for i in range(n-1,0,-1):\n",
    "        for j in range(i):\n",
    "            if l[j] > l[j+1]:\n",
    "                temp = l[j]\n",
    "                l[j] = l[j+1]\n",
    "                l[j+1] = temp # == l[j], l[j+1] = l[j+1], l[j]\n",
    "bubblesort(l)\n",
    "print('bubble sort list: ',l)"
   ]
  },
  {
   "cell_type": "code",
   "execution_count": 51,
   "id": "a6e5c888-5e03-4389-95f4-f0f6e524962b",
   "metadata": {
    "scrolled": true
   },
   "outputs": [
    {
     "name": "stdout",
     "output_type": "stream",
     "text": [
      "[1, 2, 2, 3, 3, 4, 8]\n"
     ]
    }
   ],
   "source": [
    "# Counting_Sort(A, B, k)\n",
    "# # // A [1 .. n] -- 입력 배열(1 to k)\n",
    "# # // B [1 .. n] -- 정렬된 배열.\n",
    "# # // C [1 .. k] -- 카운트 배열.\n",
    "# for i = 1 to k do\n",
    "#     C[i] = 0\n",
    "# for j = 1 to n do\n",
    "#     C[A[j]] = C[A[j]]+1\n",
    "# for i = 2 to k do\n",
    "#     C[i] = C[i] + C[i-1]\n",
    "# for j = n to 1 do\n",
    "#     B[C[A[j]]] = A[j]\n",
    "#     C[A[j]] = C[A[j]] - 1\n",
    "#--------------------------------------------\n",
    "def counting_sort(A, k): # A는 입력 배열이고, k는 배열의 최대 값입니다.\n",
    "    n = len(A)\n",
    "    B = [0] * n  # 정렬된 결과를 저장할 배열\n",
    "    C = [0] * (k + 1)  # 카운트 배열 (인덱스 0부터 k까지)\n",
    "    for j in range(n):   # 1단계: 각 요소의 빈도수를 계산합니다.\n",
    "        C[A[j]] += 1\n",
    "    for i in range(1, k + 1):  # 2단계: 카운트 배열을 이용해 각 요소의 최종 위치를 계산합니다.\n",
    "        C[i] += C[i - 1]\n",
    "    for j in range(n - 1, -1, -1):  # 3단계: 입력 배열을 순회하며 정렬된 배열을 만듭니다.\n",
    "        B[C[A[j]] - 1] = A[j]\n",
    "        C[A[j]] -= 1\n",
    "    return B\n",
    "# 사용 예시\n",
    "A = [4, 2, 2, 8, 3, 3, 1]\n",
    "k = max(A)  # 배열 A의 최대값을 k로 설정\n",
    "sorted_A = counting_sort(A, k)\n",
    "print(sorted_A)  # 출력: [1, 2, 2, 3, 3, 4, 8]"
   ]
  },
  {
   "cell_type": "code",
   "execution_count": null,
   "id": "a3b15958-e867-4057-9570-310c0975b446",
   "metadata": {},
   "outputs": [],
   "source": [
    "a = list(map(int,input('정렬할 배열을 띄어쓰기로 구분하여 입력').split()))\n",
    "b = [0] * (n)\n",
    "c = [0] * (k+1)\n",
    "k = max(a)\n",
    "n = len(a)"
   ]
  },
  {
   "cell_type": "code",
   "execution_count": 39,
   "id": "15d5bdc3-1e39-4f61-8372-8725fde7d636",
   "metadata": {},
   "outputs": [
    {
     "name": "stdout",
     "output_type": "stream",
     "text": [
      "0\n",
      "1\n",
      "2\n"
     ]
    }
   ],
   "source": [
    "for i in range(3):\n",
    "    if i %2 ==0:\n",
    "        pass\n",
    "    print(i)"
   ]
  },
  {
   "cell_type": "code",
   "execution_count": 37,
   "id": "0790b0b1-0a17-495e-aca0-c65bc523c509",
   "metadata": {},
   "outputs": [
    {
     "name": "stdout",
     "output_type": "stream",
     "text": [
      "0\n",
      "2\n"
     ]
    }
   ],
   "source": [
    "for i in range(3):\n",
    "    if i %2 !=0:\n",
    "        continue\n",
    "    print(i)"
   ]
  }
 ],
 "metadata": {
  "kernelspec": {
   "display_name": "Python 3 (ipykernel)",
   "language": "python",
   "name": "python3"
  },
  "language_info": {
   "codemirror_mode": {
    "name": "ipython",
    "version": 3
   },
   "file_extension": ".py",
   "mimetype": "text/x-python",
   "name": "python",
   "nbconvert_exporter": "python",
   "pygments_lexer": "ipython3",
   "version": "3.12.4"
  }
 },
 "nbformat": 4,
 "nbformat_minor": 5
}
