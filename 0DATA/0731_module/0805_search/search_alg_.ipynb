{
 "cells": [
  {
   "cell_type": "code",
   "execution_count": 41,
   "id": "d70392b1-2d3b-41fb-98f6-d2a90c663a40",
   "metadata": {
    "scrolled": true
   },
   "outputs": [
    {
     "name": "stdout",
     "output_type": "stream",
     "text": [
      "[3, 4, 5, 6, 7, 9, 12, 15, 19, 20, 23, 24, 25, 26, 27, 29, 30, 31, 33, 36, 39, 41, 43, 44, 45, 46, 47, 49, 50, 57, 58, 61, 62, 64, 65, 68, 72, 75, 78, 79, 80, 81, 82, 84, 87, 89, 91, 96, 97, 100]\n",
      "[2, 3, 6, 9, 10, 13, 13, 15, 17, 19, 21, 22, 23, 25, 25, 32, 33, 34, 34, 35, 40, 42, 46, 49, 50, 51, 54, 55, 55, 57, 57, 65, 66, 67, 68, 70, 72, 77, 78, 78, 84, 86, 87, 89, 95, 95, 96, 96, 98, 99]\n"
     ]
    }
   ],
   "source": [
    "# data 리스트에 1~100 사이의 랜덤한 값으로 50개를 채우세요\n",
    "\n",
    "import random\n",
    "data = random.sample(range(1,101),50) # 중복 없음 = 비복원 추출\n",
    "data_double = random.choices(range(1,101),k = 50) # 중복 허용 = 복원 \n",
    "\n",
    "data.sort()\n",
    "data_double.sort()\n",
    "\n",
    "print(data)\n",
    "print(data_double)"
   ]
  },
  {
   "cell_type": "code",
   "execution_count": 127,
   "id": "57cbc131-15c1-45b8-85bc-07a6a5e73256",
   "metadata": {
    "scrolled": true
   },
   "outputs": [
    {
     "name": "stdout",
     "output_type": "stream",
     "text": [
      "원본 데이터\n",
      "[89, 96, 58, 1, 13, 85, 49, 47, 12, 20, 56, 52, 84, 36, 38, 82, 25, 39, 32, 4, 88, 83, 9, 75, 21, 76, 27, 95, 3, 51, 16, 35, 50, 44, 24, 22, 48, 67, 55, 11, 53, 10, 65, 17, 91, 43, 31, 30, 63, 64]\n"
     ]
    },
    {
     "name": "stdin",
     "output_type": "stream",
     "text": [
      "찾고자 하는 값을 입력하세요(1~100):  64\n"
     ]
    },
    {
     "name": "stdout",
     "output_type": "stream",
     "text": [
      "1번째 검색\n",
      "2번째 검색\n",
      "3번째 검색\n",
      "4번째 검색\n",
      "5번째 검색\n",
      "6번째 검색\n",
      "7번째 검색\n",
      "8번째 검색\n",
      "9번째 검색\n",
      "10번째 검색\n",
      "11번째 검색\n",
      "12번째 검색\n",
      "13번째 검색\n",
      "14번째 검색\n",
      "15번째 검색\n",
      "16번째 검색\n",
      "17번째 검색\n",
      "18번째 검색\n",
      "19번째 검색\n",
      "20번째 검색\n",
      "21번째 검색\n",
      "22번째 검색\n",
      "23번째 검색\n",
      "24번째 검색\n",
      "25번째 검색\n",
      "26번째 검색\n",
      "27번째 검색\n",
      "28번째 검색\n",
      "29번째 검색\n",
      "30번째 검색\n",
      "31번째 검색\n",
      "32번째 검색\n",
      "33번째 검색\n",
      "34번째 검색\n",
      "35번째 검색\n",
      "36번째 검색\n",
      "37번째 검색\n",
      "38번째 검색\n",
      "39번째 검색\n",
      "40번째 검색\n",
      "41번째 검색\n",
      "42번째 검색\n",
      "43번째 검색\n",
      "44번째 검색\n",
      "45번째 검색\n",
      "46번째 검색\n",
      "47번째 검색\n",
      "48번째 검색\n",
      "49번째 검색\n",
      "50번째 검색\n",
      "원하는 값 64는 49번째 인덱스에 위치하고 있습니다.\n"
     ]
    }
   ],
   "source": [
    "# search algorithm 구현하기\n",
    "import random\n",
    "data = random.sample(range(1,101),50) # 중복 없음 = 비복원 추출\n",
    "print('원본 데이터')\n",
    "print(data)\n",
    "\n",
    "# 1. sequential search 알고리즘 구현: 정렬되지 않은 상태에서 값 찾기\n",
    "key = int(input('찾고자 하는 값을 입력하세요(1~100): '))\n",
    "i = 0\n",
    "while (i < len(data) and data[i] != key):\n",
    "    i += 1\n",
    "    print('%d번째 검색'%(i))\n",
    "if i < len(data):\n",
    "    print('%d번째 검색'%(i+1))\n",
    "    print('원하는 값 %d는 %d번째 인덱스에 위치하고 있습니다.'%(key, i))\n",
    "else:\n",
    "    print('원하는 값 %d는 data리스트에 존재하지 않습니다.'%(key))"
   ]
  },
  {
   "cell_type": "code",
   "execution_count": 161,
   "id": "821fcfb6-a029-418a-a934-09e25355c30d",
   "metadata": {
    "scrolled": true
   },
   "outputs": [
    {
     "name": "stdout",
     "output_type": "stream",
     "text": [
      "원본 데이터\n",
      "[46, 98, 88, 86, 69, 3, 89, 20, 27, 96, 81, 41, 10, 71, 12, 57, 76, 54, 29, 25, 35, 68, 99, 9, 50, 18, 66, 38, 83, 11, 58, 78, 23, 2, 31, 82, 4, 37, 74, 52, 62, 34, 94, 56, 14, 67, 6, 42, 61, 48]\n"
     ]
    },
    {
     "name": "stdin",
     "output_type": "stream",
     "text": [
      "찾고자 하는 값을 입력하세요(1~100):  101\n"
     ]
    },
    {
     "name": "stdout",
     "output_type": "stream",
     "text": [
      "1번째 검색\n",
      "2번째 검색\n",
      "3번째 검색\n",
      "4번째 검색\n",
      "5번째 검색\n",
      "6번째 검색\n",
      "7번째 검색\n",
      "8번째 검색\n",
      "9번째 검색\n",
      "10번째 검색\n",
      "11번째 검색\n",
      "12번째 검색\n",
      "13번째 검색\n",
      "14번째 검색\n",
      "15번째 검색\n",
      "16번째 검색\n",
      "17번째 검색\n",
      "18번째 검색\n",
      "19번째 검색\n",
      "20번째 검색\n",
      "21번째 검색\n",
      "22번째 검색\n",
      "23번째 검색\n",
      "24번째 검색\n",
      "25번째 검색\n",
      "26번째 검색\n",
      "27번째 검색\n",
      "28번째 검색\n",
      "29번째 검색\n",
      "30번째 검색\n",
      "31번째 검색\n",
      "32번째 검색\n",
      "33번째 검색\n",
      "34번째 검색\n",
      "35번째 검색\n",
      "36번째 검색\n",
      "37번째 검색\n",
      "38번째 검색\n",
      "39번째 검색\n",
      "40번째 검색\n",
      "41번째 검색\n",
      "42번째 검색\n",
      "43번째 검색\n",
      "44번째 검색\n",
      "45번째 검색\n",
      "46번째 검색\n",
      "47번째 검색\n",
      "48번째 검색\n",
      "49번째 검색\n",
      "50번째 검색\n",
      "원하는 값 101는 data리스트에 존재하지 않습니다.\n"
     ]
    }
   ],
   "source": [
    "import random\n",
    "data = random.sample(range(1,101),50) # 중복 없음 = 비복원 추출\n",
    "print('원본 데이터')\n",
    "print(data)\n",
    "key = int(input('찾고자 하는 값을 입력하세요(1~100): '))\n",
    "i = 0\n",
    "for i in range(len(data)):\n",
    "    if data[i] == key:\n",
    "        i += 1\n",
    "        print('%d번째 검색'%(i))\n",
    "        print('원하는 값 %d는 %d번째 인덱스에 위치하고 있습니다.'%(key, i))\n",
    "        break\n",
    "    else:\n",
    "        i += 1\n",
    "        print('%d번째 검색'%(i))\n",
    "            \n",
    "if i == 50 and data[len(data)-1] != key:\n",
    "    print('원하는 값 %d는 data리스트에 존재하지 않습니다.'%(key))"
   ]
  },
  {
   "cell_type": "code",
   "execution_count": 155,
   "id": "815d66ba-a671-4be4-9d30-1603abcc0a01",
   "metadata": {
    "scrolled": true
   },
   "outputs": [
    {
     "name": "stdout",
     "output_type": "stream",
     "text": [
      "원본 데이터\n",
      "[76, 16, 22, 25, 96, 47, 4, 56, 71, 24, 49, 70, 9, 57, 89, 90, 61, 12, 75, 78, 48, 60, 37, 66, 11, 74, 32, 21, 72, 67, 77, 87, 45, 40, 83, 15, 44, 19, 27, 88, 86, 65, 54, 29, 8, 59, 23, 35, 34, 80]\n",
      "정렬된 데이터\n",
      "[4, 8, 9, 11, 12, 15, 16, 19, 21, 22, 23, 24, 25, 27, 29, 32, 34, 35, 37, 40, 44, 45, 47, 48, 49, 54, 56, 57, 59, 60, 61, 65, 66, 67, 70, 71, 72, 74, 75, 76, 77, 78, 80, 83, 86, 87, 88, 89, 90, 96]\n"
     ]
    },
    {
     "name": "stdin",
     "output_type": "stream",
     "text": [
      "찾고자 하는 값을 입력하세요(1-100) :  15\n"
     ]
    },
    {
     "name": "stdout",
     "output_type": "stream",
     "text": [
      "1 번째 검색\n",
      "2 번째 검색\n",
      "3 번째 검색\n",
      "4 번째 검색\n",
      "5 번째 검색\n",
      "6 번째 검색\n",
      "원하는 값 15는 5번 인덱스에 위치하고 있습니다.\n"
     ]
    }
   ],
   "source": [
    "import random\n",
    "data = random.sample(range(1,101),50)          # 중복 없음 = 비복원 추출\n",
    "print(\"원본 데이터\")\n",
    "print(data)\n",
    "\n",
    "data.sort()        # 데이터 정렬\n",
    "print(\"정렬된 데이터\")\n",
    "print(data)\n",
    "# 2. sequential Search 알고리즘 구현 : 정렬된 상태에서 값을 찾기\n",
    "key = int(input(\"찾고자 하는 값을 입력하세요(1-100) : \"))\n",
    "i = 0\n",
    "while (i<len(data) and data[i] !=key) :\n",
    "    print(\"%d 번째 검색\"%(i+1))\n",
    "    i+=1  \n",
    "if i<len(data) :\n",
    "    print(\"%d 번째 검색\"%(i+1))\n",
    "    print(\"원하는 값 %d는 %d번 인덱스에 위치하고 있습니다.\"%(key, i))\n",
    "else :    \n",
    "    print(\"원하는 값 %d는 data 리스트에 존재하지 않습니다.\"%key)"
   ]
  },
  {
   "cell_type": "code",
   "execution_count": 200,
   "id": "eb4f89ce-41f7-4dde-8cc9-879248b67c33",
   "metadata": {
    "scrolled": true
   },
   "outputs": [
    {
     "name": "stdout",
     "output_type": "stream",
     "text": [
      "원본 데이터\n",
      "[5, 47, 90, 65, 93, 37, 21, 27, 69, 59, 84, 63, 12, 80, 54, 98, 48, 49, 15, 13, 38, 100, 2, 19, 94, 11, 23, 68, 51, 96, 32, 14, 75, 60, 78, 25, 18, 46, 9, 55, 28, 89, 77, 10, 76, 36, 41, 99, 71, 67]\n",
      "정렬된 데이터\n",
      "[2, 5, 9, 10, 11, 12, 13, 14, 15, 18, 19, 21, 23, 25, 27, 28, 32, 36, 37, 38, 41, 46, 47, 48, 49, 51, 54, 55, 59, 60, 63, 65, 67, 68, 69, 71, 75, 76, 77, 78, 80, 84, 89, 90, 93, 94, 96, 98, 99, 100]\n"
     ]
    },
    {
     "name": "stdin",
     "output_type": "stream",
     "text": [
      "찾고자 하는 값을 입력하세요(1-100) :  101\n"
     ]
    },
    {
     "name": "stdout",
     "output_type": "stream",
     "text": [
      "1 번째 검색\n",
      "middle data[24] = 49\n",
      "2 번째 검색\n",
      "middle data[37] = 76\n",
      "3 번째 검색\n",
      "middle data[43] = 90\n",
      "4 번째 검색\n",
      "middle data[46] = 96\n",
      "5 번째 검색\n",
      "middle data[48] = 99\n",
      "6 번째 검색\n",
      "middle data[49] = 100\n",
      "원하는 값 101는 data 리스트에 존재하지 않습니다.\n"
     ]
    }
   ],
   "source": [
    "import random\n",
    "data = random.sample(range(1,101),50)          # 중복 없음 = 비복원 추출\n",
    "print(\"원본 데이터\")\n",
    "print(data)\n",
    "\n",
    "data.sort()       # 데이터 정렬\n",
    "print(\"정렬된 데이터\")\n",
    "print(data)\n",
    "# 3. binary Search 알고리즘 구현 : 반드시 값이 정렬되어 있어야 함\n",
    "key = int(input(\"찾고자 하는 값을 입력하세요(1-100) : \"))\n",
    "start = 0\n",
    "end = len(data) - 1\n",
    "i = 0\n",
    "while (start <= end) :\n",
    "    middle = int((start + end) * 0.5)\n",
    "    print(\"%d 번째 검색\"%(i+1))\n",
    "    print('middle data[%d] = %d'%(middle,data[middle]))\n",
    "    if data[middle] == key:\n",
    "        print(\"원하는 값 %d는 %d번 인덱스에 위치하고 있습니다.\"%(key, middle))\n",
    "        break\n",
    "    elif data[middle] > key:\n",
    "        end = middle - 1\n",
    "    else:\n",
    "        start = middle + 1\n",
    "    i += 1\n",
    "\n",
    "if start <= end :    \n",
    "    print(\"검색 수행완료~!!\")\n",
    "else :    \n",
    "    print(\"원하는 값 %d는 data 리스트에 존재하지 않습니다.\"%key)"
   ]
  },
  {
   "cell_type": "code",
   "execution_count": 248,
   "id": "2073a02d-bcaf-425a-8432-ee4856c07f36",
   "metadata": {
    "scrolled": true
   },
   "outputs": [
    {
     "name": "stdout",
     "output_type": "stream",
     "text": [
      "Search Alogrithm을 활용한 키값 찾기 프로그램\n",
      "--------------------------------------------------\n",
      "원본 데이터\n",
      "[68, 33, 49, 47, 30, 46, 48, 77, 17, 95, 61, 10, 42, 66, 60, 2, 9, 1, 98, 100, 7, 80, 71, 34, 99, 81, 5, 89, 74, 53, 35, 23, 19, 70, 93, 67, 44, 51, 52, 32, 3, 37, 45, 56, 79, 13, 25, 12, 15, 41]\n",
      "정렬 데이터\n",
      "[1, 2, 3, 5, 7, 9, 10, 12, 13, 15, 17, 19, 23, 25, 30, 32, 33, 34, 35, 37, 41, 42, 44, 45, 46, 47, 48, 49, 51, 52, 53, 56, 60, 61, 66, 67, 68, 70, 71, 74, 77, 79, 80, 81, 89, 93, 95, 98, 99, 100]\n"
     ]
    },
    {
     "name": "stdin",
     "output_type": "stream",
     "text": [
      "찾고자 하는 값을 입력하세요(1-100) :  13\n"
     ]
    },
    {
     "name": "stdout",
     "output_type": "stream",
     "text": [
      "1 번째 검색\n",
      "2 번째 검색\n",
      "3 번째 검색\n",
      "4 번째 검색\n",
      "5 번째 검색\n",
      "6 번째 검색\n",
      "7 번째 검색\n",
      "8 번째 검색\n",
      "9 번째 검색\n",
      "10 번째 검색\n",
      "11 번째 검색\n",
      "12 번째 검색\n",
      "13 번째 검색\n",
      "14 번째 검색\n",
      "15 번째 검색\n",
      "16 번째 검색\n",
      "17 번째 검색\n",
      "18 번째 검색\n",
      "19 번째 검색\n",
      "20 번째 검색\n",
      "21 번째 검색\n",
      "22 번째 검색\n",
      "23 번째 검색\n",
      "24 번째 검색\n",
      "25 번째 검색\n",
      "26 번째 검색\n",
      "27 번째 검색\n",
      "28 번째 검색\n",
      "29 번째 검색\n",
      "30 번째 검색\n",
      "31 번째 검색\n",
      "32 번째 검색\n",
      "33 번째 검색\n",
      "34 번째 검색\n",
      "35 번째 검색\n",
      "36 번째 검색\n",
      "37 번째 검색\n",
      "38 번째 검색\n",
      "39 번째 검색\n",
      "40 번째 검색\n",
      "41 번째 검색\n",
      "42 번째 검색\n",
      "43 번째 검색\n",
      "44 번째 검색\n",
      "45 번째 검색\n",
      "46 번째 검색\n",
      "원하는 값 13는 45번 인덱스에 위치하고 있습니다.\n",
      "1 번째 검색\n",
      "2 번째 검색\n",
      "3 번째 검색\n",
      "4 번째 검색\n",
      "5 번째 검색\n",
      "6 번째 검색\n",
      "7 번째 검색\n",
      "8 번째 검색\n",
      "9 번째 검색\n",
      "원하는 값 13는 8번 인덱스에 위치하고 있습니다.\n",
      "1 번째 검색\n",
      "middle data[24] = 46\n",
      "2 번째 검색\n",
      "middle data[11] = 19\n",
      "3 번째 검색\n",
      "middle data[5] = 9\n",
      "4 번째 검색\n",
      "middle data[8] = 13\n",
      "원하는 값 13는 8번 인덱스에 위치하고 있습니다.\n",
      "검색 수행완료~!!\n",
      "1 번째 검색\n",
      "middle data[24] = 46\n",
      "2 번째 검색\n",
      "middle data[11] = 19\n",
      "3 번째 검색\n",
      "middle data[5] = 9\n",
      "4 번째 검색\n",
      "middle data[8] = 13\n",
      "원하는 값 13는 8번 인덱스에 위치하고 있습니다.\n"
     ]
    }
   ],
   "source": [
    "# Search Alogirthm 구현하기\n",
    "import random\n",
    "\n",
    "def initdata() :\n",
    "    data = random.sample(range(1,101),50)# 중복 없음 = 비복원 추출\n",
    "    print(\"원본 데이터\")\n",
    "    print(data)\n",
    "    return data\n",
    "\n",
    "def sortdata(data) :\n",
    "    data.sort()                          #랜덤 데이터를 정렬시킴\n",
    "    print(\"정렬 데이터\")\n",
    "    print(data)\n",
    "    return data\n",
    "\n",
    "# 1. sequential Search 알고리즘 구현 : 정렬되지 않은 상태 또는 정렬된 상태에서 값을 찾기\n",
    "def sequentialSearch(data, key) :\n",
    "    i=0    \n",
    "    while (i<len(data) and data[i] !=key) :\n",
    "        print(\"%d 번째 검색\"%(i+1))\n",
    "        i+=1  \n",
    "    if i<len(data) :\n",
    "        print(\"%d 번째 검색\"%(i+1))\n",
    "        print(\"원하는 값 %d는 %d번 인덱스에 위치하고 있습니다.\"%(key, i))\n",
    "    else :    \n",
    "        print(\"원하는 값 %d는 data 리스트에 존재하지 않습니다.\"%key)\n",
    "\n",
    "# 3. Binary Search 알고리즘 구현 (반드시 값이 정렬되어 있어야 함)\n",
    "def binarySearch(data, key) :         \n",
    "    start = 0\n",
    "    end = len(data)-1\n",
    "    \n",
    "    i=0\n",
    "    while (start<=end) :\n",
    "        middle = int((start+end)*0.5)\n",
    "        print(\"%d 번째 검색\"%(i+1))\n",
    "        print(\"middle data[%d] = %d\"%(middle, data[middle]))\n",
    "        if data[middle] == key :\n",
    "            print(\"원하는 값 %d는 %d번 인덱스에 위치하고 있습니다.\"%(key, middle)) \n",
    "            break   \n",
    "        elif data[middle] > key :\n",
    "            end = middle-1\n",
    "        else :\n",
    "            start = middle+1   \n",
    "        i+=1 \n",
    "        \n",
    "    if start <= end :    \n",
    "        print(\"검색 수행완료~!!\")\n",
    "    else :    \n",
    "        print(\"원하는 값 %d는 data 리스트에 존재하지 않습니다.\"%key)\n",
    "\n",
    "# 4. Recursive Binary Search 재귀함수로 알고리즘 구현 (반드시 값이 정렬되어 있어야 함)\n",
    "def binarySearch_rec(data, start, end, key) :\n",
    "    if start > end :\n",
    "        print(\"원하는 값 %d는 data 리스트에 존재하지 않습니다.\"%key)\n",
    "        return -1\n",
    "\n",
    "    global i\n",
    "    i += 1\n",
    "    middle = int((start+end) * 0.5)\n",
    "\n",
    "    print(\"%d 번째 검색\"%(i))\n",
    "    print(\"middle data[%d] = %d\"%(middle, data[middle]))\n",
    "\n",
    "    if data[middle] == key :\n",
    "        print(\"원하는 값 %d는 %d번 인덱스에 위치하고 있습니다.\"%(key, middle)) \n",
    "    elif data[middle] > key :\n",
    "        binarySearch_rec(data, start, middle-1, key)\n",
    "    else :\n",
    "        binarySearch_rec(data, middle+1, end, key)\n",
    "\n",
    "print(\"Search Alogrithm을 활용한 키값 찾기 프로그램\")\n",
    "print(\"-\"*50)\n",
    "\n",
    "maindata = initdata() # 랜덤값 50개 생성 리턴\n",
    "\n",
    "# mainSorted_data = sortdata(maindata) \n",
    "# 얕은 복사  maindata 원본의 주소를 넘겨서 mainSorted_data와 함께 값을 공유하게 됨\n",
    "\n",
    "mainSorted_data = sortdata(maindata.copy())  \n",
    "# 깊은 복사(내부적으로는 얕은복사) 의 예>  maindata[2:20], maindata.copy()\n",
    "# maindata 원본은 유지시키면서 깊은 복사로 sortdata()함수에 복사본을 매개변수를 넘김. \n",
    "# mainSorted_data 변수는  maindata와 다른 주소를 가짐\n",
    "# 정렬된 데이터 리스트를 리턴. \n",
    "\n",
    "key = int(input(\"찾고자 하는 값을 입력하세요(1-100) : \"))\n",
    "\n",
    "sequentialSearch(maindata, key) # 정렬되지 않은 데이터에 sequentialSearch\n",
    "sequentialSearch(mainSorted_data, key) # 정렬된 데이터에 sequentialSearch\n",
    "binarySearch(mainSorted_data, key) # 정렬된 데이터에 binarySearch\n",
    "i = 0\n",
    "binarySearch_rec(mainSorted_data, 0,len(mainSorted_data)-1,key)\n",
    "\n",
    "# 파이썬의 경우 copy(), 슬라이싱 모두 실제로는 깊은 복사를 흉내내는 얕은 복사를 수행하고 있음. \n",
    "# 따라서 \n",
    "# 리스트 내부까지 독립적인 깊은 복사를 지원하기 위해서 import copy 모듈의 copy.deepcopy() 함수를 지원하고 있습니다. "
   ]
  }
 ],
 "metadata": {
  "kernelspec": {
   "display_name": "Python 3 (ipykernel)",
   "language": "python",
   "name": "python3"
  },
  "language_info": {
   "codemirror_mode": {
    "name": "ipython",
    "version": 3
   },
   "file_extension": ".py",
   "mimetype": "text/x-python",
   "name": "python",
   "nbconvert_exporter": "python",
   "pygments_lexer": "ipython3",
   "version": "3.12.4"
  }
 },
 "nbformat": 4,
 "nbformat_minor": 5
}
