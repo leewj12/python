{
 "cells": [
  {
   "cell_type": "code",
   "execution_count": 5,
   "id": "55a74f88-32f1-4d26-a482-bf4a9970e58d",
   "metadata": {
    "scrolled": true
   },
   "outputs": [
    {
     "name": "stdout",
     "output_type": "stream",
     "text": [
      "년 : 2024\n",
      "월 : 7\n",
      "일 : 31\n",
      "시 : 10\n",
      "분 : 42\n",
      "초 : 31\n",
      "2024/07/31 10:42:31\n",
      "24-07-31 AM 10:42\n"
     ]
    }
   ],
   "source": [
    "# datetime 모듈\n",
    "from datetime import datetime \n",
    "today = datetime.now()\n",
    "print('년 : %s' % today.year)\n",
    "print('월 : %s' % today.month)\n",
    "print('일 : %s' % today.day)\n",
    "print('시 : %s' % today.hour)\n",
    "print('분 : %s' % today.minute)\n",
    "print('초 : %s' % today.second)\n",
    "print(today.strftime('%Y/%m/%d %H:%M:%S')) \n",
    "print(today.strftime('%y-%m-%d %p %I:%M'))"
   ]
  },
  {
   "cell_type": "code",
   "execution_count": 47,
   "id": "e6c99a07-45aa-4e64-953b-9cea002a91d8",
   "metadata": {},
   "outputs": [],
   "source": [
    "#객체지향의 예\n",
    "# class Calculator :\n",
    "#     def set(self, x, y) : \n",
    "#         self.first = x \n",
    "#         self.second = y\n",
    "#     def add(self) :\n",
    "#         result = self.first + self.second \n",
    "#         return resultː\n",
    "# cal1 = Calculator()\n",
    "# cal1.set(10,20)\n",
    "# print('%d + %d = %d' % (cal1.first, cal1.second, cal1.add()))\n",
    "# cal1.set(100, 200)\n",
    "# print('%d + %d = %d' % (cal1.first, cal1.second, cal1.add()))"
   ]
  },
  {
   "cell_type": "code",
   "execution_count": 45,
   "id": "d65e24c7-26a2-4ba3-a4f5-4e98b38eb1d6",
   "metadata": {
    "scrolled": true
   },
   "outputs": [
    {
     "name": "stdout",
     "output_type": "stream",
     "text": [
      "이름 : 홍지수\n",
      "나이 : 24\n",
      "이름 : 안지영\n",
      "나이 : 20\n"
     ]
    }
   ],
   "source": [
    "#생성자\n",
    "class Member :\n",
    "    def __init__(self, name, age) : \n",
    "        self.name = name\n",
    "        self.age = age\n",
    "    def showMember(self) : \n",
    "        print('이름 : %s' % self.name) \n",
    "        print('나이 : %d' % self.age)\n",
    "mem1 = Member('홍지수', 24)\n",
    "mem1.showMember()\n",
    "mem2 = Member('안지영', 20)\n",
    "mem2.showMember()"
   ]
  },
  {
   "cell_type": "code",
   "execution_count": 55,
   "id": "911aedc1-01de-492d-97d0-5af7617dd182",
   "metadata": {},
   "outputs": [
    {
     "name": "stdout",
     "output_type": "stream",
     "text": [
      "110\n",
      "130\n"
     ]
    }
   ],
   "source": [
    "# class 속성\n",
    "class MyClass :\n",
    "    number = 100     # 클래스 속성 \n",
    "    def inc_10(self): \n",
    "        MyClass.number += 10 \n",
    "    def inc_20(self): \n",
    "        MyClass.number += 20 \n",
    "obj1 = MyClass() \n",
    "obj1.inc_10()         \n",
    "print(obj1.number)\n",
    "obj2 = MyClass() \n",
    "obj2.inc_20()         \n",
    "print(obj2.number) "
   ]
  },
  {
   "cell_type": "code",
   "execution_count": null,
   "id": "db646f56-8be8-444e-8427-47ac318c9826",
   "metadata": {},
   "outputs": [],
   "source": []
  },
  {
   "cell_type": "code",
   "execution_count": null,
   "id": "0789a484-10f6-4227-97a7-5649d556e0ff",
   "metadata": {},
   "outputs": [],
   "source": []
  },
  {
   "cell_type": "code",
   "execution_count": null,
   "id": "beae2819-c6cd-400c-a2fb-83c8a4ad2099",
   "metadata": {},
   "outputs": [],
   "source": []
  },
  {
   "cell_type": "code",
   "execution_count": null,
   "id": "bf730842-7a6d-4580-8321-71fc5561c477",
   "metadata": {},
   "outputs": [],
   "source": []
  },
  {
   "cell_type": "code",
   "execution_count": null,
   "id": "4e0bc7a3-a6df-4a63-9a36-446b1b122b94",
   "metadata": {},
   "outputs": [],
   "source": []
  }
 ],
 "metadata": {
  "kernelspec": {
   "display_name": "Python 3 (ipykernel)",
   "language": "python",
   "name": "python3"
  },
  "language_info": {
   "codemirror_mode": {
    "name": "ipython",
    "version": 3
   },
   "file_extension": ".py",
   "mimetype": "text/x-python",
   "name": "python",
   "nbconvert_exporter": "python",
   "pygments_lexer": "ipython3",
   "version": "3.12.4"
  }
 },
 "nbformat": 4,
 "nbformat_minor": 5
}
