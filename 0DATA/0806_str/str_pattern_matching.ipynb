{
 "cells": [
  {
   "cell_type": "code",
   "execution_count": 17,
   "id": "ccc8a593-c952-42c7-831d-c1a30f222a18",
   "metadata": {
    "scrolled": true
   },
   "outputs": [
    {
     "name": "stdout",
     "output_type": "stream",
     "text": [
      "19|-1|  삶은 출근과 퇴근의 반복이다  |  삶은 출근과 퇴근의 반복이다  \n",
      "삶은 출근과 퇴근의 반복이다|  삶은 출근과 퇴근의 반복이다  |['삶은', '출근과', '퇴근의', '반복이다']\n"
     ]
    }
   ],
   "source": [
    "str = '  Life is good  '\n",
    "# str = '  삶은 출근과 퇴근의 반복이다  '\n",
    "ls = len(str) # 문자열 길이 구하기\n",
    "sf = str.find('i') # i 찾기 (인덱스값)\n",
    "su = str.upper() # 문자열 대문자로\n",
    "sl = str.lower() # 문자열 소문자로\n",
    "ss = str.strip() # 양쪽 공백 없애기\n",
    "sr = str.replace('good','Life') # good 을 bad 로 바꾸기\n",
    "ssp = str.split() # 문자열 나누기\n",
    "\n",
    "print(ls,sf,su,sl,sep='|')\n",
    "print(ss,sr,ssp,sep='|')"
   ]
  },
  {
   "cell_type": "code",
   "execution_count": 3,
   "id": "d943fb48-b5a4-4b01-a2ad-bd95590dc7f6",
   "metadata": {},
   "outputs": [
    {
     "name": "stdout",
     "output_type": "stream",
     "text": [
      "7\n"
     ]
    }
   ],
   "source": [
    "#고지식한 패턴 검색 알고리즘 brute force\n",
    "\n",
    "def bruteforce(t,p):\n",
    "    n = len(t) # 텍스트 길이\n",
    "    m = len(p) # 패턴 길이\n",
    "    i = j = 0 # 텍스트와 패턴의 인덱스 변수 초기화\n",
    "    while (i < n and j < m):\n",
    "        if t[i] != p[j]:\n",
    "            i = i - j\n",
    "            j = - 1\n",
    "        j += 1 # 패턴 시작 위치로 인덱스 값 설정\n",
    "        i += 1 # 텍스트의 다음 값 위치로 인덱스 값 설정\n",
    "    if j == m:\n",
    "        return i - m\n",
    "    else:\n",
    "        return - 1\n",
    "t = 'Starteatingwellwiththeseeighttipsforhealthyeating,whichcoverthebasicsofahealthydietandgoodnutrition.'\n",
    "p = 'ti'\n",
    "print(bruteforce(t,p)) # ti의 시작위치가 프린트됨"
   ]
  },
  {
   "cell_type": "code",
   "execution_count": 65,
   "id": "5b85c1b2-faf4-43a9-bb58-78139b18fd11",
   "metadata": {},
   "outputs": [
    {
     "name": "stdout",
     "output_type": "stream",
     "text": [
      "패턴 존재\n"
     ]
    }
   ],
   "source": [
    "# 보이어무어 패턴매칭 알고리즘 구현 = boyer_moore 알고리즘\n",
    "# next Skip 배열 생성하기\n",
    "def find(pattern, char):\n",
    "    #마지막 부분과 일치하는 부분이 있는지 검색한다.\n",
    "    #마지막 부분은 이미 가능성이 없으므로 그전부터 검사한다.\n",
    "    for i in range(len(pattern)-2, -1, -1):\n",
    "        #마지막글자와 패턴중 일치하는 숫자가 있다면 그만큼 이동한다.\n",
    "        if pattern[i] == char:\n",
    "            return len(pattern) - i - 1\n",
    "    #일치하는 글자가 없다면 패턴의 길이만큼 이동한다.\n",
    "    return len(pattern)\n",
    "\n",
    "def boyer_moore(pattern, text):\n",
    "    M = len(pattern)\n",
    "    N = len(text)\n",
    "    i = 0   \n",
    "    while i <= N-M:  #반복은 최대 긴텍스트 길이 - 작은텍스트 길이\n",
    "        j = M - 1\n",
    "        while j >= 0:\n",
    "            if pattern[j] != text[i+j]:\n",
    "                move = find(pattern, text[i + M - 1])\n",
    "                break\n",
    "            j = j - 1\n",
    "        if j == -1:\n",
    "           return True   # true 대신 i 사용시 구문의 인덱스 위치 반환\n",
    "        else:          \n",
    "           i += move   \n",
    "    return False\n",
    "\n",
    "pattern = 'all the days of my life'\n",
    "text = '''The Lord is my shepherd,I shall not be in want.\n",
    "He makes me lie down in green pastures, he leads me beside quiet waters, he restores my soul.\n",
    "He guides me in paths of righteousness for his name's sake.\n",
    "Even though I walk through the valley of the shadow of death,  I will fear no evil, for you are with me;\n",
    "your rod and your staff, they comfort me. You prepare a table before me in the presence of my enemies.\n",
    "You anoint my head with oil; my cup overflows. \n",
    "surely goodness and love will follow me all the days of my life, and I will dwell in the house of the Lord forever.'''\n",
    "\n",
    "if (boyer_moore(pattern,text)):\n",
    "    print('패턴 존재')\n",
    "else:\n",
    "    print('패턴 없음')"
   ]
  },
  {
   "cell_type": "code",
   "execution_count": 1,
   "id": "0e00e629-86b6-4d75-9116-0c24b39d766a",
   "metadata": {},
   "outputs": [
    {
     "name": "stdout",
     "output_type": "stream",
     "text": [
      "[271, 490, 538]\n"
     ]
    }
   ],
   "source": [
    "def kmp(text, pattern):\n",
    "    #  next_M\n",
    "    next_M = [0 for _ in range(len(pattern))]\n",
    "    i = 0\n",
    "    for j in range(1, len(pattern)):\n",
    "        while i > 0 and pattern[i] != pattern[j]:\n",
    "            i = next_M[i-1]\n",
    "        if pattern[i] == pattern[j]:\n",
    "            i += 1\n",
    "            next_M[j] = i\n",
    "    #  kmp\n",
    "    result = []\n",
    "    j = 0\n",
    "    for i in range(len(text)):\n",
    "        while j > 0 and pattern[j] != text[i]:\n",
    "            j = next_M[j-1]\n",
    "        if pattern[j] == text[i]:\n",
    "            j += 1\n",
    "            if j == len(pattern):\n",
    "                result.append(i - j + 1)\n",
    "                j = next_M[j-1]\n",
    "    return result\n",
    "pattern='will'\n",
    "text = '''The Lord is my shepherd,I shall not be in want. \n",
    "He makes me lie down in green pastures, he leads me beside quiet waters, \n",
    "he restores my soul. He guides me in paths of righteousness for his name's sake. \n",
    "Even though I walk through the valley of the shadow of death,  \n",
    "I will fear no evil, for you are with me; your rod and your staff, they comfort me. \n",
    "You prepare a table before me in the presence of my enemies. \n",
    "You anoint my head with oil; my cup overflows.  \n",
    "Surely goodness and love will follow me all the days of my life, \n",
    " and I will dwell in the house of the Lord forever.'''\n",
    "print(kmp(text, pattern))"
   ]
  },
  {
   "cell_type": "code",
   "execution_count": 102,
   "id": "cd097144-63a1-457d-b9d3-bbf39be5f965",
   "metadata": {},
   "outputs": [],
   "source": [
    "def boyer_moore(pattern, text):\n",
    "    M = len(pattern)\n",
    "    N = len(text)\n",
    "    i = 0  # 텍스트 내에서 현재 위치\n",
    "    while i <= N - M:\n",
    "            j = M - 1  # 패턴의 끝에서부터 시작\n",
    "            # 패턴의 모든 문자가 텍스트의 해당 부분과 일치하는지 확인\n",
    "            while j >= 0:\n",
    "                if pattern[j] != text[i + j]:\n",
    "                    # 일치하지 않는 경우\n",
    "                    move = len(pattern)  # 기본적으로 패턴 길이만큼 이동\n",
    "                    for k in range(len(pattern) - 2, -1, -1):  # 오른쪽에서 왼쪽으로 비교\n",
    "                        if pattern[k] == text[i + M - 1]:\n",
    "                            move = len(pattern) - k - 1\n",
    "                            break\n",
    "                    i += move\n",
    "                    break\n",
    "                j -= 1\n",
    "            if j == -1:\n",
    "                return True  # 패턴이 완전히 일치함을 의미\n",
    "    return False  # 패턴을 찾지 못한 경우"
   ]
  }
 ],
 "metadata": {
  "kernelspec": {
   "display_name": "Python 3 (ipykernel)",
   "language": "python",
   "name": "python3"
  },
  "language_info": {
   "codemirror_mode": {
    "name": "ipython",
    "version": 3
   },
   "file_extension": ".py",
   "mimetype": "text/x-python",
   "name": "python",
   "nbconvert_exporter": "python",
   "pygments_lexer": "ipython3",
   "version": "3.12.4"
  }
 },
 "nbformat": 4,
 "nbformat_minor": 5
}
