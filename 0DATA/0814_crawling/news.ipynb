{
 "cells": [
  {
   "cell_type": "code",
   "execution_count": 1,
   "id": "6e1c359b-7329-4fd3-803b-1bb6eb453199",
   "metadata": {},
   "outputs": [
    {
     "name": "stdin",
     "output_type": "stream",
     "text": [
      "검색어를 입력하세요 코로나\n"
     ]
    },
    {
     "name": "stdout",
     "output_type": "stream",
     "text": [
      "1 코로나19 어린이들 사이에서 빠르게 확산…2주새 2.8배로 '급증'\n",
      "https://www.yna.co.kr/view/AKR20240814041300530?input=1195m\n",
      "2 코로나, 8월 말 절정 가능성…\"일반 감기약 먹어도 돼\"\n",
      "https://news.jtbc.co.kr/article/article.aspx?news_id=NB12210181\n",
      "3 코로나 어린이 환자 2주새 2.8배 급증…개학 앞두고 비상\n",
      "https://www.news1.kr/bio/welfare-medical/5510352\n",
      "4 6월까지 재정 103조 적자…코로나 때 이어 역대 두 번째\n",
      "https://www.nocutnews.co.kr/news/6195716?utm_source=naver&utm_medium=article&utm_campaign=20240814110039\n",
      "5 전남 코로나 환자 급증…취약시설에 방역물품 4만개 지원\n",
      "https://www.newsis.com/view/NISX20240814_0002849522\n",
      "6 [연합뉴스 이 시각 헤드라인] - 10:30\n",
      "https://www.yna.co.kr/view/AKR20240814053800011?input=1195m\n",
      "7 “진단키트·치료제 동났어요”…코로나 재확산에 품귀, 처방 33배 급증\n",
      "https://www.mk.co.kr/article/11092283\n",
      "8 코로나19 걸렸는데 쉴 수 있나요?\n",
      "https://news.kbs.co.kr/news/pc/view/view.do?ncd=8033796&ref=A\n",
      "9 콧물·재채기에 피로감도…냉방병인 줄 알았는데 코로나?\n",
      "https://news.sbs.co.kr/news/endPage.do?news_id=N1007760421&plink=ORI&cooper=NAVER\n",
      "10 요양원 70대 코로나 환자 사망\n",
      "http://www.kado.net/news/articleView.html?idxno=1260343\n"
     ]
    },
    {
     "name": "stdin",
     "output_type": "stream",
     "text": [
      "입력 시 종료 1\n"
     ]
    },
    {
     "data": {
      "text/plain": [
       "'1'"
      ]
     },
     "execution_count": 1,
     "metadata": {},
     "output_type": "execute_result"
    }
   ],
   "source": [
    "import requests as req\n",
    "from bs4 import BeautifulSoup as bs\n",
    "\n",
    "keyword = input(\"검색어를 입력하세요\")\n",
    "res = req.get(f\"https://search.naver.com/search.naver?ssc=tab.news.all&where=news&sm=tab_jum&query={keyword}\")\n",
    "html = res.text\n",
    "soup = bs(html, \"lxml\")\n",
    "\n",
    "titles = soup.select(\".news_tit\")\n",
    "count=1\n",
    "for title in titles:\n",
    "    print(count,title.text)\n",
    "    print(title.attrs['href'])\n",
    "    count +=1\n",
    "input('입력 시 종료')"
   ]
  }
 ],
 "metadata": {
  "kernelspec": {
   "display_name": "Python 3 (ipykernel)",
   "language": "python",
   "name": "python3"
  },
  "language_info": {
   "codemirror_mode": {
    "name": "ipython",
    "version": 3
   },
   "file_extension": ".py",
   "mimetype": "text/x-python",
   "name": "python",
   "nbconvert_exporter": "python",
   "pygments_lexer": "ipython3",
   "version": "3.12.4"
  }
 },
 "nbformat": 4,
 "nbformat_minor": 5
}
