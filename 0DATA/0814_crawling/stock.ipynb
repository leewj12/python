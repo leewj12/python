{
 "cells": [
  {
   "cell_type": "code",
   "execution_count": null,
   "id": "c1f8a618-da7e-48b3-9f2b-12bc969919b9",
   "metadata": {},
   "outputs": [],
   "source": [
    "import requests as req\n",
    "from bs4 import BeautifulSoup as bs\n",
    "\n",
    "\n",
    "\n",
    "for cd in codes:\n",
    "    \n",
    "    res = req.get('https://finance.naver.com/sise/sise_market_sum.naver')\n",
    "    html = res.text\n",
    "    soup = bs(html, \"lxml\")\n",
    "\n",
    "    name = soup.select_one(\"#middle a\").text\n",
    "    price = soup.select_one(\"#_nowVal\").text # id가_nowVal로 지정된 태그로 가서 문자부분만 select_one\n",
    "    # pricec = soup.select_one(\".tah.p11\").text # class의 띄어쓰기는 .으로\n",
    "    \n",
    "    print(name)\n",
    "    print(price)\n",
    "    # print(pricec)"
   ]
  },
  {
   "cell_type": "code",
   "execution_count": null,
   "id": "d97413a4-b85c-4eee-a2ff-2f616e21ab67",
   "metadata": {},
   "outputs": [],
   "source": [
    "<a href=\"/item/main.naver?code=005930\" class=\"tltle\">삼성전자</a>\n",
    "#contentarea > div.box_type_l > table.type_2 > tbody > tr:nth-child(2) > td:nth-child(2) > a\n",
    "<a href=\"/item/main.naver?code=000660\" class=\"tltle\">SK하이닉스</a>\n",
    "#contentarea > div.box_type_l > table.type_2 > tbody > tr:nth-child(3) > td:nth-child(2) > a"
   ]
  },
  {
   "cell_type": "code",
   "execution_count": 21,
   "id": "522ee758-5636-4206-8150-166bf640abc5",
   "metadata": {},
   "outputs": [
    {
     "name": "stdout",
     "output_type": "stream",
     "text": [
      "[<a class=\"tltle\" href=\"/item/main.naver?code=005930\">삼성전자</a>, <a class=\"tltle\" href=\"/item/main.naver?code=000660\">SK하이닉스</a>, <a class=\"tltle\" href=\"/item/main.naver?code=373220\">LG에너지솔루션</a>, <a class=\"tltle\" href=\"/item/main.naver?code=207940\">삼성바이오로직스</a>, <a class=\"tltle\" href=\"/item/main.naver?code=005935\">삼성전자우</a>, <a class=\"tltle\" href=\"/item/main.naver?code=005380\">현대차</a>, <a class=\"tltle\" href=\"/item/main.naver?code=068270\">셀트리온</a>, <a class=\"tltle\" href=\"/item/main.naver?code=000270\">기아</a>, <a class=\"tltle\" href=\"/item/main.naver?code=105560\">KB금융</a>, <a class=\"tltle\" href=\"/item/main.naver?code=005490\">POSCO홀딩스</a>, <a class=\"tltle\" href=\"/item/main.naver?code=055550\">신한지주</a>, <a class=\"tltle\" href=\"/item/main.naver?code=035420\">NAVER</a>, <a class=\"tltle\" href=\"/item/main.naver?code=028260\">삼성물산</a>, <a class=\"tltle\" href=\"/item/main.naver?code=006400\">삼성SDI</a>, <a class=\"tltle\" href=\"/item/main.naver?code=051910\">LG화학</a>, <a class=\"tltle\" href=\"/item/main.naver?code=012330\">현대모비스</a>, <a class=\"tltle\" href=\"/item/main.naver?code=329180\">HD현대중공업</a>, <a class=\"tltle\" href=\"/item/main.naver?code=086790\">하나금융지주</a>, <a class=\"tltle\" href=\"/item/main.naver?code=032830\">삼성생명</a>, <a class=\"tltle\" href=\"/item/main.naver?code=035720\">카카오</a>, <a class=\"tltle\" href=\"/item/main.naver?code=003670\">포스코퓨처엠</a>, <a class=\"tltle\" href=\"/item/main.naver?code=138040\">메리츠금융지주</a>, <a class=\"tltle\" href=\"/item/main.naver?code=000810\">삼성화재</a>, <a class=\"tltle\" href=\"/item/main.naver?code=259960\">크래프톤</a>, <a class=\"tltle\" href=\"/item/main.naver?code=066570\">LG전자</a>, <a class=\"tltle\" href=\"/item/main.naver?code=012450\">한화에어로스페이스</a>, <a class=\"tltle\" href=\"/item/main.naver?code=009540\">HD한국조선해양</a>, <a class=\"tltle\" href=\"/item/main.naver?code=033780\">KT&amp;G</a>, <a class=\"tltle\" href=\"/item/main.naver?code=011200\">HMM</a>, <a class=\"tltle\" href=\"/item/main.naver?code=003550\">LG</a>, <a class=\"tltle\" href=\"/item/main.naver?code=015760\">한국전력</a>, <a class=\"tltle\" href=\"/item/main.naver?code=017670\">SK텔레콤</a>, <a class=\"tltle\" href=\"/item/main.naver?code=034020\">두산에너빌리티</a>, <a class=\"tltle\" href=\"/item/main.naver?code=042700\">한미반도체</a>, <a class=\"tltle\" href=\"/item/main.naver?code=316140\">우리금융지주</a>, <a class=\"tltle\" href=\"/item/main.naver?code=402340\">SK스퀘어</a>, <a class=\"tltle\" href=\"/item/main.naver?code=018260\">삼성에스디에스</a>, <a class=\"tltle\" href=\"/item/main.naver?code=024110\">기업은행</a>, <a class=\"tltle\" href=\"/item/main.naver?code=009150\">삼성전기</a>, <a class=\"tltle\" href=\"/item/main.naver?code=010130\">고려아연</a>, <a class=\"tltle\" href=\"/item/main.naver?code=323410\">카카오뱅크</a>, <a class=\"tltle\" href=\"/item/main.naver?code=034730\">SK</a>, <a class=\"tltle\" href=\"/item/main.naver?code=096770\">SK이노베이션</a>, <a class=\"tltle\" href=\"/item/main.naver?code=267260\">HD현대일렉트릭</a>, <a class=\"tltle\" href=\"/item/main.naver?code=030200\">KT</a>, <a class=\"tltle\" href=\"/item/main.naver?code=042660\">한화오션</a>, <a class=\"tltle\" href=\"/item/main.naver?code=010140\">삼성중공업</a>, <a class=\"tltle\" href=\"/item/main.naver?code=459580\">KODEX CD금리액티브(합성)</a>, <a class=\"tltle\" href=\"/item/main.naver?code=047050\">포스코인터내셔널</a>, <a class=\"tltle\" href=\"/item/main.naver?code=086280\">현대글로비스</a>]\n",
      "None\n",
      "None\n",
      "None\n",
      "None\n",
      "None\n",
      "None\n",
      "None\n",
      "None\n",
      "None\n",
      "None\n",
      "None\n",
      "None\n",
      "None\n",
      "None\n",
      "None\n",
      "None\n",
      "None\n",
      "None\n",
      "None\n",
      "None\n",
      "None\n",
      "None\n",
      "None\n",
      "None\n",
      "None\n",
      "None\n",
      "None\n",
      "None\n",
      "None\n",
      "None\n",
      "None\n",
      "None\n",
      "None\n",
      "None\n",
      "None\n",
      "None\n",
      "None\n",
      "None\n",
      "None\n",
      "None\n",
      "None\n",
      "None\n",
      "None\n",
      "None\n",
      "None\n",
      "None\n",
      "None\n",
      "None\n",
      "None\n",
      "None\n"
     ]
    }
   ],
   "source": [
    "import requests as req\n",
    "from bs4 import BeautifulSoup as bs\n",
    "\n",
    "res = req.get('https://finance.naver.com/sise/sise_market_sum.naver')\n",
    "html = res.text\n",
    "soup = bs(html, \"lxml\")\n",
    "\n",
    "name = soup.select(\".tltle\")\n",
    "\n",
    "list_name = []\n",
    "\n",
    "print(name)\n",
    "for i in range(len(name)):\n",
    "    list_name.append(name[i].txt)\n",
    "    print(list_name[i])"
   ]
  }
 ],
 "metadata": {
  "kernelspec": {
   "display_name": "Python 3 (ipykernel)",
   "language": "python",
   "name": "python3"
  },
  "language_info": {
   "codemirror_mode": {
    "name": "ipython",
    "version": 3
   },
   "file_extension": ".py",
   "mimetype": "text/x-python",
   "name": "python",
   "nbconvert_exporter": "python",
   "pygments_lexer": "ipython3",
   "version": "3.12.4"
  }
 },
 "nbformat": 4,
 "nbformat_minor": 5
}
