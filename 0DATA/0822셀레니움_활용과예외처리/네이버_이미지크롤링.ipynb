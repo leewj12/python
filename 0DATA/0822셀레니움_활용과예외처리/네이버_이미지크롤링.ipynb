{
 "cells": [
  {
   "cell_type": "code",
   "execution_count": 57,
   "id": "041df71a-688a-4dfa-9cb6-e27d48101fd2",
   "metadata": {},
   "outputs": [
    {
     "name": "stdin",
     "output_type": "stream",
     "text": [
      "검색어 입력 karina\n"
     ]
    }
   ],
   "source": [
    "from selenium import webdriver  # 셀레니움 모듈을 활용해 웹크롤링 기능 가져옴\n",
    "from webdriver_manager.chrome import ChromeDriverManager # 크롬브라우저 설치를 해주는 드라이버\n",
    "from selenium.webdriver.chrome.service import Service # 최신 버전의 크롬 드라이버 설치 지원\n",
    "\n",
    "from selenium.webdriver.common.by import By # html 관련 요소들을 선택할 수 있는 모듈\n",
    "from selenium.webdriver.chrome.options import Options\n",
    "from selenium.webdriver.common.keys import Keys\n",
    "\n",
    "from bs4 import BeautifulSoup as bs # html코드 해석(번역)\n",
    "import time # 딜레이 시간을 설정\n",
    "import pandas as pd # 행렬구조의 2차원 테이블 형태로 데이터 저장\n",
    "\n",
    "import os # 폴더(디렉토리) 생성\n",
    "from urllib.request import urlretrieve\n",
    "\n",
    "# ChromeDriverManager를 이용해서 크롬드라이브를 설치\n",
    "serv = Service(executable_path = ChromeDriverManager().install())\n",
    "# service를 이용해서 최신 버전의 크롬브라우저를 만든 후 driver 변수에 할당\n",
    "driver = webdriver.Chrome(service = serv)\n",
    "\n",
    "a = input('검색어 입력')\n",
    "\n",
    "driver.get(f'https://search.naver.com/search.naver?ssc=tab.image.all&where=image&sm=tab_jum&query={a}') # 검색어 input받음\n",
    "time.sleep(1)\n",
    "\n",
    "if not os.path.isdir('c:/pic'):  # c:/pic 파일이 없으면 생성\n",
    "    os.mkdir('c:/pic')\n",
    "\n",
    "for i in range(10):   # 페이지 로드를 위해 스크롤\n",
    "    driver.find_element(By.CSS_SELECTOR, 'body').send_keys(Keys.PAGE_DOWN)\n",
    "    time.sleep(0.3)\n",
    "\n",
    "#main_pack > section > div.api_subject_bx._fe_image_tab_grid_root.ani_fadein > div > div > div.image_tile._fe_image_tab_grid > div:nth-child(1) > div > div > div > img\n",
    "#main_pack > section > div.api_subject_bx._fe_image_tab_grid_root.ani_fadein > div > div > div.image_tile._fe_image_tab_grid > div:nth-child(2) > div > div > div > img\n",
    "img = driver.find_elements(By.CSS_SELECTOR,'div.image_tile._fe_image_tab_grid img') # img 정보 CSS_SELECTOR를 통해 find\n",
    "time.sleep(2)\n",
    "\n",
    "for j in range(50):  # 경로에 사진 파일 저장\n",
    "    urlretrieve(img[j].get_attribute('src'),'c:/pic/' + f'{a}{j+1}' + '.jpg')\n",
    "\n",
    "time.sleep(1)\n",
    "driver.quit() # 창 닫기"
   ]
  }
 ],
 "metadata": {
  "kernelspec": {
   "display_name": "Python 3 (ipykernel)",
   "language": "python",
   "name": "python3"
  },
  "language_info": {
   "codemirror_mode": {
    "name": "ipython",
    "version": 3
   },
   "file_extension": ".py",
   "mimetype": "text/x-python",
   "name": "python",
   "nbconvert_exporter": "python",
   "pygments_lexer": "ipython3",
   "version": "3.12.4"
  }
 },
 "nbformat": 4,
 "nbformat_minor": 5
}
