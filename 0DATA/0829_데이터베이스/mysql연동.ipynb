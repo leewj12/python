{
 "cells": [
  {
   "cell_type": "code",
   "execution_count": 1,
   "id": "d1693873-5d0a-4ab4-8323-3d200a4882ec",
   "metadata": {
    "scrolled": true
   },
   "outputs": [
    {
     "name": "stdout",
     "output_type": "stream",
     "text": [
      "Collecting pymysql\n",
      "  Downloading PyMySQL-1.1.1-py3-none-any.whl.metadata (4.4 kB)\n",
      "Downloading PyMySQL-1.1.1-py3-none-any.whl (44 kB)\n",
      "   ---------------------------------------- 0.0/45.0 kB ? eta -:--:--\n",
      "   ------------------------------------ --- 41.0/45.0 kB 960.0 kB/s eta 0:00:01\n",
      "   ---------------------------------------- 45.0/45.0 kB 551.3 kB/s eta 0:00:00\n",
      "Installing collected packages: pymysql\n",
      "Successfully installed pymysql-1.1.1\n"
     ]
    }
   ],
   "source": [
    "!pip install pymysql"
   ]
  },
  {
   "cell_type": "code",
   "execution_count": 19,
   "id": "d10dbdce-9e44-47a2-b748-0017d739d75c",
   "metadata": {},
   "outputs": [],
   "source": [
    "import pymysql as psq\n",
    "# 1. mysql DB에 연결 connect() 함수 사용\n",
    "# 2. 커서 생성 cursor() 함수 사용\n",
    "# 3. 생성된 커서를 이용해서 sql 명령어를 실행한다. execute() 함수 사용\n",
    "# 4. 입력한 데이터를 저장 commit() 함수 사용\n",
    "# 5. mysql DB에 연결 해제 close() 함수 사용\n",
    "##############################################################################\n",
    "# 1. mysql DB에 연결 connect() 함수 사용\n",
    "conn = psq.connect(host = 'localhost', user = 'root', password = 'mysql904#', db = 'kosmo', charset = 'utf8')\n",
    "\n",
    "# 2. 커서 생성 cursor() 함수 사용\n",
    "cur = conn.cursor()\n",
    "\n",
    "# 3. 생성된 커서를 이용해서 sql 명령어를 실행한다. execute() 함수 사용\n",
    "cur.execute(\"insert into customer values(6,'이원재','대한민국 서울시','02-599-8697')\")\n",
    "cur.execute(\"insert into customer values(7,'이순신','대한민국 남해시','062-599-8697')\")\n",
    "\n",
    "# 4. 입력한 데이터를 저장 commit() 함수 사용\n",
    "conn.commit()\n",
    "\n",
    "# 5. mysql DB에 연결 해제 close() 함수 사용\n",
    "conn.close()"
   ]
  },
  {
   "cell_type": "code",
   "execution_count": 13,
   "id": "d4493c57-3edc-420d-b420-5e0ccdb701ea",
   "metadata": {},
   "outputs": [],
   "source": [
    "import pymysql as psq\n",
    "\n",
    "conn = psq.connect(host = 'localhost', user = 'root', password = 'mysql904#', db = 'solodb', charset = 'utf8')\n",
    "\n",
    "cur = conn.cursor()\n",
    "\n",
    "cur.execute('create table usertable(id varchar(20) primary key,username varchar(20) not null, email varchar(20), birthyear int)')\n",
    "#ddl 은 commit() 안해도 저장 insert,delete,update는 commit 필요\n",
    "cur.execute(\"insert into usertable values('hong', '홍지윤', 'hong@naver.com', 1996)\")\n",
    "cur.execute(\"insert into usertable values('kim', '김태연', 'kim@daum.net', 2011)\")\n",
    "cur.execute(\"insert into usertable values('star', '별사랑', 'star@paran.com', 1990)\")\n",
    "cur.execute(\"insert into usertable values('yang', '양지은', 'yang@gmail.com', 1993)\")\n",
    "\n",
    "conn.commit()\n",
    "# conn.close()"
   ]
  },
  {
   "cell_type": "code",
   "execution_count": 17,
   "id": "ae27f87b-05d2-42da-b1bb-371cd050c64b",
   "metadata": {},
   "outputs": [
    {
     "data": {
      "text/plain": [
       "0"
      ]
     },
     "execution_count": 17,
     "metadata": {},
     "output_type": "execute_result"
    }
   ],
   "source": [
    "# user table에 pwd 필드를 추가함\n",
    "cur.execute('alter table usertable add pwd varchar(20)')"
   ]
  },
  {
   "cell_type": "code",
   "execution_count": 19,
   "id": "44dd63ed-0904-48fa-993a-9d7802fd5ce0",
   "metadata": {},
   "outputs": [],
   "source": [
    "# 추가한 pwd 필드의 내용을 모두 a1234로 초기화하기\n",
    "cur.execute(\"update usertable set pwd='a1234'\")\n",
    "conn.commit()"
   ]
  },
  {
   "cell_type": "code",
   "execution_count": 25,
   "id": "92a93eb4-1e70-42a5-b044-cd3875eace5c",
   "metadata": {},
   "outputs": [
    {
     "name": "stdout",
     "output_type": "stream",
     "text": [
      "('hong', '홍지윤', 'hong@naver.com', 1996, 'a1234')\n",
      "('kim', '김태연', 'kim@daum.net', 2011, 'a1234')\n",
      "('star', '별사랑', 'star@paran.com', 1990, 'a1234')\n",
      "('yang', '양지은', 'yang@gmail.com', 1993, 'a1234')\n"
     ]
    }
   ],
   "source": [
    "cur.execute('select * from usertable')\n",
    "\n",
    "result = cur.fetchall()\n",
    "\n",
    "for re in result:\n",
    "    print(re)\n",
    "\n",
    "#con.close()"
   ]
  },
  {
   "cell_type": "markdown",
   "id": "3118bc5e-1b66-4e77-b8c9-2d77bb008adf",
   "metadata": {},
   "source": [
    "# 테이블 삭제\n",
    "cur.execute('drop table usertable')"
   ]
  },
  {
   "cell_type": "code",
   "execution_count": 3,
   "id": "6d9b1312-810f-4a01-afdc-f2ab8cdfa8e5",
   "metadata": {},
   "outputs": [],
   "source": [
    "import pymysql as psq\n",
    "\n",
    "conn = psq.connect(host = 'localhost', user = 'root', password = 'mysql904#', db = 'solodb', charset = 'utf8')\n",
    "\n",
    "cur = conn.cursor()\n",
    "\n",
    "cur.execute('create table dbinfo(dbms varchar(20) primary key,company varchar(20) not null, os varchar(30) not null, etc varchar(50))')\n",
    "\n",
    "cur.execute(\"insert into dbinfo values('mysql', 'oracle', 'unix,linux,windows,mac', '오픈 소스(무료),상용')\")\n",
    "cur.execute(\"insert into dbinfo values('mariadb', 'mariadb', 'unix,linux,windows', '오픈 소스(무료),mysql 초기 개발자들이 독립해서 만듦')\")\n",
    "cur.execute(\"insert into dbinfo values('postgresql', 'postgresql', 'unix,linux,windows,mac', '오픈 소스(무료)')\")\n",
    "cur.execute(\"insert into dbinfo values('oracle', 'oracle', 'unix,linux,windows', '상용 시장 점유율 1위')\")\n",
    "cur.execute(\"insert into dbinfo values('sqlserver', 'microsoft', 'windows', '주로 중/대형급 시장에서 사용')\")\n",
    "cur.execute(\"insert into dbinfo values('db2', 'ibm', 'unix,linux,windows', '메인프레임 시장 점유율 1위')\")\n",
    "cur.execute(\"insert into dbinfo values('access', 'microsoft', 'windows', 'pc용')\")\n",
    "cur.execute(\"insert into dbinfo values('sqlite', 'sqlite', 'android,ios', '모바일 전용, 오픈 소스(무료)')\")\n",
    "\n",
    "conn.commit()\n",
    "conn.close()"
   ]
  },
  {
   "cell_type": "code",
   "execution_count": 1,
   "id": "69a8c3e2-173b-4646-b099-08ed245a9bb2",
   "metadata": {},
   "outputs": [],
   "source": [
    "import pymysql as psq\n",
    "\n",
    "conn = psq.connect(host = 'localhost', user = 'root', password = 'mysql904#', db = 'solodb', charset = 'utf8')\n",
    "\n",
    "cur = conn.cursor()\n",
    "\n",
    "cur.execute('create table dbinfo(id int primary key auto_increment, dbms varchar(20) ,company varchar(20) not null, os varchar(30) not null, etc varchar(50))')\n",
    "\n",
    "cur.execute(\"insert into dbinfo (dbms, company, os, etc) values('mysql', 'oracle', 'unix,linux,windows,mac', '오픈 소스(무료),상용')\")\n",
    "cur.execute(\"insert into dbinfo (dbms, company, os, etc) values('mariadb', 'mariadb', 'unix,linux,windows', '오픈 소스(무료),mysql 초기 개발자들이 독립해서 만듦')\")\n",
    "cur.execute(\"insert into dbinfo (dbms, company, os, etc) values('postgresql', 'postgresql', 'unix,linux,windows,mac', '오픈 소스(무료)')\")\n",
    "cur.execute(\"insert into dbinfo (dbms, company, os, etc) values('oracle', 'oracle', 'unix,linux,windows', '상용 시장 점유율 1위')\")\n",
    "cur.execute(\"insert into dbinfo (dbms, company, os, etc) values('sqlserver', 'microsoft', 'windows', '주로 중/대형급 시장에서 사용')\")\n",
    "cur.execute(\"insert into dbinfo (dbms, company, os, etc) values('db2', 'ibm', 'unix,linux,windows', '메인프레임 시장 점유율 1위')\")\n",
    "cur.execute(\"insert into dbinfo (dbms, company, os, etc) values('access', 'microsoft', 'windows', 'pc용')\")\n",
    "cur.execute(\"insert into dbinfo (dbms, company, os, etc) values('sqlite', 'sqlite', 'android,ios', '모바일 전용, 오픈 소스(무료)')\")\n",
    "\n",
    "conn.commit()\n",
    "conn.close()"
   ]
  },
  {
   "cell_type": "code",
   "execution_count": 15,
   "id": "16644866-757c-48fd-97b0-45a91616913b",
   "metadata": {},
   "outputs": [
    {
     "name": "stdout",
     "output_type": "stream",
     "text": [
      "<class 'tuple'>\n",
      "(1, 'mysql', 'oracle', 'unix,linux,windows,mac', '오픈 소스(무료),상용')\n",
      "(2, 'mariadb', 'mariadb', 'unix,linux,windows', '오픈 소스(무료),mysql 초기 개발자들이 독립해서 만듦')\n",
      "(3, 'postgresql', 'postgresql', 'unix,linux,windows,mac', '오픈 소스(무료)')\n",
      "(4, 'oracle', 'oracle', 'unix,linux,windows', '상용 시장 점유율 1위')\n",
      "(5, 'sqlserver', 'microsoft', 'windows', '주로 중/대형급 시장에서 사용')\n",
      "(6, 'db2', 'ibm', 'unix,linux,windows', '메인프레임 시장 점유율 1위')\n",
      "(7, 'access', 'microsoft', 'windows', 'pc용')\n",
      "(8, 'sqlite', 'sqlite', 'android,ios', '모바일 전용, 오픈 소스(무료)')\n"
     ]
    }
   ],
   "source": [
    "import pymysql\n",
    "conn = pymysql.connect(host='127.255.5.234', user='root', password='mysql904#', db='solodb', charset='utf8')\n",
    "\n",
    "cur = conn.cursor()\n",
    "\n",
    "cur.execute(\"SELECT * FROM dbinfo\")\n",
    "\n",
    "# 데이터 접근\n",
    "result = cur.fetchall()\n",
    "\n",
    "\"\"\"\n",
    "fetchall()   모든 데이터를 한 번에 가져올 때 사용\n",
    "fetchone()   한 번 호출에 하나의 행만 가져올 때 사용\n",
    "fetchmany(n)   n개만큼의 데이터를 가져올 때 사용\n",
    "\"\"\"\n",
    "\n",
    "# 연결 종료\n",
    "conn.close()\n",
    "\n",
    "print(type(result))\n",
    "for re in result:\n",
    "    print(re)"
   ]
  },
  {
   "cell_type": "code",
   "execution_count": null,
   "id": "43bdde65-8615-4a11-be8b-1638f7aab5fd",
   "metadata": {},
   "outputs": [],
   "source": []
  }
 ],
 "metadata": {
  "kernelspec": {
   "display_name": "Python 3 (ipykernel)",
   "language": "python",
   "name": "python3"
  },
  "language_info": {
   "codemirror_mode": {
    "name": "ipython",
    "version": 3
   },
   "file_extension": ".py",
   "mimetype": "text/x-python",
   "name": "python",
   "nbconvert_exporter": "python",
   "pygments_lexer": "ipython3",
   "version": "3.12.4"
  }
 },
 "nbformat": 4,
 "nbformat_minor": 5
}
