{
 "cells": [
  {
   "cell_type": "code",
   "execution_count": 1,
   "id": "5af916e0-535b-4505-9c6c-ed635f50a1d9",
   "metadata": {},
   "outputs": [
    {
     "data": {
      "text/plain": [
       "0"
      ]
     },
     "execution_count": 1,
     "metadata": {},
     "output_type": "execute_result"
    }
   ],
   "source": [
    "# 네이버 뉴스 검색어로 크롤링\n",
    "\n",
    "import requests as req\n",
    "from bs4 import BeautifulSoup as bs\n",
    "\n",
    "# mydb에 root/mysql904#을 사용해서 연동하기\n",
    "import pymysql as psq\n",
    "\n",
    "conn = psq.connect(host = '127.0.0.1',user = 'root', password = 'mysql904#', db = 'mydb', charset = 'utf8')\n",
    "cur = conn.cursor()\n",
    "\n",
    "cur.execute('create table navernews(num int primary key, title varchar(200) not null, link varchar(200))')"
   ]
  },
  {
   "cell_type": "code",
   "execution_count": 3,
   "id": "e2dc0987-4bdc-448b-8450-403886e94078",
   "metadata": {
    "scrolled": true
   },
   "outputs": [
    {
     "name": "stdin",
     "output_type": "stream",
     "text": [
      "검색어를 입력하세요 =>  네이버\n"
     ]
    },
    {
     "name": "stdout",
     "output_type": "stream",
     "text": [
      "1. 네이버, 대한변리사회 소속 변리사 인물정보 등록 지원 \n",
      " https://www.newsis.com/view/NISX20240830_0002868835 \n",
      "2. 네이버, 플랫폼 기업 중 ‘자율 규제’ 성과 첫 공개…“매우 우수” \n",
      " https://economist.co.kr/article/view/ecn202408290069 \n",
      "3. 네이버시리즈, 인기 만화·웹툰 전권 무료 이벤트 연다 \n",
      " https://zdnet.co.kr/view/?no=20240830093634 \n",
      "4. [게시판] 네이버, 하반기 클립 특파원 챌린지 \n",
      " https://www.yna.co.kr/view/AKR20240830058700017?input=1195m \n",
      "5. 네이버페이 월렛 만들면 프리미어리그 직관 기회가 \n",
      " https://www.news1.kr/it-science/internet-platform/5526171 \n",
      "6. 與 공정위, 네이버 시장지배적 지위 남용 철저히 점검해야 \n",
      " https://www.asiatoday.co.kr/view.php?key=20240830010017033 \n",
      "7. 네이버, 딥페이크 전용 신고채널 개설 \n",
      " https://www.donga.com/news/Society/article/all/20240828/126735689/1 \n",
      "8. 어디 갈지 고민 그만…네이버, 국내여행 코스 추천 \n",
      " https://www.yna.co.kr/view/AKR20240830030200017?input=1195m \n",
      "9. 네이버 자율규제위원회, 1차 활동보고서 공개…매우 우수 \n",
      " https://www.hankyung.com/article/202408293207g \n",
      "10. 태평로 빌딩, 네이버 1784 사옥처럼 변신한다 \n",
      " https://biz.chosun.com/it-science/ict/2024/08/28/YYJHOYTOLFDL3EU7B6P7R5GDUQ/?utm_source=naver&utm_medium=original&utm_campaign=biz \n"
     ]
    }
   ],
   "source": [
    "# 검색어 입력을 하면 뉴스 타이틀 등 데이터 크롤링 수행\n",
    "\n",
    "keyword = input(\"검색어를 입력하세요 => \")\n",
    "res = req.get(f\"https://search.naver.com/search.naver?ssc=tab.news.all&where=news&sm=tab_jum&query={keyword}\")\n",
    "html = res.text\n",
    "soup = bs(html,'lxml')\n",
    "\n",
    "titles = soup.select('.news_tit')\n",
    "\n",
    "# 크롤링한 데이터를 navernews 테이블에 삽입\n",
    "i=1\n",
    "for title in titles :\n",
    "    topic = title.text.replace(\"'\",'').replace('\"','')\n",
    "    link = title.attrs['href']\n",
    "    cur.execute(\"insert into navernews values(%d,'%s','%s')\"%(i,topic,link))\n",
    "    # cur.execute(f\"insert into navernews values({i},'{topic}','{link}')\")\n",
    "    print(f\"{i}. {topic} \\n {link} \")\n",
    "    i=i+1\n",
    "    \n",
    "conn.commit()"
   ]
  },
  {
   "cell_type": "code",
   "execution_count": null,
   "id": "466b9da4-b08e-45e6-914c-91d9765d4bbe",
   "metadata": {},
   "outputs": [],
   "source": []
  }
 ],
 "metadata": {
  "kernelspec": {
   "display_name": "Python 3 (ipykernel)",
   "language": "python",
   "name": "python3"
  },
  "language_info": {
   "codemirror_mode": {
    "name": "ipython",
    "version": 3
   },
   "file_extension": ".py",
   "mimetype": "text/x-python",
   "name": "python",
   "nbconvert_exporter": "python",
   "pygments_lexer": "ipython3",
   "version": "3.12.4"
  }
 },
 "nbformat": 4,
 "nbformat_minor": 5
}
