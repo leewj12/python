{
 "cells": [
  {
   "cell_type": "code",
   "execution_count": 1,
   "id": "046c1d2a-89be-40a8-970e-fc53eadc5c48",
   "metadata": {
    "scrolled": true
   },
   "outputs": [
    {
     "name": "stdout",
     "output_type": "stream",
     "text": [
      "Requirement already satisfied: flask in c:\\users\\user\\anaconda3\\lib\\site-packages (3.0.3)\n",
      "Requirement already satisfied: Werkzeug>=3.0.0 in c:\\users\\user\\anaconda3\\lib\\site-packages (from flask) (3.0.3)\n",
      "Requirement already satisfied: Jinja2>=3.1.2 in c:\\users\\user\\anaconda3\\lib\\site-packages (from flask) (3.1.4)\n",
      "Requirement already satisfied: itsdangerous>=2.1.2 in c:\\users\\user\\anaconda3\\lib\\site-packages (from flask) (2.2.0)\n",
      "Requirement already satisfied: click>=8.1.3 in c:\\users\\user\\anaconda3\\lib\\site-packages (from flask) (8.1.7)\n",
      "Requirement already satisfied: blinker>=1.6.2 in c:\\users\\user\\anaconda3\\lib\\site-packages (from flask) (1.6.2)\n",
      "Requirement already satisfied: colorama in c:\\users\\user\\appdata\\roaming\\python\\python312\\site-packages (from click>=8.1.3->flask) (0.4.6)\n",
      "Requirement already satisfied: MarkupSafe>=2.0 in c:\\users\\user\\anaconda3\\lib\\site-packages (from Jinja2>=3.1.2->flask) (2.1.3)\n"
     ]
    }
   ],
   "source": [
    "!pip install flask"
   ]
  },
  {
   "cell_type": "code",
   "execution_count": null,
   "id": "e50d069e-cd26-4a17-9cd9-2d436eae7949",
   "metadata": {},
   "outputs": [
    {
     "name": "stdout",
     "output_type": "stream",
     "text": [
      " * Serving Flask app '__main__'\n",
      " * Debug mode: off\n"
     ]
    },
    {
     "name": "stderr",
     "output_type": "stream",
     "text": [
      "WARNING: This is a development server. Do not use it in a production deployment. Use a production WSGI server instead.\n",
      " * Running on http://127.0.0.1:5000\n",
      "Press CTRL+C to quit\n",
      "127.0.0.1 - - [30/Aug/2024 18:38:33] \"GET / HTTP/1.1\" 200 -\n"
     ]
    },
    {
     "name": "stdout",
     "output_type": "stream",
     "text": [
      "('1', 'qwer1234', 'asdf', 'asdf@nqvaer.com', 2022)\n",
      "('111', '111', '111', '111@naver.com', 111)\n"
     ]
    },
    {
     "name": "stderr",
     "output_type": "stream",
     "text": [
      "127.0.0.1 - - [30/Aug/2024 18:38:33] \"GET / HTTP/1.1\" 200 -\n"
     ]
    },
    {
     "name": "stdout",
     "output_type": "stream",
     "text": [
      "('1', 'qwer1234', 'asdf', 'asdf@nqvaer.com', 2022)\n",
      "('111', '111', '111', '111@naver.com', 111)\n"
     ]
    },
    {
     "name": "stderr",
     "output_type": "stream",
     "text": [
      "127.0.0.1 - - [30/Aug/2024 18:38:41] \"GET /favorite HTTP/1.1\" 200 -\n",
      "127.0.0.1 - - [30/Aug/2024 18:38:41] \"GET /static/resource/happy-acoustic-233557.mp3 HTTP/1.1\" 206 -\n",
      "127.0.0.1 - - [30/Aug/2024 18:38:41] \"GET /static/resource/mouse-investigation-229735.mp3 HTTP/1.1\" 206 -\n",
      "127.0.0.1 - - [30/Aug/2024 18:38:41] \"GET /static/resource/happy-acoustic-233557.mp3 HTTP/1.1\" 206 -\n",
      "127.0.0.1 - - [30/Aug/2024 18:38:41] \"GET /static/resource/mouse-investigation-229735.mp3 HTTP/1.1\" 206 -\n",
      "127.0.0.1 - - [30/Aug/2024 18:38:45] \"GET / HTTP/1.1\" 200 -\n"
     ]
    },
    {
     "name": "stdout",
     "output_type": "stream",
     "text": [
      "('1', 'qwer1234', 'asdf', 'asdf@nqvaer.com', 2022)\n",
      "('111', '111', '111', '111@naver.com', 111)\n"
     ]
    },
    {
     "name": "stderr",
     "output_type": "stream",
     "text": [
      "127.0.0.1 - - [30/Aug/2024 18:38:47] \"GET /join HTTP/1.1\" 200 -\n",
      "[2024-08-30 18:38:55,320] ERROR in app: Exception on /insert [POST]\n",
      "Traceback (most recent call last):\n",
      "  File \"C:\\Users\\user\\anaconda3\\Lib\\site-packages\\flask\\app.py\", line 1473, in wsgi_app\n",
      "    response = self.full_dispatch_request()\n",
      "               ^^^^^^^^^^^^^^^^^^^^^^^^^^^^\n",
      "  File \"C:\\Users\\user\\anaconda3\\Lib\\site-packages\\flask\\app.py\", line 882, in full_dispatch_request\n",
      "    rv = self.handle_user_exception(e)\n",
      "         ^^^^^^^^^^^^^^^^^^^^^^^^^^^^^\n",
      "  File \"C:\\Users\\user\\anaconda3\\Lib\\site-packages\\flask\\app.py\", line 880, in full_dispatch_request\n",
      "    rv = self.dispatch_request()\n",
      "         ^^^^^^^^^^^^^^^^^^^^^^^\n",
      "  File \"C:\\Users\\user\\anaconda3\\Lib\\site-packages\\flask\\app.py\", line 865, in dispatch_request\n",
      "    return self.ensure_sync(self.view_functions[rule.endpoint])(**view_args)  # type: ignore[no-any-return]\n",
      "           ^^^^^^^^^^^^^^^^^^^^^^^^^^^^^^^^^^^^^^^^^^^^^^^^^^^^^^^^^^^^^^^^^\n",
      "  File \"C:\\Users\\user\\AppData\\Local\\Temp\\ipykernel_7952\\3819654468.py\", line 29, in insertapp\n",
      "    cur.execute(f\"insert into usertable values('{id}','{pwd}','{name}','{email}',{int(birthyear)})\")\n",
      "  File \"C:\\Users\\user\\anaconda3\\Lib\\site-packages\\pymysql\\cursors.py\", line 153, in execute\n",
      "    result = self._query(query)\n",
      "             ^^^^^^^^^^^^^^^^^^\n",
      "  File \"C:\\Users\\user\\anaconda3\\Lib\\site-packages\\pymysql\\cursors.py\", line 322, in _query\n",
      "    conn.query(q)\n",
      "  File \"C:\\Users\\user\\anaconda3\\Lib\\site-packages\\pymysql\\connections.py\", line 563, in query\n",
      "    self._affected_rows = self._read_query_result(unbuffered=unbuffered)\n",
      "                          ^^^^^^^^^^^^^^^^^^^^^^^^^^^^^^^^^^^^^^^^^^^^^^\n",
      "  File \"C:\\Users\\user\\anaconda3\\Lib\\site-packages\\pymysql\\connections.py\", line 825, in _read_query_result\n",
      "    result.read()\n",
      "  File \"C:\\Users\\user\\anaconda3\\Lib\\site-packages\\pymysql\\connections.py\", line 1199, in read\n",
      "    first_packet = self.connection._read_packet()\n",
      "                   ^^^^^^^^^^^^^^^^^^^^^^^^^^^^^^\n",
      "  File \"C:\\Users\\user\\anaconda3\\Lib\\site-packages\\pymysql\\connections.py\", line 775, in _read_packet\n",
      "    packet.raise_for_error()\n",
      "  File \"C:\\Users\\user\\anaconda3\\Lib\\site-packages\\pymysql\\protocol.py\", line 219, in raise_for_error\n",
      "    err.raise_mysql_exception(self._data)\n",
      "  File \"C:\\Users\\user\\anaconda3\\Lib\\site-packages\\pymysql\\err.py\", line 150, in raise_mysql_exception\n",
      "    raise errorclass(errno, errval)\n",
      "pymysql.err.IntegrityError: (1062, \"Duplicate entry '1' for key 'usertable.PRIMARY'\")\n",
      "127.0.0.1 - - [30/Aug/2024 18:38:55] \"POST /insert HTTP/1.1\" 500 -\n",
      "127.0.0.1 - - [30/Aug/2024 18:39:43] \"POST /insert HTTP/1.1\" 200 -\n",
      "[2024-08-30 18:39:48,340] ERROR in app: Exception on /insert [POST]\n",
      "Traceback (most recent call last):\n",
      "  File \"C:\\Users\\user\\anaconda3\\Lib\\site-packages\\flask\\app.py\", line 1473, in wsgi_app\n",
      "    response = self.full_dispatch_request()\n",
      "               ^^^^^^^^^^^^^^^^^^^^^^^^^^^^\n",
      "  File \"C:\\Users\\user\\anaconda3\\Lib\\site-packages\\flask\\app.py\", line 882, in full_dispatch_request\n",
      "    rv = self.handle_user_exception(e)\n",
      "         ^^^^^^^^^^^^^^^^^^^^^^^^^^^^^\n",
      "  File \"C:\\Users\\user\\anaconda3\\Lib\\site-packages\\flask\\app.py\", line 880, in full_dispatch_request\n",
      "    rv = self.dispatch_request()\n",
      "         ^^^^^^^^^^^^^^^^^^^^^^^\n",
      "  File \"C:\\Users\\user\\anaconda3\\Lib\\site-packages\\flask\\app.py\", line 865, in dispatch_request\n",
      "    return self.ensure_sync(self.view_functions[rule.endpoint])(**view_args)  # type: ignore[no-any-return]\n",
      "           ^^^^^^^^^^^^^^^^^^^^^^^^^^^^^^^^^^^^^^^^^^^^^^^^^^^^^^^^^^^^^^^^^\n",
      "  File \"C:\\Users\\user\\AppData\\Local\\Temp\\ipykernel_7952\\3819654468.py\", line 29, in insertapp\n",
      "    cur.execute(f\"insert into usertable values('{id}','{pwd}','{name}','{email}',{int(birthyear)})\")\n",
      "  File \"C:\\Users\\user\\anaconda3\\Lib\\site-packages\\pymysql\\cursors.py\", line 153, in execute\n",
      "    result = self._query(query)\n",
      "             ^^^^^^^^^^^^^^^^^^\n",
      "  File \"C:\\Users\\user\\anaconda3\\Lib\\site-packages\\pymysql\\cursors.py\", line 322, in _query\n",
      "    conn.query(q)\n",
      "  File \"C:\\Users\\user\\anaconda3\\Lib\\site-packages\\pymysql\\connections.py\", line 563, in query\n",
      "    self._affected_rows = self._read_query_result(unbuffered=unbuffered)\n",
      "                          ^^^^^^^^^^^^^^^^^^^^^^^^^^^^^^^^^^^^^^^^^^^^^^\n",
      "  File \"C:\\Users\\user\\anaconda3\\Lib\\site-packages\\pymysql\\connections.py\", line 825, in _read_query_result\n",
      "    result.read()\n",
      "  File \"C:\\Users\\user\\anaconda3\\Lib\\site-packages\\pymysql\\connections.py\", line 1199, in read\n",
      "    first_packet = self.connection._read_packet()\n",
      "                   ^^^^^^^^^^^^^^^^^^^^^^^^^^^^^^\n",
      "  File \"C:\\Users\\user\\anaconda3\\Lib\\site-packages\\pymysql\\connections.py\", line 775, in _read_packet\n",
      "    packet.raise_for_error()\n",
      "  File \"C:\\Users\\user\\anaconda3\\Lib\\site-packages\\pymysql\\protocol.py\", line 219, in raise_for_error\n",
      "    err.raise_mysql_exception(self._data)\n",
      "  File \"C:\\Users\\user\\anaconda3\\Lib\\site-packages\\pymysql\\err.py\", line 150, in raise_mysql_exception\n",
      "    raise errorclass(errno, errval)\n",
      "pymysql.err.IntegrityError: (1062, \"Duplicate entry '11' for key 'usertable.PRIMARY'\")\n",
      "127.0.0.1 - - [30/Aug/2024 18:39:48] \"POST /insert HTTP/1.1\" 500 -\n"
     ]
    }
   ],
   "source": [
    "from flask import Flask, render_template,request\n",
    "import pymysql as psq\n",
    "\n",
    "app = Flask(__name__)\n",
    "\n",
    "# mydb 데이터베이스에 연결\n",
    "# 커서를 생성하고 \n",
    "conn = psq.connect(host = 'localhost', user = 'root', password = 'mysql904#', db = 'mydb', charset = 'utf8')\n",
    "cur = conn.cursor()\n",
    "\n",
    "@app.route('/')\n",
    "def index():\n",
    "    # user테이블에 내용 입력\n",
    "    cur.execute('select * from usertable')\n",
    "    result = cur.fetchall()\n",
    "\n",
    "    for re in result:\n",
    "        print(re)\n",
    "    return render_template('login.html')\n",
    "\n",
    "\n",
    "@app.route('/insert', methods = ['post'])\n",
    "def insertapp():\n",
    "    id = request.form['id']\n",
    "    pwd = request.form['pwd']\n",
    "    name = request.form['name']\n",
    "    email = request.form['email']\n",
    "    birthyear = request.form['birthyear']\n",
    "    cur.execute(f\"insert into usertable values('{id}','{pwd}','{name}','{email}',{int(birthyear)})\")\n",
    "    conn.commit()\n",
    "    return render_template('login.html')\n",
    "\n",
    "@app.route('/favorite')\n",
    "def testapp():\n",
    "    # return '<h1>test 페이지를 열었어요 ~ !!<h1/>'\n",
    "    return render_template('favorite.html')\n",
    "\n",
    "@app.route('/join')\n",
    "def joinapp():\n",
    "    # return '<h1>test 페이지를 열었어요 ~ !!<h1/>'\n",
    "    return render_template('join.html')\n",
    "\n",
    "host_addr = '127.0.0.1'\n",
    "port_num = '5000'\n",
    "if __name__ == '__main__':\n",
    "    app.run(host = host_addr, port = port_num)"
   ]
  },
  {
   "cell_type": "code",
   "execution_count": null,
   "id": "1edbe39e-a053-403a-ad16-86a8543547fd",
   "metadata": {},
   "outputs": [],
   "source": []
  },
  {
   "cell_type": "code",
   "execution_count": null,
   "id": "c07a6329-48b2-4493-bea5-a0a60cbe3811",
   "metadata": {},
   "outputs": [],
   "source": []
  },
  {
   "cell_type": "code",
   "execution_count": null,
   "id": "d4c3f4a2-ead9-4879-af18-b4bf668b4483",
   "metadata": {},
   "outputs": [],
   "source": []
  }
 ],
 "metadata": {
  "kernelspec": {
   "display_name": "Python 3 (ipykernel)",
   "language": "python",
   "name": "python3"
  },
  "language_info": {
   "codemirror_mode": {
    "name": "ipython",
    "version": 3
   },
   "file_extension": ".py",
   "mimetype": "text/x-python",
   "name": "python",
   "nbconvert_exporter": "python",
   "pygments_lexer": "ipython3",
   "version": "3.12.4"
  }
 },
 "nbformat": 4,
 "nbformat_minor": 5
}
