{
 "cells": [
  {
   "cell_type": "code",
   "execution_count": 1,
   "id": "c0eb8e10-55f7-4d58-9b12-2238953cb2fc",
   "metadata": {},
   "outputs": [
    {
     "name": "stdout",
     "output_type": "stream",
     "text": [
      "Requirement already satisfied: flask in c:\\users\\user\\anaconda3\\lib\\site-packages (3.0.3)\n",
      "Requirement already satisfied: Werkzeug>=3.0.0 in c:\\users\\user\\anaconda3\\lib\\site-packages (from flask) (3.0.3)\n",
      "Requirement already satisfied: Jinja2>=3.1.2 in c:\\users\\user\\anaconda3\\lib\\site-packages (from flask) (3.1.4)\n",
      "Requirement already satisfied: itsdangerous>=2.1.2 in c:\\users\\user\\anaconda3\\lib\\site-packages (from flask) (2.2.0)\n",
      "Requirement already satisfied: click>=8.1.3 in c:\\users\\user\\anaconda3\\lib\\site-packages (from flask) (8.1.7)\n",
      "Requirement already satisfied: blinker>=1.6.2 in c:\\users\\user\\anaconda3\\lib\\site-packages (from flask) (1.6.2)\n",
      "Requirement already satisfied: colorama in c:\\users\\user\\appdata\\roaming\\python\\python312\\site-packages (from click>=8.1.3->flask) (0.4.6)\n",
      "Requirement already satisfied: MarkupSafe>=2.0 in c:\\users\\user\\anaconda3\\lib\\site-packages (from Jinja2>=3.1.2->flask) (2.1.3)\n"
     ]
    }
   ],
   "source": [
    "!pip install flask"
   ]
  },
  {
   "cell_type": "code",
   "execution_count": 1,
   "id": "4675ba2c-a2f1-4773-aa7f-cbea3a16a033",
   "metadata": {},
   "outputs": [
    {
     "name": "stderr",
     "output_type": "stream",
     "text": [
      "ERROR: Ignored the following yanked versions: 20081119\n",
      "ERROR: Could not find a version that satisfies the requirement hashlib (from versions: none)\n",
      "ERROR: No matching distribution found for hashlib\n"
     ]
    }
   ],
   "source": [
    "!pip install hashlib"
   ]
  },
  {
   "cell_type": "code",
   "execution_count": null,
   "id": "b09fb22b-a2ce-46e4-b292-25859c3b0db5",
   "metadata": {},
   "outputs": [],
   "source": [
    "# 1. hashlib 모듈\n",
    "# MD5, SHA256 등의 알고리즘으로 문자열을 해싱(hashing)할 때 사용하는 모듈이다\n",
    "\n",
    "# 2. 해싱(hashing)\n",
    "# 원본 문자열을 알아볼 수 없는 난해한 문자열로 정의하는 방법으로, 해시값을 조사하여 데이터 변조 여부를 확인하는 것이 주된 목적\n",
    "\n",
    "# 3. 검증방식\n",
    "# 비밀번호 일치 여부를 검증하고자 사용자로부터 입력받은 이전 비밀번호를 해싱하고 나서 파일에 저장한 값과 비교 (해싱한 문자열은 복구가 불가능 하므로 비번을 동일한 방식으로 해싱한 후 DB에 저장된 해싱비번과 비교하는 것임)목적목적"
   ]
  },
  {
   "cell_type": "code",
   "execution_count": null,
   "id": "8e747174-2aa6-4328-8eb3-3dfd27e18831",
   "metadata": {},
   "outputs": [
    {
     "name": "stdout",
     "output_type": "stream",
     "text": [
      " * Serving Flask app '__main__'\n",
      " * Debug mode: off\n"
     ]
    },
    {
     "name": "stderr",
     "output_type": "stream",
     "text": [
      "WARNING: This is a development server. Do not use it in a production deployment. Use a production WSGI server instead.\n",
      " * Running on http://127.0.0.1:5000\n",
      "Press CTRL+C to quit\n",
      "127.0.0.1 - - [10/Sep/2024 13:13:30] \"GET / HTTP/1.1\" 200 -\n",
      "127.0.0.1 - - [10/Sep/2024 13:13:30] \"GET /static/kospic.jpg HTTP/1.1\" 304 -\n",
      "127.0.0.1 - - [10/Sep/2024 13:13:32] \"GET /join HTTP/1.1\" 200 -\n",
      "127.0.0.1 - - [10/Sep/2024 13:14:04] \"POST /insert HTTP/1.1\" 200 -\n"
     ]
    }
   ],
   "source": [
    "from flask import Flask, render_template, request\n",
    "import pymysql as psq\n",
    "import hashlib\n",
    "\n",
    "app = Flask(__name__)\n",
    "\n",
    "conn = psq.connect(host = 'localhost', user = 'root', password = 'mysql904#', db = 'mydb', charset = 'utf8')\n",
    "cur = conn.cursor()\n",
    "\n",
    "\n",
    "@app.route('/')\n",
    "def index(): #인덱스 함수를 통해 인덱스.html 호출\n",
    "    return render_template('index.html')\n",
    "\n",
    "@app.route('/login')\n",
    "def login():\n",
    "    return render_template('login.html')\n",
    "\n",
    "@app.route('/logincheck', methods=['post'])\n",
    "def logincheck():\n",
    "    #회원 여부를 처리하는 부분\n",
    "    id_u = request.form['id']\n",
    "    pass_u = request.form['pass']\n",
    "    # 사용자가 입력한 비번을 pass_u 변수에 저장한 후 hashlib의 sha256을 이용하여 \n",
    "    #암호화하는데 utf-8 인코딩을 사용하고, 이를 다시 16진수 키값으로 변경함\n",
    "    pass_u_sec = hashlib.sha256(pass_u.encode('utf-8')).hexdigest()\n",
    "    cur.execute('SELECT id,pwd FROM usertable where id=\"%s\" and pwd=\"%s\"'%(id_u,pass_u))# select 뒤에 count(*)도 가능\n",
    "    result = cur.fetchone()\n",
    "    print(result)\n",
    "\n",
    "    if result: #회원\n",
    "        return render_template('membermain.html')\n",
    "    else: #!회원\n",
    "        return render_template('login.html')\n",
    "\n",
    "@app.route('/join')\n",
    "def joinapp():\n",
    "    return render_template('join.html')\n",
    "\n",
    "@app.route('/idcheck', methods=['post'])\n",
    "def idcheck():\n",
    "    id_u = request.form['id']\n",
    "    cur.execute('SELCT id FROM usertable where id=%s',(id_u))\n",
    "    #데이터 접근\n",
    "    result = cur.fetchone()\n",
    "    print(result)\n",
    "    \n",
    "@app.route('/memberm')\n",
    "def membermain():\n",
    "    return render_template('membermain.html')\n",
    "\n",
    "@app.route(\"/insert\", methods=['post'])\n",
    "def insertApp():\n",
    "    id = request.form['id']\n",
    "    pwd = request.form['pass']\n",
    "    pwdsec = hashlib.sha256(pwd.encode('utf-8')).hexdigest()\n",
    "    name = request.form['name']    \n",
    "    birthy = request.form['year']\n",
    "    birthm = request.form['month']\n",
    "    birthd = request.form['days']\n",
    "    gender = request.form['gender']\n",
    "    tel = request.form['tel']\n",
    "    post = request.form['postcode']\n",
    "    addr = request.form['address']\n",
    "    addrdt = request.form['addressdetail']\n",
    "    email = request.form['email']\n",
    "    cur.execute(\"insert into usertable values(%s, %s, %s, %s, %s, %s, %s, %s, %s, %s, %s, %s)\"\n",
    "                , (id, pwdsec, name, int(birthy), int(birthm), int(birthd), gender, tel, int(post), addr, addrdt, email))\n",
    "    conn.commit()\n",
    "    return render_template('login.html')\n",
    "\n",
    "host_addr = '127.0.0.1'\n",
    "port_num = '5000'\n",
    "\n",
    "if __name__ == '__main__' :\n",
    "    app.run(host = host_addr, port = port_num)\n"
   ]
  },
  {
   "cell_type": "code",
   "execution_count": null,
   "id": "27d1481d-ddf8-42aa-a82f-15d0fd2b4bd3",
   "metadata": {},
   "outputs": [],
   "source": []
  },
  {
   "cell_type": "code",
   "execution_count": null,
   "id": "e65dc18c-73b5-43ce-b355-b91d462d089d",
   "metadata": {},
   "outputs": [],
   "source": []
  }
 ],
 "metadata": {
  "kernelspec": {
   "display_name": "Python 3 (ipykernel)",
   "language": "python",
   "name": "python3"
  },
  "language_info": {
   "codemirror_mode": {
    "name": "ipython",
    "version": 3
   },
   "file_extension": ".py",
   "mimetype": "text/x-python",
   "name": "python",
   "nbconvert_exporter": "python",
   "pygments_lexer": "ipython3",
   "version": "3.12.4"
  }
 },
 "nbformat": 4,
 "nbformat_minor": 5
}
