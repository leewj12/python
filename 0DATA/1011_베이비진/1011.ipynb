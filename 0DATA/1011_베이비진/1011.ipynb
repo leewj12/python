{
 "cells": [
  {
   "cell_type": "code",
   "execution_count": 5,
   "id": "da62fa74-951e-487d-a678-a880db4b58a4",
   "metadata": {},
   "outputs": [
    {
     "name": "stdin",
     "output_type": "stream",
     "text": [
      "0~9 사이의 숫자 카드 6개를 연속해서 적어주세요!\n",
      " 예)1 3 5 4 6 2 X 135462 O\n",
      " 148638\n"
     ]
    },
    {
     "name": "stdout",
     "output_type": "stream",
     "text": [
      "148638\n",
      "[0, 1, 0, 1, 1, 0, 1, 0, 2, 0, 0, 0]\n",
      "Lose\n"
     ]
    }
   ],
   "source": [
    "#1 babygin\n",
    "\n",
    "c = [0] * 12\n",
    "tri = 0\n",
    "run = 0\n",
    "card = int(input('0~9 사이의 숫자 카드 6개를 연속해서 적어주세요!\\n 예)1 3 5 4 6 2 X 135462 O\\n'))\n",
    "print(card)\n",
    "\n",
    "i = 0\n",
    "while i < 6:\n",
    "    n = int(card % 10) \n",
    "    c[n] += 1\n",
    "    card = card / 10\n",
    "    i += 1\n",
    "    \n",
    "print(c) # 중간 확인용\n",
    "\n",
    "i = 0\n",
    "while i < 10:\n",
    "    if c[i] >= 3: #triplet 확인\n",
    "        c[i] -= 3\n",
    "        tri += 1\n",
    "        continue\n",
    "    if c[i] >= 1 and c[i+1] >= 1 and c[i+2] >= 1:\n",
    "        c[i] -= 1\n",
    "        c[i+1] -= 1\n",
    "        c[i+2] -= 1\n",
    "        run += 1\n",
    "        continue\n",
    "    i += 1\n",
    "\n",
    "if run + tri == 2:\n",
    "    print('Baby Gin')\n",
    "else:\n",
    "    print('Lose')"
   ]
  },
  {
   "cell_type": "code",
   "execution_count": 6,
   "id": "f2ca2efe-66fe-4a81-9cf8-f6866870565a",
   "metadata": {},
   "outputs": [
    {
     "name": "stdin",
     "output_type": "stream",
     "text": [
      "0~9 사이의 숫자 카드 6개를 연속해서 적어주세요!\n",
      "잘못된 예시) 1 3 5 4 6 2\n",
      "올바른 예시) 135462\n",
      " 134567\n"
     ]
    },
    {
     "name": "stdout",
     "output_type": "stream",
     "text": [
      "Lose\n",
      "프로그램 종료!!\n"
     ]
    }
   ],
   "source": [
    "class BabyGin:\n",
    "    def __init__(self, n):\n",
    "        self.c = [0]*12\n",
    "        self.i = 0\n",
    "        while self.i<6:\n",
    "            self.cnt = int(n%10) \n",
    "            self.c[self.cnt] += 1\n",
    "            n = n / 10\n",
    "            self.i += 1\n",
    "    def gameBabyGin(self):\n",
    "        self.i = 0\n",
    "        self.tri = 0\n",
    "        self.run = 0\n",
    "        while self.i<10:\n",
    "            if self.c[self.i]>=3:\n",
    "                self.c[self.i] -= 3\n",
    "                self.tri += 1\n",
    "                continue\n",
    "            if self.c[self.i]>=1 and self.c[self.i+1]>=1 and self.c[self.i+2]>=1:\n",
    "                self.c[self.i] -= 1\n",
    "                self.c[self.i+1] -= 1\n",
    "                self.c[self.i+2] -= 1\n",
    "                self.run += 1\n",
    "                continue\n",
    "            self.i += 1\n",
    "        if self.run+self.tri == 2:\n",
    "            return print('Baby Gin')\n",
    "        else:\n",
    "            return print('Lose')\n",
    "\n",
    "card = int(input('0~9 사이의 숫자 카드 6개를 연속해서 적어주세요!\\n잘못된 예시) 1 3 5 4 6 2\\n올바른 예시) 135462\\n'))\n",
    "bg = BabyGin(card)\n",
    "bg.gameBabyGin()\n",
    "print('프로그램 종료!!')"
   ]
  },
  {
   "cell_type": "code",
   "execution_count": 1,
   "id": "00498118-9a84-4e2f-849f-551311a9f659",
   "metadata": {},
   "outputs": [
    {
     "name": "stdout",
     "output_type": "stream",
     "text": [
      "[55, 7, 78, 12, 42]\n",
      "[7, 12, 42, 55, 78]\n",
      "[98, 55, 1, 8, 78]\n",
      "[1, 8, 55, 78, 98]\n",
      "[6, 23, 74, 12, 2]\n",
      "[2, 6, 12, 23, 74]\n"
     ]
    }
   ],
   "source": [
    "#2 bubble sort\n",
    "\n",
    "\n",
    "def BubbleSort(a, n):   #a = 배열의 이름, n = 배열의 크기\n",
    "    for i in range(n-1, 0, -1):\n",
    "        for j in range(i):\n",
    "            if a[j] > a[j+1]:\n",
    "                temp = a[j]\n",
    "                a[j] = a[j+1]\n",
    "                a[j+1] = temp\n",
    "                #파이썬은 a[j], a[j+1] = a[j+1], a[j] 가 가능함\n",
    "    return a\n",
    "\n",
    "list1= [55, 7, 78, 12, 42]\n",
    "print(list1)\n",
    "n = len(list1)\n",
    "print(BubbleSort(list1, n))\n",
    "\n",
    "list2= [98, 55, 1, 8, 78]\n",
    "print(list2)\n",
    "n = len(list2)\n",
    "print(BubbleSort(list2, n))\n",
    "\n",
    "list3= [6, 23, 74, 12, 2]\n",
    "print(list3)\n",
    "n = len(list3)\n",
    "print(BubbleSort(list3, n))"
   ]
  }
 ],
 "metadata": {
  "kernelspec": {
   "display_name": "Python 3 (ipykernel)",
   "language": "python",
   "name": "python3"
  },
  "language_info": {
   "codemirror_mode": {
    "name": "ipython",
    "version": 3
   },
   "file_extension": ".py",
   "mimetype": "text/x-python",
   "name": "python",
   "nbconvert_exporter": "python",
   "pygments_lexer": "ipython3",
   "version": "3.12.4"
  }
 },
 "nbformat": 4,
 "nbformat_minor": 5
}
