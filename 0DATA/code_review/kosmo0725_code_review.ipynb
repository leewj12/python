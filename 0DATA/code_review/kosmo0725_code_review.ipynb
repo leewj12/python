{
 "cells": [
  {
   "cell_type": "code",
   "execution_count": 11,
   "id": "b74e076d-8620-46bb-a29e-a0a3b530f73f",
   "metadata": {},
   "outputs": [
    {
     "name": "stdout",
     "output_type": "stream",
     "text": [
      "3.3764 3.0 3\n",
      "<class 'float'> <class 'float'> <class 'int'>\n"
     ]
    }
   ],
   "source": [
    "# eng score=90\n",
    "# 7font='굴림'\n",
    "x = 3.3764\n",
    "y = 6/2\n",
    "z = 6//2\n",
    "print(x, y, z)\n",
    "print(type(x), type(y),type(z))"
   ]
  },
  {
   "cell_type": "code",
   "execution_count": 29,
   "id": "6cc52c7b-27bc-4522-af90-3961f3b8631d",
   "metadata": {},
   "outputs": [
    {
     "name": "stdout",
     "output_type": "stream",
     "text": [
      "209.0\n"
     ]
    }
   ],
   "source": [
    "a = 10 \n",
    "b = 20\n",
    "c = a + b * 10 - 5 / 5 \n",
    "print(c)"
   ]
  },
  {
   "cell_type": "code",
   "execution_count": 27,
   "id": "068bde53-24cd-44ad-a62b-9353a16725f6",
   "metadata": {},
   "outputs": [
    {
     "name": "stdout",
     "output_type": "stream",
     "text": [
      "4\n",
      "4 -4\n"
     ]
    }
   ],
   "source": [
    "x = 20 \n",
    "y = 4\n",
    "x = y % x \n",
    "print(x)\n",
    "y -= x * 2 \n",
    "print(x, y)"
   ]
  },
  {
   "cell_type": "code",
   "execution_count": 31,
   "id": "05a4cec3-52e5-4450-b706-47257d2788dd",
   "metadata": {},
   "outputs": [
    {
     "name": "stdout",
     "output_type": "stream",
     "text": [
      "15\n"
     ]
    }
   ],
   "source": [
    "a = '쥐 구멍에 볕 들 날 있다.' \n",
    "b = len(a)\n",
    "print(b)"
   ]
  },
  {
   "cell_type": "code",
   "execution_count": 39,
   "id": "c638b896-4e6a-4ff3-b9a1-d80eb99e3046",
   "metadata": {},
   "outputs": [
    {
     "name": "stdout",
     "output_type": "stream",
     "text": [
      "영어 점수 :  80 점\n"
     ]
    }
   ],
   "source": [
    "eng = 80\n",
    "# result = '영어 점수 : ' + eng + '점' \n",
    "print('영어 점수 : ', eng, '점')"
   ]
  },
  {
   "cell_type": "code",
   "execution_count": 41,
   "id": "d44e6fc3-51d5-485d-a66c-d49f13055085",
   "metadata": {},
   "outputs": [
    {
     "name": "stdout",
     "output_type": "stream",
     "text": [
      "영어 점수 : 80점\n"
     ]
    }
   ],
   "source": [
    "eng = 80\n",
    "result = '영어 점수 : ' + str(eng) + '점' \n",
    "print(result)"
   ]
  },
  {
   "cell_type": "code",
   "execution_count": 63,
   "id": "e7d739e1-aa3c-429c-8723-bedbefbf5a99",
   "metadata": {},
   "outputs": [
    {
     "name": "stdout",
     "output_type": "stream",
     "text": [
      "나는 김수영 입니다. 나이는 26이고 키는 170.345입니다.\n"
     ]
    }
   ],
   "source": [
    "name = '김수영'\n",
    "age=26\n",
    "height=170.345\n",
    "a = '나는 %s 입니다. 나이는 %d이고 키는 %.3f입니다.' % (name, age, height)\n",
    "print(a)"
   ]
  },
  {
   "cell_type": "code",
   "execution_count": 65,
   "id": "e595a14d-4d3e-4ce3-bd62-89cbc62b7107",
   "metadata": {
    "scrolled": true
   },
   "outputs": [
    {
     "name": "stdout",
     "output_type": "stream",
     "text": [
      "이름 : 황예린\n",
      "나이 : 18세\n",
      "시력 : 1.2\n"
     ]
    }
   ],
   "source": [
    "name = '황예린' \n",
    "age = 18 \n",
    "eyesight = 1.2\n",
    "a = '이름 : {}'.format(name) \n",
    "b = '나이 : {}세'.format(age) \n",
    "c = '시력 : {}'.format(eyesight)\n",
    "print(a)\n",
    "print(b)\n",
    "print(c)"
   ]
  },
  {
   "cell_type": "code",
   "execution_count": 67,
   "id": "30ad3438-282a-4fc6-bfac-6ceb69114f5c",
   "metadata": {},
   "outputs": [
    {
     "name": "stdout",
     "output_type": "stream",
     "text": [
      "두 과목 점수 : 80, 87\n",
      "합계 : 167, 평균 : 83.50\n"
     ]
    }
   ],
   "source": [
    "score1 = 80 \n",
    "score2 = 87\n",
    "sum = score1 + score2 \n",
    "avg = sum/2\n",
    "print('두 과목 점수 : %d, %d' % (score1, score2)) \n",
    "print('합계 : %d, 평균 : %.2f' % (sum, avg))"
   ]
  },
  {
   "cell_type": "code",
   "execution_count": 71,
   "id": "a0405687-7f14-4d9b-beda-587f7b098dfc",
   "metadata": {},
   "outputs": [
    {
     "name": "stdout",
     "output_type": "stream",
     "text": [
      "2020/3/5\n"
     ]
    }
   ],
   "source": [
    "year = 2020 \n",
    "month = 3 \n",
    "day = 5\n",
    "print(year, month, day, sep='/')"
   ]
  },
  {
   "cell_type": "code",
   "execution_count": 77,
   "id": "5cefa620-b4ae-4822-b1a4-d4b1ab5eaa77",
   "metadata": {},
   "outputs": [
    {
     "name": "stdout",
     "output_type": "stream",
     "text": [
      "안녕하세요.\n",
      "반갑습니다.\n",
      "\n",
      "\n",
      "\n",
      "안녕하세요.반갑습니다.\n"
     ]
    }
   ],
   "source": [
    "a = '안녕하세요.' \n",
    "b = '반갑습니다.'\n",
    "\n",
    "print(a)\n",
    "print(b)\n",
    "\n",
    "print('\\n\\n')\n",
    "\n",
    "print(a, end='')\n",
    "print(b)"
   ]
  },
  {
   "cell_type": "code",
   "execution_count": 79,
   "id": "cd287d75-816c-4847-9b74-f348a61bf221",
   "metadata": {},
   "outputs": [
    {
     "name": "stdin",
     "output_type": "stream",
     "text": [
      "이름을 입력하세요 :  이\n"
     ]
    },
    {
     "name": "stdout",
     "output_type": "stream",
     "text": [
      "이님 반갑습니다.\n"
     ]
    }
   ],
   "source": [
    "name = input('이름을 입력하세요 : ') \n",
    "print('%s님 반갑습니다.' % name)"
   ]
  },
  {
   "cell_type": "code",
   "execution_count": 81,
   "id": "ff6f4e85-14d9-4847-b69c-0a0651b1a93a",
   "metadata": {},
   "outputs": [
    {
     "name": "stdin",
     "output_type": "stream",
     "text": [
      "첫번쨰 숫자 입력 1\n",
      "두번쨰 숫자 입력 2\n"
     ]
    },
    {
     "name": "stdout",
     "output_type": "stream",
     "text": [
      "3\n",
      "12\n"
     ]
    }
   ],
   "source": [
    "a= input('첫번쨰 숫자 입력')\n",
    "b= input('두번쨰 숫자 입력')\n",
    "c= int(a) + int(b)\n",
    "d= a+ b #= '1'+'2'\n",
    "\n",
    "print(c)\n",
    "print(d)"
   ]
  },
  {
   "cell_type": "code",
   "execution_count": 85,
   "id": "68813ffc-5900-4ca3-9165-08917cadb38e",
   "metadata": {},
   "outputs": [
    {
     "name": "stdin",
     "output_type": "stream",
     "text": [
      "인치(inch)를 입력하세요 :  30\n"
     ]
    },
    {
     "name": "stdout",
     "output_type": "stream",
     "text": [
      "센티미터 : 76.20\n"
     ]
    }
   ],
   "source": [
    "inch = float(input('인치(inch)를 입력하세요 : ')) \n",
    "cm = inch * 2.54\n",
    "print('센티미터 : %.2f' % cm)"
   ]
  },
  {
   "cell_type": "code",
   "execution_count": 91,
   "id": "774b8d5a-40ef-4219-9345-fb4f8c30607d",
   "metadata": {},
   "outputs": [
    {
     "name": "stdout",
     "output_type": "stream",
     "text": [
      "30\n"
     ]
    }
   ],
   "source": [
    "# 파일명 : ex2-35.py \n",
    "\"\"\"\n",
    "프로그램명 : 두 수 더하기 \n",
    "작성자 : 홍길동\n",
    "작성일 : 2021.9.20\n",
    "\"\"\"\n",
    "a = 10             # 변수 a에 10 저장\n",
    "b = 20             # 변수 b에 20 저장\n",
    "c = a + b          # 두 수를 더해 변수 c에 저장 \n",
    "# 결과를 출력한다.\n",
    "print(c)"
   ]
  },
  {
   "cell_type": "code",
   "execution_count": 93,
   "id": "3875a8c6-8e60-4c0c-aa67-aad7eeaa4c34",
   "metadata": {},
   "outputs": [
    {
     "name": "stdout",
     "output_type": "stream",
     "text": [
      "300\n"
     ]
    }
   ],
   "source": [
    "a = 100             # 변수 a에 100 저장\n",
    "b = 200             # 변수 b에 200 저장\n",
    "c = a + b          # 두 수를 더해 변수 c에 저장 \n",
    "# 결과를 출력한다.\n",
    "print(c)"
   ]
  },
  {
   "cell_type": "code",
   "execution_count": 97,
   "id": "be24dbad-eada-45d3-be33-ee02ab2cde75",
   "metadata": {},
   "outputs": [
    {
     "name": "stdout",
     "output_type": "stream",
     "text": [
      "삼각형의 밑변 길이 : 10\n",
      "삼각형의 높이 : 3\n",
      "삼각형의 면적 : 15.0\n"
     ]
    }
   ],
   "source": [
    "width  = 10 \n",
    "height = 3\n",
    "area = width* height / 2\n",
    "print('삼각형의 밑변 길이 :', width) \n",
    "print('삼각형의 높이 :', height) \n",
    "print('삼각형의 면적 :',area)"
   ]
  },
  {
   "cell_type": "code",
   "execution_count": 101,
   "id": "371cbfc3-d7a1-4247-99a9-737455eda2d8",
   "metadata": {},
   "outputs": [
    {
     "name": "stdout",
     "output_type": "stream",
     "text": [
      "삼각형의 밑변 길이 : 10\n",
      "삼각형의 높이 : 3\n",
      "삼각형의 면적 : 15.0\n"
     ]
    }
   ],
   "source": [
    "width  = 10 \n",
    "height = 3\n",
    "area = width* height*0.5\n",
    "print('삼각형의 밑변 길이 :', width) \n",
    "print('삼각형의 높이 :', height) \n",
    "print('삼각형의 면적 :',area)"
   ]
  },
  {
   "cell_type": "code",
   "execution_count": 105,
   "id": "7562bc9b-cb8d-4b84-8a79-0447ff6062ba",
   "metadata": {},
   "outputs": [
    {
     "name": "stdout",
     "output_type": "stream",
     "text": [
      "물건가격 : 800 원\n",
      "구개개수 : 3 개\n",
      "지불금액 : 5000 원\n",
      "거스름돈 : 2600 원\n"
     ]
    }
   ],
   "source": [
    "price = 800 \n",
    "buy = 3 \n",
    "pay = 5000\n",
    "change= pay - price * buy\n",
    "print('물건가격 :', price, '원')\n",
    "print('구개개수 :', buy, '개')\n",
    "print('지불금액 :', pay, '원')\n",
    "print('거스름돈 :', change, '원')"
   ]
  },
  {
   "cell_type": "code",
   "execution_count": 107,
   "id": "c1372dc6-d677-4044-b338-692c720e23f9",
   "metadata": {},
   "outputs": [],
   "source": [
    "# 거스름돈 구하기 및 거스름돈 줄이기 알고리즘(그리디 알고리즘 = 탐욕 알고리즘)\n",
    "# 큰 단위 부터 사용"
   ]
  },
  {
   "cell_type": "code",
   "execution_count": 115,
   "id": "0150666e-048a-4f42-8e56-9c401d088975",
   "metadata": {},
   "outputs": [
    {
     "name": "stdout",
     "output_type": "stream",
     "text": [
      "성 : 홍\n",
      "이름 : 길동\n",
      "홍길동의 나이 : 30세, 키 : 171.5cm\n"
     ]
    }
   ],
   "source": [
    "name = \"홍길동\" \n",
    "age = 30\n",
    "height = 171.5\n",
    "print('성 :', name[0])\n",
    "print('이름 :', name[1:])\n",
    "print(\"%s의 나이 : %d세, 키 : %.1fcm\" % (name, \n",
    "age, height))"
   ]
  },
  {
   "cell_type": "code",
   "execution_count": 127,
   "id": "6a4c5f98-44db-4491-9e9f-f2fcfaf08927",
   "metadata": {
    "scrolled": true
   },
   "outputs": [
    {
     "name": "stdin",
     "output_type": "stream",
     "text": [
      "학생 이름을 입력하세요 : 1\n",
      "국어  성적을 입력하세요 : 1\n",
      "영어  성적을 입력하세요 : 1\n",
      "수학  성적을 입력하세요 : 1\n"
     ]
    },
    {
     "name": "stdout",
     "output_type": "stream",
     "text": [
      "이름:1, 국어:1, 영어:1,수학:1, 평균:1.0 점\n"
     ]
    }
   ],
   "source": [
    "name = input('학생 이름을 입력하세요 :') \n",
    "kor = int(input('국어  성적을 입력하세요 :')) \n",
    "eng = int(input('영어  성적을 입력하세요 :'))\n",
    "math = int(input('수학  성적을 입력하세요 :'))\n",
    "total = kor + eng + math \n",
    "avg = total / 3 # *0.333333\n",
    "print('이름:%s, 국어:%d, 영어:%d,수학:%d, 평균:%.1f 점' % (name, kor, eng, math, avg))"
   ]
  },
  {
   "cell_type": "code",
   "execution_count": 133,
   "id": "307223ce-6624-4a0f-869d-da07dd5a3f1e",
   "metadata": {},
   "outputs": [
    {
     "name": "stdin",
     "output_type": "stream",
     "text": [
      "숫자를 입력하세요 :  33\n"
     ]
    },
    {
     "name": "stdout",
     "output_type": "stream",
     "text": [
      "양수!\n",
      "조건 제어문의 대표적인 명령은 if문 입니다\n"
     ]
    }
   ],
   "source": [
    "x = int(input('숫자를 입력하세요 : ')) \n",
    "if x > 0 :\n",
    "    print('양수!') \n",
    "else :\n",
    "    print('0 또는 음수!')\n",
    "\n",
    "print('조건 제어문의 대표적인 명령은 if문 입니다')"
   ]
  },
  {
   "cell_type": "code",
   "execution_count": 137,
   "id": "d3ee7e8a-9f54-443f-b776-0d7dec0ce023",
   "metadata": {},
   "outputs": [
    {
     "name": "stdin",
     "output_type": "stream",
     "text": [
      "숫자를 입력하세요 :  5\n"
     ]
    },
    {
     "name": "stdout",
     "output_type": "stream",
     "text": [
      "홀수이다.\n"
     ]
    }
   ],
   "source": [
    "num = int(input('숫자를 입력하세요 : ')) \n",
    "if num % 2 == 0 :\n",
    "    print('짝수이다.') \n",
    "else :\n",
    "    print('홀수이다.')"
   ]
  },
  {
   "cell_type": "code",
   "execution_count": 139,
   "id": "0e372033-bdae-44af-b8ca-6aa51a1ffa6e",
   "metadata": {},
   "outputs": [
    {
     "name": "stdin",
     "output_type": "stream",
     "text": [
      "숫자를 입력하세요 :  7\n"
     ]
    },
    {
     "name": "stdout",
     "output_type": "stream",
     "text": [
      "7의 배수이다.\n"
     ]
    }
   ],
   "source": [
    "#7의 배수\n",
    "num = int(input('숫자를 입력하세요 : ')) \n",
    "if num % 7 == 0 :\n",
    "    print('7의 배수이다.') \n",
    "else :\n",
    "    print('7의 배수가 아니다.')"
   ]
  },
  {
   "cell_type": "code",
   "execution_count": 155,
   "id": "080fc3f3-2a0e-43be-8b2f-184b12e314a9",
   "metadata": {},
   "outputs": [
    {
     "name": "stdin",
     "output_type": "stream",
     "text": [
      "숫자를 입력하세요 :  28\n"
     ]
    },
    {
     "name": "stdout",
     "output_type": "stream",
     "text": [
      "28 은 3과 7의 공배수가 아님\n",
      "False\n"
     ]
    }
   ],
   "source": [
    "#3의 배수 & 7의 배수\n",
    "num = int(input('숫자를 입력하세요 : ')) \n",
    "if num % 3 == 0 and num % 7 == 0 :\n",
    "    print(num)\n",
    "else :\n",
    "    print(num, '은 3과 7의 공배수가 아님')\n",
    "print(not num)"
   ]
  },
  {
   "cell_type": "code",
   "execution_count": 159,
   "id": "9ce04832-a644-4023-ac61-947f5cca4cf0",
   "metadata": {},
   "outputs": [
    {
     "name": "stdin",
     "output_type": "stream",
     "text": [
      "아이디를 입력하세요 :  11\n",
      "회원 레벨을 입력하세요 :  1\n"
     ]
    },
    {
     "name": "stdout",
     "output_type": "stream",
     "text": [
      "관리자이다.\n"
     ]
    }
   ],
   "source": [
    "id = input('아이디를 입력하세요 : ')\n",
    "level = int(input('회원 레벨을 입력하세요 : ')) \n",
    "if id == 'admin' or level == 1 :\n",
    "    print('관리자이다.') \n",
    "else :\n",
    "    print('관리자가 아니다.')"
   ]
  },
  {
   "cell_type": "code",
   "execution_count": 169,
   "id": "7da0471d-8835-4379-8bac-8f3c06cef765",
   "metadata": {},
   "outputs": [
    {
     "name": "stdin",
     "output_type": "stream",
     "text": [
      "이름을 입력하세요 :  \n"
     ]
    },
    {
     "name": "stdout",
     "output_type": "stream",
     "text": [
      "이름이 입력되지 않았다.\n"
     ]
    }
   ],
   "source": [
    "name = input('이름을 입력하세요 : ') \n",
    "if not name :\n",
    "    print('이름이 입력되지 않았다.') \n",
    "else :\n",
    "    print('이름 : %s' % name)"
   ]
  },
  {
   "cell_type": "code",
   "execution_count": 189,
   "id": "424e2d81-da11-48f5-ade7-6af870ab0aaa",
   "metadata": {},
   "outputs": [
    {
     "name": "stdin",
     "output_type": "stream",
     "text": [
      "나이를 입력하세요 :  18\n"
     ]
    },
    {
     "name": "stdout",
     "output_type": "stream",
     "text": [
      "입장료 : 3000원\n"
     ]
    }
   ],
   "source": [
    "age = int(input('나이를 입력하세요 : ')) \n",
    "pay = '3000원'\n",
    "if age >= 65 or age < 7 : \n",
    "    pay = '무료'\n",
    "print('입장료 : %s' % pay)"
   ]
  },
  {
   "cell_type": "code",
   "execution_count": 201,
   "id": "29b38f98-ebea-4830-a8cd-a76dd3d00c1f",
   "metadata": {},
   "outputs": [
    {
     "name": "stdin",
     "output_type": "stream",
     "text": [
      "나이 입력:  17\n"
     ]
    },
    {
     "name": "stdout",
     "output_type": "stream",
     "text": [
      "입장료: 1000원\n"
     ]
    }
   ],
   "source": [
    "# 7미만 65이상 무료\n",
    "# 7-18 1000원\n",
    "# 19-64 3000원\n",
    "age = int(input('나이 입력: '))\n",
    "if age >= 65 or age < 7 : \n",
    "    pay = '무료'\n",
    "elif age>=7 and age<=18 : # 7<= age <= 18\n",
    "    pay = '1000원'\n",
    "else:\n",
    "    pay = '3000원'\n",
    "print('입장료: %s'% pay)"
   ]
  },
  {
   "cell_type": "code",
   "execution_count": 231,
   "id": "53201497-e1e0-4fdf-bd67-05975f0f3af5",
   "metadata": {},
   "outputs": [
    {
     "name": "stdin",
     "output_type": "stream",
     "text": [
      "5자리 비밀번호 입력 12345\n"
     ]
    },
    {
     "name": "stdout",
     "output_type": "stream",
     "text": [
      "비밀번호 Ok\n"
     ]
    },
    {
     "name": "stdin",
     "output_type": "stream",
     "text": [
      "5자리 비밀번호 입력 12345\n"
     ]
    },
    {
     "name": "stdout",
     "output_type": "stream",
     "text": [
      "비밀번호 Ok\n"
     ]
    }
   ],
   "source": [
    "pw = int(input('5자리 비밀번호 입력'))\n",
    "pwd = 12345\n",
    "if pw == pwd :\n",
    "    print('비밀번호 Ok')\n",
    "else :\n",
    "    print('비밀번호 Not ok')\n",
    "# --------------------------------------\n",
    "pw = input('5자리 비밀번호 입력')\n",
    "pwd = '12345'\n",
    "if pw == pwd : #(java는 ==이 아님)\n",
    "    print('비밀번호 Ok')\n",
    "else :\n",
    "    print('비밀번호 Not ok')"
   ]
  },
  {
   "cell_type": "code",
   "execution_count": 273,
   "id": "bdbc8263-4a74-4a4d-adcc-7b96c3999431",
   "metadata": {},
   "outputs": [
    {
     "name": "stdin",
     "output_type": "stream",
     "text": [
      "월을 입력하세요 :  4\n"
     ]
    },
    {
     "name": "stdout",
     "output_type": "stream",
     "text": [
      "4월은 봄입니다.\n"
     ]
    }
   ],
   "source": [
    "month = int(input('월을 입력하세요 : '))\n",
    "\n",
    "if month >= 3 and month <= 5 :    \n",
    "    print('%d월은 봄입니다.' % month) \n",
    "if month >= 6 and month <= 8 :    \n",
    "    print('%d월은 여름입니다.' % month) \n",
    "if month >= 9 and month <= 11 :    \n",
    "    print('%d월은 가을입니다.' % month)\n",
    "if month == 12 or month == 1 or month == 2 :  \n",
    "    print('%d월은 겨울입니다.' % month)"
   ]
  },
  {
   "cell_type": "code",
   "execution_count": 271,
   "id": "df8e3560-58bc-46dd-9239-d09f5f2f25fb",
   "metadata": {},
   "outputs": [
    {
     "name": "stdout",
     "output_type": "stream",
     "text": [
      "i의 값 : 10, 합계 : 55\n"
     ]
    }
   ],
   "source": [
    "sum = 0\n",
    "for i in range(1, 11) :\n",
    "    sum += i\n",
    "print('i의 값 : %d, 합계 : %d' % (i, sum))"
   ]
  },
  {
   "cell_type": "code",
   "execution_count": 269,
   "id": "d49caade-7294-47f5-81e8-18e180e12b2b",
   "metadata": {},
   "outputs": [
    {
     "name": "stdin",
     "output_type": "stream",
     "text": [
      "합계를 구할 최종값을 입력 1241\n"
     ]
    },
    {
     "name": "stdout",
     "output_type": "stream",
     "text": [
      "1~ 1241 까지 합계 : 770661\n"
     ]
    }
   ],
   "source": [
    "num = int(input('합계를 구할 최종값을 입력'))\n",
    "#알고리즘 1\n",
    "sum = 0\n",
    "for i in range(1, num+1) :\n",
    "    sum += i # sum = sum + i\n",
    "print('1~', i, '까지 합계 : %d' % sum)"
   ]
  },
  {
   "cell_type": "code",
   "execution_count": 283,
   "id": "59efd917-238c-41fc-9304-c46c4ca84a66",
   "metadata": {},
   "outputs": [
    {
     "name": "stdin",
     "output_type": "stream",
     "text": [
      "합계를 구할 최종값을 입력 10\n"
     ]
    },
    {
     "name": "stdout",
     "output_type": "stream",
     "text": [
      "1~ 10 까지 합계 : 55\n"
     ]
    }
   ],
   "source": [
    "num = int(input('합계를 구할 최종값을 입력'))\n",
    "#알고리즘 2\n",
    "sum = num*(num+1)*0.5 #시그마 공식 1~n  합계 n(n+1)/2\n",
    "print('1~', num, '까지 합계 : %d' % sum)"
   ]
  },
  {
   "cell_type": "code",
   "execution_count": 367,
   "id": "4156f559-8aa5-4408-8a25-20a224a8a2d6",
   "metadata": {},
   "outputs": [
    {
     "name": "stdin",
     "output_type": "stream",
     "text": [
      "좌석 종류를 입력해 주세요(1:일반실, 2:특실) :  1\n"
     ]
    },
    {
     "name": "stdout",
     "output_type": "stream",
     "text": [
      "일반실입니다.\n"
     ]
    }
   ],
   "source": [
    "#q3-2\n",
    "# 좌석 종류를 입력해 주세요(1:일반실, 2:특실) : 1 \n",
    "# 일반실입니다.\n",
    "a = input('좌석 종류를 입력해 주세요(1:일반실, 2:특실) : ') \n",
    "seat1 = '일반실'\n",
    "seat2 = '특실'\n",
    "if a == '1' :  \n",
    "    print('%s입니다.' % seat1)\n",
    "if a == '2' :  \n",
    "    print('%s입니다.' % seat2)\n",
    "#1. if\n",
    "#2. '1'\n",
    "#3. '2'"
   ]
  },
  {
   "cell_type": "code",
   "execution_count": 297,
   "id": "62008386-b3cd-4628-96d3-642196183d7b",
   "metadata": {},
   "outputs": [
    {
     "name": "stdin",
     "output_type": "stream",
     "text": [
      "숫자를 입력 16\n"
     ]
    },
    {
     "name": "stdout",
     "output_type": "stream",
     "text": [
      "16 4의 배수\n"
     ]
    }
   ],
   "source": [
    "# Q3-3\n",
    "a = int(input('숫자를 입력'))\n",
    "if a%5 == a%4 == 0 :\n",
    "    print(a, '4,5의  공배수')\n",
    "elif a%4 == 0 :\n",
    "    print(a, '4의 배수')\n",
    "elif a%5 == 0:\n",
    "    print(a, '5의 배수')\n",
    "else:\n",
    "    print('a은', '4,5의 배수가 아님')"
   ]
  },
  {
   "cell_type": "code",
   "execution_count": 305,
   "id": "4cc8c3be-ff00-483e-9b4b-ff26e71e3adb",
   "metadata": {},
   "outputs": [
    {
     "name": "stdin",
     "output_type": "stream",
     "text": [
      "영어 알파벳을 입력하세요 :  w\n"
     ]
    },
    {
     "name": "stdout",
     "output_type": "stream",
     "text": [
      "w은(는) 자음이다.\n"
     ]
    }
   ],
   "source": [
    "# q3-4\n",
    "# 영어 알파벳을 입력 : w , w는 자음\n",
    "\n",
    "char = input('영어 알파벳을 입력하세요 : ') \n",
    "char2 = char.upper() #.lower(소문)\n",
    "if char2 == 'A' or char2 == 'E' or char2 == 'I' or char2 == 'O' or char2 == 'U' : #char2 in [A,E,I,O,U}   \n",
    "    print('%s은(는) 모음이다.' % char) \n",
    "else : \n",
    "    print('%s은(는) 자음이다.' % char)\n",
    "# 1. if \n",
    "# 2. or\n",
    "# 3. char\n",
    "# 4. else"
   ]
  },
  {
   "cell_type": "code",
   "execution_count": 309,
   "id": "cc4a5792-37bb-438f-9ddc-2b03b1556c2b",
   "metadata": {},
   "outputs": [
    {
     "name": "stdin",
     "output_type": "stream",
     "text": [
      "키를 입력해 주세요 :  175\n",
      "몸무게를  입력해 주세요 :  70\n"
     ]
    },
    {
     "name": "stdout",
     "output_type": "stream",
     "text": [
      "------------------------------\n",
      "키 : 175cm\n",
      "몸무게 : 70kg\n",
      "딱 보기 좋습니다.\n",
      "------------------------------\n"
     ]
    }
   ],
   "source": [
    "#q3-5\n",
    "# 키를 입력해 주세요 : 175 \n",
    "# 몸무게를 입력해 주세요 : 70\n",
    "# ----------------------------- \n",
    "# 키 : 175cm \n",
    "# 몸무게 : 70kg \n",
    "# 딱 보기 좋습니다.\n",
    "\n",
    "height = int(input('키를 입력해 주세요 : ')) \n",
    "weight = int(input('몸무게를  입력해 주세요 : ')) \n",
    "a = (height - 100) * 0.9;  \n",
    "print('-' * 30) \n",
    "print('키 : %dcm' % height)\n",
    "print('몸무게 : %dkg' % weight)\n",
    "if weight > a : \n",
    "    print('딱 보기 좋습니다.') \n",
    "else : \n",
    "    print('표준(또는 마른) 체형입니다.') \n",
    "print('-' * 30)\n",
    "\n",
    "#1. height\n",
    "#2. weight\n",
    "#3. if\n",
    "#4. a\n",
    "#5. else\n"
   ]
  },
  {
   "cell_type": "code",
   "execution_count": 315,
   "id": "97a86167-c605-44e1-9a31-1da2a8781d5a",
   "metadata": {},
   "outputs": [
    {
     "name": "stdin",
     "output_type": "stream",
     "text": [
      "물건 구매가를 입력하세요 :  60000\n"
     ]
    },
    {
     "name": "stdout",
     "output_type": "stream",
     "text": [
      "구매가 : 60000원\n",
      "할인율 : 7.5%\n",
      "할인 금액 : 4500원\n",
      "지불 금액 : 55500원\n"
     ]
    }
   ],
   "source": [
    "#q3-6\n",
    "# 물건 구매가를 입력하세요 : 60000 \n",
    "# 구매가 : 60000원\n",
    "# 할인율 : 7.5% \n",
    "# 할인 금액 : 4500원 \n",
    "# 지불 금액 : 55500원\n",
    "buy = int(input('물건 구매가를 입력하세요 : ')) \n",
    "if buy >= 10000 and buy < 50000 :      \n",
    "    rate = 5 \n",
    "elif buy >= 50000 and buy < 300000 :       \n",
    "    rate = 7.5 \n",
    "elif buy >= 300000 :       \n",
    "    rate = 10 \n",
    "else : \n",
    "    rate = 0 \n",
    "discount = buy * rate / 100 \n",
    "pay = buy - discount \n",
    "print('구매가 : %.0f원' % buy) \n",
    "print('할인율 : %.1f%%' % rate) # %%(%출력) \n",
    "print('할인 금액 : %.0f원' % discount) \n",
    "print('지불 금액 : %.0f원' % pay)\n",
    "#1.if\n",
    "#2. elif\n",
    "#3. else\n",
    "#4. discount\n",
    "#5. pay"
   ]
  },
  {
   "cell_type": "code",
   "execution_count": 321,
   "id": "bd0166bc-fce2-44d7-8960-af8a02c68f6a",
   "metadata": {},
   "outputs": [
    {
     "name": "stdin",
     "output_type": "stream",
     "text": [
      "첫 번째 정수를 입력하세요 :  34\n",
      "두 번째 정수를 입력하세요 :  33\n",
      "세 번째 정수를 입력하세요 :  27\n"
     ]
    },
    {
     "name": "stdout",
     "output_type": "stream",
     "text": [
      "입력된 세 수 34, 33, 27 중에서 가장 큰 수는 34 입니다.\n"
     ]
    }
   ],
   "source": [
    "#q3-7\n",
    "# 첫 번째 정수를 입력하세요 : 34\n",
    "# 두 번째 정수를 입력하세요 : 33\n",
    "# 세 번째 정수를 입력하세요 : 27\n",
    "# 입력된 세 수 34, 33, 27 중에서 가장 큰 수는 \n",
    "# 34 입니다.\n",
    "num1 = int(input('첫 번째 정수를 입력하세요 : ')) \n",
    "num2 = int(input('두 번째 정수를 입력하세요 : ')) \n",
    "num3 = int(input('세 번째 정수를 입력하세요 : ')) \n",
    "if (num1 >= num2) and (num1 >= num3) :       \n",
    "    largest = num1 \n",
    "elif (num2 >= num1) and (num2 >= num3) :       \n",
    "    largest = num2 \n",
    "else : \n",
    "    largest = num3 \n",
    "print('입력된 세 수 %d, %d, %d 중에서 가장 큰 수는 %d 입니다.' % (num1, num2, num3, largest))\n",
    "#1. if\n",
    "#2. elif\n",
    "#3. else\n",
    "#4. largest"
   ]
  },
  {
   "cell_type": "code",
   "execution_count": 12,
   "id": "7c308d59-24d9-44e0-9829-a234244fde51",
   "metadata": {},
   "outputs": [
    {
     "name": "stdin",
     "output_type": "stream",
     "text": [
      "서비스 만족도:\n",
      "1. 매우만족\n",
      "2. 만족 \n",
      "3. 불만족\n",
      "서비스  만족도를 입력해주세요(예: 1 또는 2 또는 3) :  2\n",
      "음식값을  입력해 주세요(예:8000) :  9000\n"
     ]
    },
    {
     "name": "stdout",
     "output_type": "stream",
     "text": [
      "\n",
      "서비스 만족도 : 만족, 팁 : 900원\n"
     ]
    }
   ],
   "source": [
    "#q3-8\n",
    "# 서비스 만족도 : \n",
    "# 1: 매우만족\n",
    "# 2: 만족\n",
    "# 3: 불만족 서비스\n",
    "# 만족도를 입력해주세요(예: 1 또는 2 또는 3) : 2 \n",
    "# 음식값을 입력해 주세요(예:8000) : 9000 \n",
    "# 서비스 만족도 : 만족,\n",
    "# 팁 : 900원\n",
    "# 생략\n",
    "a = input('서비스 만족도:\\n1. 매우만족\\n2. 만족 \\n3. 불만족\\n서비스  만족도를 입력해주세요(예: 1 또는 2 또는 3) : ') \n",
    "price = int(input('음식값을  입력해 주세요(예:8000) : ')) \n",
    "if a == '1' : \n",
    "    tip = int(price * 0.2)     \n",
    "    service = '매우 만족'\n",
    "elif a == '2' :\n",
    "    tip = int(price * 0.1)     \n",
    "    service = '만족'\n",
    "else :   \n",
    "    tip = int(price * 0.05)     \n",
    "    service = '불만족'\n",
    "print()\n",
    "print('서비스 만족도 : %s, 팁 : %d원' % (service, tip))\n",
    "#1. a =='1'\n",
    "#2. a =='2'\n",
    "#3. service\n",
    "#4. tip"
   ]
  },
  {
   "cell_type": "code",
   "execution_count": 405,
   "id": "8f9cf64c-2018-4cc9-8f32-08880c9bff1e",
   "metadata": {},
   "outputs": [
    {
     "name": "stdin",
     "output_type": "stream",
     "text": [
      "시작 수를 입력하세요 :  100\n",
      "끝 수를 입력하세요 :  200\n"
     ]
    },
    {
     "name": "stdout",
     "output_type": "stream",
     "text": [
      "--------------------------------------------------\n",
      "100에서 200까지 5의 배수가 아닌 수의 합계 : 12000\n"
     ]
    }
   ],
   "source": [
    "#q4-1\n",
    "# 시작 수를 입력하세요 : 100 끝 수를 입력하세요 : 200 \n",
    "# -------------------------------------------------\n",
    "# 100에서 200까지 5의 배수가 아닌 수의 합계 : 12000\n",
    "n1 = int(input('시작 수를 입력하세요 : ')) \n",
    "n2 = int(input('끝 수를 입력하세요 : '))\n",
    "sum = 0 \n",
    "for i in range(n1, n2+1) :  \n",
    "    if i%5 !=  0 :    \n",
    "        sum  += i # += (sum = sum+i) 같다가 아니라 우측 값을 왼쪽 변수에 넣는다\n",
    "print('-' * 50) \n",
    "print('%d에서 %d까지 5의 배수가 아닌 수의 합계 : %d' % (n1, n2, sum))\n",
    "#1. n2+1\n",
    "#2. !=\n",
    "#3. sum\n",
    "#4. n1\n",
    "#5. n2\n",
    "#6. sum"
   ]
  },
  {
   "cell_type": "code",
   "execution_count": 403,
   "id": "45475b8b-6a82-44da-99b7-e21043b6a03d",
   "metadata": {},
   "outputs": [
    {
     "name": "stdin",
     "output_type": "stream",
     "text": [
      "하이픈(-)을 포함한 휴대폰 번호를 입력하세요:  010-1234-1234\n"
     ]
    },
    {
     "name": "stdout",
     "output_type": "stream",
     "text": [
      "01012341234"
     ]
    }
   ],
   "source": [
    "#q4-2\n",
    "# 하이픈(-)을 포함한 휴대폰 번호를 입력하세요: 010-1234-5678\n",
    "# 01012345678\n",
    "number = input('하이픈(-)을 포함한 휴대폰 번호를 입력하세요: ') \n",
    "for x in number : \n",
    "    if x != '-' : \n",
    "        print('%s' % x, end='')\n",
    "#1. number\n",
    "#2. !=\n",
    "#3. end"
   ]
  },
  {
   "cell_type": "code",
   "execution_count": 413,
   "id": "d7f52aad-6a13-406a-9600-e2d3d91d4862",
   "metadata": {},
   "outputs": [
    {
     "name": "stdin",
     "output_type": "stream",
     "text": [
      "하이픈(-)을 뺀 11자리의 휴대폰 번호를 입력하세요:  01033334444\n"
     ]
    },
    {
     "name": "stdout",
     "output_type": "stream",
     "text": [
      "010-3333-4444\n"
     ]
    }
   ],
   "source": [
    "#q4-3\n",
    "# 하이픈(-)을 뺀 11자리의 휴대폰 번호를 입력하세요: 01033334444 \n",
    "# 010-3333-4444\n",
    "phone = input('하이픈(-)을 뺀 11자리의 휴대폰 번호를 입력하세요: ') \n",
    "number = '' \n",
    "for i in range(0, 11) :  # len(phone)\n",
    "    if i ==  2: \n",
    "        number = number + (phone[2]+'-') \n",
    "    elif i == 6 :\n",
    "        number = number + (phone[6]+'-') \n",
    "    else :     \n",
    "        number = number + phone[i]\n",
    "print(number)\n",
    "#1. 11\n",
    "#2. 2\n",
    "#3. 6"
   ]
  },
  {
   "cell_type": "code",
   "execution_count": 443,
   "id": "d4ecf809-ba5f-4ae2-b00b-72adee7e8d49",
   "metadata": {},
   "outputs": [
    {
     "name": "stdout",
     "output_type": "stream",
     "text": [
      "--------------------------------------------------\n",
      "센티미터(cm) 인치(inch)   피트(ft)   야드(yd)\n",
      "--------------------------------------------------\n",
      "      10         3.9        0.3         0.1\n",
      "      20         7.9        0.7         0.2\n",
      "      30        11.8        1.0         0.3\n",
      "      40        15.7        1.3         0.4\n",
      "      50        19.7        1.6         0.5\n",
      "      60        23.6        2.0         0.7\n",
      "      70        27.6        2.3         0.8\n",
      "      80        31.5        2.6         0.9\n",
      "      90        35.4        3.0         1.0\n",
      "     100        39.4        3.3         1.1\n",
      "     110        43.3        3.6         1.2\n",
      "     120        47.2        3.9         1.3\n",
      "     130        51.2        4.3         1.4\n",
      "     140        55.1        4.6         1.5\n",
      "     150        59.1        4.9         1.6\n",
      "     160        63.0        5.2         1.7\n",
      "     170        66.9        5.6         1.9\n",
      "     180        70.9        5.9         2.0\n",
      "     190        74.8        6.2         2.1\n",
      "     200        78.7        6.6         2.2\n",
      "--------------------------------------------------\n"
     ]
    }
   ],
   "source": [
    "#q4-4\n",
    "# ------------------------------------------------- \n",
    "# 센티미터(cm) 인치(inch)   피트(ft)    야드(yd) \n",
    "# ------------------------------------------------- \n",
    "#   10        3.9        0.3         0.1     \n",
    "#   20        7.9        0.7         0.2    \n",
    "#   30       11.8        1.0         0.3    \n",
    "#   ...\n",
    "#   190      74.8        6.2         2.1    \n",
    "#   200      78.7        6.6         2.2 \n",
    "# --------------------------------------------------\n",
    "print('-' * 50) \n",
    "print('센티미터(cm) 인치(inch)   피트(ft)   야드(yd)') \n",
    "print('-' * 50) \n",
    "for cm in range(10, 201, 10)  :\n",
    "    inch = cm * 0.393701    \n",
    "    ft = cm * 0.032808 \n",
    "    yd = cm * 0.010936    \n",
    "    print('%8d  %10.1f %10.1f  %10.1f' % (cm, inch, ft, yd))       \n",
    "print('-' * 50)\n",
    "#1. cm\n",
    "#2. range\n",
    "#3. :"
   ]
  },
  {
   "cell_type": "code",
   "execution_count": 439,
   "id": "273bc651-2aaa-4ad4-aafc-b6af09407405",
   "metadata": {},
   "outputs": [
    {
     "name": "stdout",
     "output_type": "stream",
     "text": [
      "----------------------------------------\n",
      "킬로그램(kg) 파운드(lb)   온스(oz)\n",
      "----------------------------------------\n",
      "      10        22.0      352.7\n",
      "      15        33.1      529.1\n",
      "      20        44.1      705.5\n",
      "      25        55.1      881.8\n",
      "      30        66.1     1058.2\n",
      "      35        77.2     1234.6\n",
      "      40        88.2     1411.0\n",
      "      45        99.2     1587.3\n",
      "      50       110.2     1763.7\n",
      "      55       121.3     1940.1\n",
      "      60       132.3     2116.4\n",
      "      65       143.3     2292.8\n",
      "      70       154.3     2469.2\n",
      "      75       165.3     2645.5\n",
      "      80       176.4     2821.9\n",
      "      85       187.4     2998.3\n",
      "      90       198.4     3174.7\n",
      "      95       209.4     3351.0\n",
      "     100       220.5     3527.4\n",
      "----------------------------------------\n"
     ]
    }
   ],
   "source": [
    "#q4-5\n",
    "# --------------------------------------- \n",
    "# 킬로그램(kg) 파운드(lb)   온스(oz) \n",
    "# ---------------------------------------\n",
    "# 10    22.0      352.7\n",
    "# 15    33.1      529.1\n",
    "# 20    44.1      705.5\n",
    "# ...\n",
    "# 95    209.4     3351.0\n",
    "# 100   220.5     3527.4 \n",
    "# ---------------------------------------\n",
    "print('-' * 40) \n",
    "print('킬로그램(kg) 파운드(lb)   온스(oz)') \n",
    "print('-' * 40) \n",
    "for kg in range(10, 101, 5) :     \n",
    "    lb = kg * 2.204623    \n",
    "    oz = kg * 35.273962    \n",
    "    print('%8d  %10.1f %10.1f' % (kg, lb, oz)) \n",
    "print('-' * 40)\n",
    "#1. lb\n",
    "#2. kg\n",
    "#3. oz"
   ]
  },
  {
   "cell_type": "code",
   "execution_count": 455,
   "id": "909fbe52-c9c7-4ee7-b237-2fba82986574",
   "metadata": {},
   "outputs": [
    {
     "name": "stdin",
     "output_type": "stream",
     "text": [
      "숫자를 입력하세요 :  304984\n"
     ]
    },
    {
     "name": "stdout",
     "output_type": "stream",
     "text": [
      "입력된 숫자 중 홀수의 개수 : 2개\n"
     ]
    }
   ],
   "source": [
    "#q4-6\n",
    "# 숫자를 입력하세요 : 3049894 \n",
    "# 입력된 숫자 중 홀수의 개수 : 3개\n",
    "number = input('숫자를 입력하세요 : ') \n",
    "total = 0\n",
    "for a in number :    \n",
    "    a = int(a)    \n",
    "    if a%2  == 1 :    \n",
    "        total +=  1  #개수니까 1개씩\n",
    "print('입력된 숫자 중 홀수의 개수 : %d개' % total)\n",
    "#1. 0\n",
    "#2. a%2\n",
    "#3. +="
   ]
  },
  {
   "cell_type": "code",
   "execution_count": 515,
   "id": "9af0cd56-ddfa-4122-9a7b-c1822041bdd3",
   "metadata": {},
   "outputs": [
    {
     "name": "stdout",
     "output_type": "stream",
     "text": [
      "1*\n",
      "2**\n",
      "3***\n",
      "4****\n",
      "5*****\n",
      "6******\n",
      "7*******\n",
      "8********\n",
      "9*********\n",
      "10**********\n"
     ]
    }
   ],
   "source": [
    "#q4-7\n",
    "# *\n",
    "# **\n",
    "# ***\n",
    "# ****\n",
    "# *****\n",
    "# ******\n",
    "# *******\n",
    "# ********\n",
    "# *********\n",
    "# **********\n",
    "for i in range(1,11) :\n",
    "    #print(i, end = \"\")\n",
    "    for j in range(1,i+1) :  \n",
    "        print(\"*\", end='')   \n",
    "    print()\n",
    "#1. i+1\n",
    "#2. ''"
   ]
  },
  {
   "cell_type": "code",
   "execution_count": 541,
   "id": "239c291f-8952-43a2-b05f-69da662e1f28",
   "metadata": {},
   "outputs": [
    {
     "name": "stdout",
     "output_type": "stream",
     "text": [
      "         *\n",
      "        **\n",
      "       ***\n",
      "      ****\n",
      "     *****\n",
      "    ******\n",
      "   *******\n",
      "  ********\n",
      " *********\n",
      "**********\n"
     ]
    }
   ],
   "source": [
    "#q4-8\n",
    "#          * \n",
    "#         ** \n",
    "#        *** \n",
    "#       **** \n",
    "#      ***** \n",
    "#     ****** \n",
    "#    ******* \n",
    "#   ******** \n",
    "#  ********* \n",
    "# **********\n",
    "for i in range(1,11) : \n",
    "    for j in range(1, 11-i) :   \n",
    "        print(' ', end='')    \n",
    "    for k in range(1, i+1) :   \n",
    "        print('*', end='')    \n",
    "    print()\n",
    "#1. 11-i\n",
    "#2. i+1"
   ]
  },
  {
   "cell_type": "code",
   "execution_count": 575,
   "id": "0dd07407-2731-47b1-9af8-121b32d4d657",
   "metadata": {},
   "outputs": [
    {
     "name": "stdout",
     "output_type": "stream",
     "text": [
      "i는 1 / j= 123456789 / k= 1\n",
      "i는 2 / j= 12345678 / k= 12\n",
      "i는 3 / j= 1234567 / k= 123\n",
      "i는 4 / j= 123456 / k= 1234\n",
      "i는 5 / j= 12345 / k= 12345\n",
      "i는 6 / j= 1234 / k= 123456\n",
      "i는 7 / j= 123 / k= 1234567\n",
      "i는 8 / j= 12 / k= 12345678\n",
      "i는 9 / j= 1 / k= 123456789\n",
      "i는 10 / j=  / k= 12345678910\n",
      "i도 끝났어요.\n"
     ]
    }
   ],
   "source": [
    "for i in range(1,11) :\n",
    "    print(\"i는\", i, end = \" / \")\n",
    "\n",
    "    print(\"j=\", end = \" \")\n",
    "    for j in range(1, 11-i) :   \n",
    "        print(j, end = \"\")\n",
    "    print(\" / \", end = \"\")\n",
    "    print(\"k=\", end = \" \")\n",
    "    for k in range(1, i+1) :   \n",
    "        print(k, end = \"\")    \n",
    "    \n",
    "    print()\n",
    "print(\"i도 끝났어요.\")"
   ]
  }
 ],
 "metadata": {
  "kernelspec": {
   "display_name": "Python 3 (ipykernel)",
   "language": "python",
   "name": "python3"
  },
  "language_info": {
   "codemirror_mode": {
    "name": "ipython",
    "version": 3
   },
   "file_extension": ".py",
   "mimetype": "text/x-python",
   "name": "python",
   "nbconvert_exporter": "python",
   "pygments_lexer": "ipython3",
   "version": "3.12.4"
  }
 },
 "nbformat": 4,
 "nbformat_minor": 5
}
