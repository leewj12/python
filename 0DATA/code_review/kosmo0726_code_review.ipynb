{
 "cells": [
  {
   "cell_type": "code",
   "execution_count": null,
   "id": "73754d1a-0731-4be1-81b4-3f2518dc3477",
   "metadata": {},
   "outputs": [],
   "source": [
    "a = input('서비스 만족도:\\n'\n",
    "    '1: 매우 만족\\n'\n",
    "    '2: 만족\\n'\n",
    "    '3: 불만족\\n'\n",
    "    '서비스 만족도를 입력해주세요 (예: 1 또는 2 또는 3): ')\n",
    "price = int(input('음식값을 입력해 주세요(예:8000): '))\n",
    "\n",
    "if a == '1':\n",
    "    tip = int(price * 0.2)\n",
    "    service = '매우 만족'\n",
    "elif a == '2':\n",
    "    tip = int(price * 0.1)\n",
    "    service = '만족'\n",
    "else:\n",
    "    tip = int(price * 0.05)\n",
    "    service = '불만족'\n",
    "\n",
    "print()\n",
    "print('서비스 만족도 : %s,\\n'\n",
    "        '팁 : %d원' % (service, tip))"
   ]
  },
  {
   "cell_type": "code",
   "execution_count": null,
   "id": "076b3752-31ca-49e0-8761-dd34d93670db",
   "metadata": {},
   "outputs": [],
   "source": [
    "a = input('서비스 만족도:\\n'\n",
    "    '1: 매우 만족\\n'\n",
    "    '2: 만족\\n'\n",
    "    '3: 불만족\\n'\n",
    "    '0: 끝내기\\n'\n",
    "    '서비스 만족도를 입력해주세요 (예: 1 또는 2 또는 3): ')\n",
    "while True :\n",
    "    if (a>='0' and a<='3') :\n",
    "        if a == '0' :\n",
    "            break \n",
    "        price = int(input('음식값을 입력해 주세요(예:8000): '))  \n",
    "        if a == '1':    \n",
    "            tip = int(price * 0.2)    \n",
    "            service = '매우 만족'    \n",
    "        elif a == '2':    \n",
    "            tip = int(price * 0.1)    \n",
    "            service = '만족'    \n",
    "        else:    \n",
    "            tip = int(price * 0.05)    \n",
    "            service = '불만족'\n",
    "        print()    \n",
    "        print('서비스 만족도 : %s,\\n 팁 : %d원' % (service, tip))\n",
    "        break\n",
    "    else : print('0~1 사이 값을 선택해 주세요')\n",
    "    a = input('서비스 만족도:\\n'\n",
    "        '1: 매우 만족\\n'\n",
    "        '2: 만족\\n'\n",
    "        '3: 불만족\\n'\n",
    "        '0: 끝내기\\n'\n",
    "        '서비스 만족도를 입력해주세요 (예: 1 또는 2 또는 3): ')\n",
    "    break "
   ]
  },
  {
   "cell_type": "code",
   "execution_count": null,
   "id": "d65de77d-b33e-45f9-85ce-ee1b1f94be49",
   "metadata": {},
   "outputs": [],
   "source": [
    "a = input('서비스 만족도:\\n'\n",
    "    '1: 매우 만족\\n'\n",
    "    '2: 만족\\n'\n",
    "    '3: 불만족\\n'\n",
    "    '0: 끝내기\\n'\n",
    "    '서비스 만족도를 입력해주세요 (예: 1 또는 2 또는 3): ')\n",
    "while True :\n",
    "    if (a<'0' or a > '3'): \n",
    "        print('0~1 사이 값을 선택해 주세요')\n",
    "        a = input('서비스 만족도:\\n'\n",
    "            '1: 매우 만족\\n'\n",
    "            '2: 만족\\n'\n",
    "            '3: 불만족\\n'\n",
    "            '0: 끝내기\\n'\n",
    "            '서비스 만족도를 입력해주세요 (예: 1 또는 2 또는 3): ')\n",
    "        break\n",
    "    else :\n",
    "        if a == '0' :\n",
    "            break\n",
    "        price = int(input('음식값을 입력해 주세요(예:8000): '))\n",
    "        if a == '1':\n",
    "            tip = int(price * 0.2)\n",
    "            service = '매우 만족'\n",
    "        elif a == '2':\n",
    "            tip = int(price * 0.1)\n",
    "            service = '만족'    \n",
    "        else:\n",
    "            tip = int(price * 0.05)\n",
    "            service = '불만족'\n",
    "        print()\n",
    "        print('서비스 만족도 : %s,\\n 팁 : %d원' % (service, tip))\n",
    "        break"
   ]
  },
  {
   "cell_type": "code",
   "execution_count": null,
   "id": "76e2d4be-2529-4f1a-801d-04264c3be9ce",
   "metadata": {},
   "outputs": [],
   "source": [
    "# ----------------------------- \n",
    "# 섭씨          화씨\n",
    "# ----------------------------- \n",
    "# -20     -4.0 \n",
    "# -19 -2.2 \n",
    "# -18 -0.4 \n",
    "# ...\n",
    "# 39       102.2\n",
    "# 40       104.0 \n",
    "# -----------------------------\n",
    "print('-' * 30) \n",
    "print('     섭씨         화씨')\n",
    "print('-' * 30) \n",
    "c = -20\n",
    "while c < 41 :    \n",
    "    f = c * 9.0/ 5.0 + 32.0     \n",
    "    print('%8d  %8.1f' % (c, f))\n",
    "    c += 1 # c= c + 1\n",
    "print('-' * 30)\n",
    "#1. f\n",
    "#2. c\n",
    "#3. c += 1"
   ]
  },
  {
   "cell_type": "code",
   "execution_count": null,
   "id": "4295ffa3-4767-4d54-b6ca-317b508a828d",
   "metadata": {},
   "outputs": [],
   "source": [
    "# 200 202 203 205 206 208 209 211 \n",
    "# 212 214 215 217 218 220 221 223 \n",
    "# 224 226 227 229 230 232 233 235 \n",
    "# ...\n",
    "# 584 586 587 589 590 592 593 595 \n",
    "# 596 598 599\n",
    "\n",
    "i = 200 \n",
    "count = 0 \n",
    "while i < 601 :    \n",
    "if i % 3 3!_ 0 :   \n",
    "print('%d ' % i, end='')        \n",
    "i += 200\n",
    "if count % 8 == 0 :            \n",
    "print()    \n",
    "i ➌______ 1"
   ]
  },
  {
   "cell_type": "code",
   "execution_count": null,
   "id": "de3c959b-9254-4cab-8974-3fd47a8df4c1",
   "metadata": {},
   "outputs": [],
   "source": [
    "# 문장을 입력해 주세요 : 쥐 구멍에 볕 들 날 있 \n",
    "# 다.\n",
    "# .다있-날-들-볕-에멍구-쥐\n",
    "sentence = input('문장을 입력해 주세요 : ') \n",
    "i = len(sentence) - 1\n",
    "while i > 0 :  \n",
    "if ❷__________ == ' ' :      \n",
    "print('-', end='')    \n",
    "else :\n",
    "print('%s' % sentence[i], end='') \n",
    "i ❸____ 1\n",
    "#1. >\n",
    "#2. \n",
    "#3. \n"
   ]
  },
  {
   "cell_type": "code",
   "execution_count": null,
   "id": "e2831f92-0a2f-44ff-9298-865e5c1904c9",
   "metadata": {},
   "outputs": [],
   "source": [
    "fruits = ['사과', '오렌지', '딸기', '포도 ', '감', '키위', '멜론', '수박']\n",
    "list1 = [5, 10.2, '탁구', True, [4, 5, 6]] \n",
    "numbers = list(range(1, 10, 2))\n",
    "print(fruits)\n",
    "print(list1)\n",
    "print(numbers)\n",
    "print()\n",
    "print(fruits[0])\n",
    "print(fruits[1:4])\n",
    "print(fruits[2:])\n",
    "print(fruits[-1])\n",
    "print(fruits[-4:-2])\n",
    "print(fruits[-3:])"
   ]
  },
  {
   "cell_type": "code",
   "execution_count": null,
   "id": "15c77eaf-b629-4e58-a860-029da0cdb1c3",
   "metadata": {},
   "outputs": [],
   "source": [
    "a = ['red', 'green', 'blue'] \n",
    "a.append('yellow') \n",
    "print(a)\n",
    "a.insert(1, 'black') \n",
    "print(a)\n",
    "b = ['purple', 'white'] \n",
    "a.extend(b) #append는 ()그대로 추가 extend는 ([])속의 요소로 추가\n",
    "print(a) \n",
    "c = a + b \n",
    "print(c)"
   ]
  },
  {
   "cell_type": "code",
   "execution_count": null,
   "id": "971b251b-2860-4e91-94cf-d130745e7d8b",
   "metadata": {},
   "outputs": [],
   "source": [
    "a = [10, 20, 30, 40, 50, 60, 70, 80, 90, 100]\n",
    "x = a.index(30)\n",
    "print(x)\n",
    "a.pop(x)      # del a[x]와 동일 \n",
    "print(a)\n",
    "a.remove(90)\n",
    "print(a)\n",
    "a.clear()\n",
    "print(a)"
   ]
  },
  {
   "cell_type": "code",
   "execution_count": null,
   "id": "0224f817-0618-4fe4-bccb-fa9246978464",
   "metadata": {},
   "outputs": [],
   "source": [
    "list1 = ['a', 'bb', 'c', 'd','aaa', 'c', 'ddd', 'aaa',  'b', 'cc', 'd', 'aaa', ] \n",
    "length = list1.count('aaa')\n",
    "print(length)"
   ]
  },
  {
   "cell_type": "code",
   "execution_count": null,
   "id": "34a200cd-8af1-4875-a2f7-059801db3eed",
   "metadata": {
    "scrolled": true
   },
   "outputs": [],
   "source": [
    "list2 = [-7, 1, 5, 8, 3, 9, 11, 13] \n",
    "list2.sort()\n",
    "print(list2)\n",
    "list2.sort(reverse=True) # 내림차순\n",
    "print(list2)"
   ]
  },
  {
   "cell_type": "code",
   "execution_count": null,
   "id": "14b482cd-2d49-4d4d-9eec-65aa82f573fe",
   "metadata": {
    "scrolled": true
   },
   "outputs": [],
   "source": [
    "fruits = ['apple', 'orange', 'banana'] \n",
    "for fruit in fruits :\n",
    "    print(fruit)"
   ]
  },
  {
   "cell_type": "code",
   "execution_count": null,
   "id": "0fa54461-c1bc-4c24-a967-4341d49014b3",
   "metadata": {},
   "outputs": [],
   "source": [
    "scores = [88, 75, 90, 95, 77, 69, 80, 92] \n",
    "sum = 0\n",
    "for score in scores :\n",
    "    sum += score \n",
    "avg = sum/8\n",
    "print('총점 : %d, 평균 : %.2f' % (sum, avg))"
   ]
  },
  {
   "cell_type": "code",
   "execution_count": null,
   "id": "dda4b7e1-7fa0-45fb-9c99-2bd4f3b5a200",
   "metadata": {},
   "outputs": [],
   "source": [
    "animals = ['토끼', '거북이', '사자', '호랑이'] \n",
    "i = 0\n",
    "while i < len(animals) :\n",
    "    print(animals[i]) \n",
    "    i += 1"
   ]
  },
  {
   "cell_type": "code",
   "execution_count": null,
   "id": "e1cd856e-7304-4811-8e2a-6e545599582c",
   "metadata": {},
   "outputs": [],
   "source": [
    "numbers = [[10, 20, 30], [40, 50, 60]]\n",
    "print(numbers[0])\n",
    "print(numbers[1])\n",
    "print(numbers[0][0])\n",
    "print(numbers[0][1])\n",
    "print(numbers[0][2])\n",
    "print(numbers[1][0])\n",
    "print(numbers[1][1])\n",
    "print(numbers[1][2])"
   ]
  },
  {
   "cell_type": "code",
   "execution_count": null,
   "id": "c0c384d7-c822-4038-9c07-ea3914cc39f1",
   "metadata": {
    "scrolled": true
   },
   "outputs": [],
   "source": [
    "scores = [[96, 84, 80], [96, 86, 76], [76, 95, 83], [89, 96, 69],\\ # \\ 는 줄바꿈 \n",
    "          [90, 76, 91], [82, 66, 88], [83, 86, 79], [85, 90, 83]] \n",
    "for i in range(len(scores)) : #len(scores)=8 [0]~[7]\n",
    "    sum = 0\n",
    "    for j in range(len(scores[i])) :#len(scores[i])=3 [0]~[2]\n",
    "        sum = sum + scores[i][j] \n",
    "    avg = sum/len(scores[i])\n",
    "    print('%d번째 학생의 합계 : %d, 평균 : %.2f' % (i+1, sum, avg))"
   ]
  },
  {
   "cell_type": "code",
   "execution_count": 1,
   "id": "8ae498d5-6973-4296-83e6-2fb10907353b",
   "metadata": {
    "scrolled": true
   },
   "outputs": [
    {
     "name": "stdout",
     "output_type": "stream",
     "text": [
      "red\n",
      "white\n",
      "['green', 'blue', 'black']\n"
     ]
    }
   ],
   "source": [
    "#q5-1\n",
    "# red \n",
    "# white \n",
    "# ['green', 'blue', 'black']\n",
    "color = ['red', 'green', 'blue', 'black', 'white']\n",
    "print(color[0]) \n",
    "print(color[-1]) \n",
    "print(color[1:-1])\n",
    "#1. 0\n",
    "#2. -1\n",
    "#3. 1:-1"
   ]
  },
  {
   "cell_type": "code",
   "execution_count": 75,
   "id": "a2e41e69-67cb-46bb-a937-1f12a339719a",
   "metadata": {},
   "outputs": [
    {
     "name": "stdout",
     "output_type": "stream",
     "text": [
      "[1, 3, 5, 7, 9, 11, 13, 15, 17, 19]\n"
     ]
    }
   ],
   "source": [
    "#Q5-2\n",
    "# [1, 3, 5, 7, 9, 11, 13, 15, 17, 19]\n",
    "num = list(range(1, 20, 2)) \n",
    "print(num)\n",
    "#1. 1\n",
    "#2. 20\n",
    "#3. 2"
   ]
  },
  {
   "cell_type": "code",
   "execution_count": 73,
   "id": "b99d9914-f9f9-4678-abd0-05a63e81a492",
   "metadata": {},
   "outputs": [
    {
     "name": "stdout",
     "output_type": "stream",
     "text": [
      "사과\n",
      "바나나\n",
      "파인애플\n",
      "배\n",
      "키위\n"
     ]
    }
   ],
   "source": [
    "#q5-3\n",
    "# 사과 \n",
    "# 바나나 \n",
    "# 파인애플 \n",
    "# 배 \n",
    "# 키위\n",
    "mylist = ['사과', '바나나', '파인애플', '배'] \n",
    "mylist.append('키위')\n",
    "for a in  mylist:\n",
    "    print(a)\n",
    "#1. append\n",
    "#2. in\n",
    "#3. mylist"
   ]
  },
  {
   "cell_type": "code",
   "execution_count": 77,
   "id": "daaf0e66-258b-4549-9966-c53a3b01b295",
   "metadata": {},
   "outputs": [
    {
     "name": "stdout",
     "output_type": "stream",
     "text": [
      "['사과', '파인애플', '포도', '오렌지', '배']\n"
     ]
    }
   ],
   "source": [
    "#q5-4\n",
    "#['사과', '파인애플', '포도', '오렌지', '배']\n",
    "mylist = ['사과', '바나나', '파인애플', '포도', '오렌지', '배'] \n",
    "mylist.remove('바나나') \n",
    "print(mylist)\n",
    "#1. remove"
   ]
  },
  {
   "cell_type": "code",
   "execution_count": 79,
   "id": "062a1d22-d4ea-4e0b-8d39-17f6cbf8c37e",
   "metadata": {},
   "outputs": [
    {
     "name": "stdout",
     "output_type": "stream",
     "text": [
      "['kim', 24, 'kim@naver.com', 'lee', 35, 'lee@hanmail.net']\n"
     ]
    }
   ],
   "source": [
    "#q5-5\n",
    "# ['kim', 24, 'kim@naver.com', 'lee', 35, 'lee@hanmail.net']\n",
    "person1 = ['kim', 24, 'kim@naver.com'] \n",
    "person2 = ['lee', 35, 'lee@hanmail.net']\n",
    "person = person1 + person2 #.extend\n",
    "print(person)\n",
    "#1. +"
   ]
  },
  {
   "cell_type": "code",
   "execution_count": 1,
   "id": "7c4b6502-6fc2-481a-b7e2-40ed47272d61",
   "metadata": {},
   "outputs": [
    {
     "name": "stdout",
     "output_type": "stream",
     "text": [
      "수 : 3명\n",
      "우 : 6명\n",
      "미 : 3명\n",
      "양 : 4명\n",
      "가 : 4명\n"
     ]
    }
   ],
   "source": [
    "#q5-6\n",
    "# 수 : 3명 \n",
    "# 우 : 6명 \n",
    "# 미 : 3명 \n",
    "# 양 : 4명 \n",
    "# 가 : 4명\n",
    "s = [64, 89, 100, 85, 77, 58, 79, 67, 96, 87,87, 36, 82, 98, 84, 76, 63, 69, 53, 22]\n",
    "count_su = 0            # 90점 ~ 100점\n",
    "count_woo = 0           # 80점 ~ 89점\n",
    "count_mi = 0            # 70점 ~ 79점\n",
    "count_yang = 0          # 60점 ~ 69점\n",
    "count_ga = 0            # 0점   ~ 59점\n",
    "i = 0\n",
    "while i < len(s)  :  \n",
    "    if s[i] >= 90 and s[i] <=100 :\n",
    "        count_su = count_su + 1 #count_su += count_su\n",
    "    elif s[i] >= 80 and s[i] <= 89 :\n",
    "        count_woo = count_woo + 1 \n",
    "    elif s[i] >= 70 and s[i] <= 79 :\n",
    "        count_mi = count_mi + 1 \n",
    "    elif s[i] >= 60 and s[i] <= 69 :\n",
    "        count_yang = count_yang + 1\n",
    "    else s[i] >= 0 and s[i] <= 59 : \n",
    "        count_ga = count_ga + 1 \n",
    "    i += 1\n",
    "print('수 : %d명' % count_su) \n",
    "print('우 : %d명' % count_woo) \n",
    "print('미 : %d명' % count_mi)\n",
    "print('양 : %d명' % count_yang) \n",
    "print('가 : %d명' % count_ga)\n",
    "#1. i = 0\n",
    "#2.len(s)\n",
    "# 3. i += 1"
   ]
  },
  {
   "cell_type": "code",
   "execution_count": 3,
   "id": "83d0c600-52c4-4aa7-85a0-9ead7920636c",
   "metadata": {},
   "outputs": [
    {
     "name": "stdin",
     "output_type": "stream",
     "text": [
      "tr_in 에서 밑줄(_) 안에 들어갈 알파벳은? a\n"
     ]
    },
    {
     "name": "stdout",
     "output_type": "stream",
     "text": [
      "정답입니다!\n"
     ]
    },
    {
     "name": "stdin",
     "output_type": "stream",
     "text": [
      "b_s 에서 밑줄(_) 안에 들어갈 알파벳은? u\n"
     ]
    },
    {
     "name": "stdout",
     "output_type": "stream",
     "text": [
      "정답입니다!\n"
     ]
    },
    {
     "name": "stdin",
     "output_type": "stream",
     "text": [
      "_axi 에서 밑줄(_) 안에 들어갈 알파벳은? t\n"
     ]
    },
    {
     "name": "stdout",
     "output_type": "stream",
     "text": [
      "정답입니다!\n"
     ]
    },
    {
     "name": "stdin",
     "output_type": "stream",
     "text": [
      "air_lane 에서 밑줄(_) 안에 들어갈 알파벳은? p\n"
     ]
    },
    {
     "name": "stdout",
     "output_type": "stream",
     "text": [
      "정답입니다!\n"
     ]
    }
   ],
   "source": [
    "#q5-7?\n",
    "# tr_in 에서 밑줄(_) 안에 들어갈 알파벳은?a \n",
    "# 정답입니다!\n",
    "# b_s 에서 밑줄(_) 안에 들어갈 알파벳은?a \n",
    "# 틀렸습니다!\n",
    "# _axi 에서 밑줄(_) 안에 들어갈 알파벳은?h \n",
    "# 틀렸습니다!\n",
    "# air_lane 에서 밑줄(_) 안에 들어갈 알파벳은?w \n",
    "# 틀렸습니다!\n",
    "questions = ['tr_in', 'b_s', '_axi', 'air_lane'] \n",
    "answers   = ['a', 'u', 't','p']\n",
    "for i in range(len(questions)) :\n",
    "    q = '%s 에서 밑줄(_) 안에 들어갈 알파벳은?' % questions[i] \n",
    "    ans = input(q)\n",
    "    if ans.lower() == answers[i] : #lower 대소문자 구분없이 정답확인\n",
    "        print('정답입니다!')\n",
    "    else :\n",
    "        print('틀렸습니다!')\n",
    "#1. questions[i]\n",
    "#2. q\n",
    "#3. answers[i]"
   ]
  },
  {
   "cell_type": "code",
   "execution_count": 11,
   "id": "77842fbd-411b-4d92-b7d6-bee50d723e59",
   "metadata": {},
   "outputs": [
    {
     "name": "stdout",
     "output_type": "stream",
     "text": [
      "1번째 학생의 합계 : 260, 평균 : 86.67\n",
      "2번째 학생의 합계 : 258, 평균 : 86.00\n",
      "3번째 학생의 합계 : 254, 평균 : 84.67\n",
      "4번째 학생의 합계 : 254, 평균 : 84.67\n",
      "5번째 학생의 합계 : 257, 평균 : 85.67\n",
      "6번째 학생의 합계 : 236, 평균 : 78.67\n",
      "7번째 학생의 합계 : 248, 평균 : 82.67\n",
      "8번째 학생의 합계 : 258, 평균 : 86.00\n"
     ]
    }
   ],
   "source": [
    "# q5-8\n",
    "# 1번째 학생의 합계 : 260, 평균 : 86.67 \n",
    "# 2번째 학생의 합계 : 258, 평균 : 86.00 \n",
    "# 3번째 학생의 합계 : 254, 평균 : 84.67 \n",
    "# 4번째 학생의 합계 : 254, 평균 : 84.67 \n",
    "# 5번째 학생의 합계 : 257, 평균 : 85.67 \n",
    "# 6번째 학생의 합계 : 236, 평균 : 78.67 \n",
    "# 7번째 학생의 합계 : 248, 평균 : 82.67 \n",
    "# 8번째 학생의 합계 : 258, 평균 : 86.00\n",
    "scores = [[96, 84, 80], [96, 86, 76], [76, 95, 83], [89, 96, 69], \n",
    "          [90, 76, 91], [82, 66, 88], [83, 86, 79], [85, 90, 83]] \n",
    "i = 0 #변수 사용 전 초기값 설정(초기화)\n",
    "while i < len(scores) : \n",
    "    sum = 0\n",
    "    j = 0\n",
    "    while j < len(scores[i]) :\n",
    "        sum = sum + scores[i][j] #scores[i][j] = [0]~[2]\n",
    "        j += 1\n",
    "    avg = sum/len(scores[i]) \n",
    "    print('%d번째 학생의 합계 : %d, 평균 : %.2f' % (i+1, sum, avg)) \n",
    "    i += 1\n",
    "#1. i\n",
    "#2. j\n",
    "#3. j\n",
    "#4. i += 1"
   ]
  },
  {
   "cell_type": "code",
   "execution_count": null,
   "id": "c3e641b0-17d8-49ee-b54d-0db751b54121",
   "metadata": {},
   "outputs": [],
   "source": [
    "#q5-9\n",
    "# 성적을 입력하세요(종료 시 -1 입력): 75 \n",
    "# 성적을 입력하세요(종료 시 -1 입력): 83 \n",
    "# 성적을 입력하세요(종료 시 -1 입력): 88 \n",
    "# 성적을 입력하세요(종료 시 -1 입력): 93 \n",
    "# 성적을 입력하세요(종료 시 -1 입력): 97 \n",
    "# 성적을 입력하세요(종료 시 -1 입력): -1 \n",
    "# 합계 : 436, 평균 : 87.20\n",
    "scores = [] \n",
    "while True :\n",
    "    score = int(input('성적을 입력하세요(종료 시 -1 입력): ')) \n",
    "    if score == -1 :\n",
    "        ❶__________ \n",
    "    else :\n",
    "        scores.❷__________(score) \n",
    "    sum = 0 \n",
    "    for i in range(0, ❸__________) :\n",
    "        sum += scores[i]\n",
    "    avg = sum/❹__________\n",
    "    print('합계 : %d, 평균 : %.2f' % (sum, avg))\n",
    "#1. break\n",
    "#2. append\n",
    "#3. len(scores)\n",
    "#4. len(scores)"
   ]
  },
  {
   "cell_type": "code",
   "execution_count": 23,
   "id": "f511804d-57b8-4779-a1b9-fbff2366e6e3",
   "metadata": {},
   "outputs": [
    {
     "name": "stdout",
     "output_type": "stream",
     "text": [
      "  □  □  □  □  □  □  □  □  □  □\n",
      "  □  □  □  □  □  □  □  □  □  □\n",
      "  □  □  □  □  □  □  □  □  □  □\n",
      "  ■  ■  ■  □  □  □  □  □  ■  □\n",
      "  □  □  □  □  □  ■  □  □  □  □\n",
      "  □  ■  □  □  □  ■  □  ■  □  □\n",
      "  □  □  □  □  □  □  ■  □  □  □\n",
      "  ■  □  ■  □  □  □  □  □  □  ■\n",
      "\n",
      "※ 예약 가능 : ■, 예약 불가 : □\n"
     ]
    }
   ],
   "source": [
    "#q5-10\n",
    "# □□□□□□□□□□ \n",
    "# □□□□□□□□□□ \n",
    "# □□□□□□□□□□ \n",
    "# ■■■□□□□□■□ \n",
    "# □□□□□■□□□□ \n",
    "# □■□□□■□■□□ \n",
    "# □□□□□□■□□□ \n",
    "# ■□■□□□□□□■\n",
    "seats = [[0, 0, 0, 0, 0, 0, 0, 0, 0, 0], \n",
    "        [0, 0, 0, 0, 0, 0, 0, 0, 0, 0], \n",
    "        [0, 0, 0, 0, 0, 0, 0, 0, 0, 0],\n",
    "        [1, 1, 1, 0, 0, 0, 0, 0, 1, 0], \n",
    "        [0, 0, 0, 0, 0, 1, 0, 0, 0, 0], \n",
    "        [0, 1, 0, 0, 0, 1, 0, 1, 0, 0], \n",
    "        [0, 0, 0, 0, 0, 0, 1, 0, 0, 0], \n",
    "        [1, 0, 1, 0, 0, 0, 0, 0, 0, 1]]\n",
    "for i in range(len(seats)) : \n",
    "    for j in range(len(seats[i])) :\n",
    "        if seats[i][j] == 0 :\n",
    "            print('%3s' % '□', end='') \n",
    "        else :\n",
    "            print('%3s' % '■', end='') \n",
    "    print()\n",
    "print('\\n※ 예약 가능 : ■, 예약 불가 : □')\n",
    "#1. i\n",
    "#2. seats[i]\n",
    "#3. j\n",
    "#4. seats[i][j]"
   ]
  },
  {
   "cell_type": "code",
   "execution_count": 47,
   "id": "e6d1f0c9-0310-4bb3-b504-267ac7410bf6",
   "metadata": {},
   "outputs": [
    {
     "name": "stdout",
     "output_type": "stream",
     "text": [
      "range(0, 5)\n"
     ]
    }
   ],
   "source": [
    "a=[1,2,3,4,5]\n",
    "print(range(len(a)))"
   ]
  }
 ],
 "metadata": {
  "kernelspec": {
   "display_name": "Python 3 (ipykernel)",
   "language": "python",
   "name": "python3"
  },
  "language_info": {
   "codemirror_mode": {
    "name": "ipython",
    "version": 3
   },
   "file_extension": ".py",
   "mimetype": "text/x-python",
   "name": "python",
   "nbconvert_exporter": "python",
   "pygments_lexer": "ipython3",
   "version": "3.12.4"
  }
 },
 "nbformat": 4,
 "nbformat_minor": 5
}
