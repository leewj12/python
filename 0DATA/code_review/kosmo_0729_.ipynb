{
 "cells": [
  {
   "cell_type": "code",
   "execution_count": 90,
   "id": "b0277d87-d3e9-414c-bfbf-b6bdc9ac5126",
   "metadata": {
    "scrolled": true
   },
   "outputs": [],
   "source": [
    "# menu = 9'coffee', 'milk', 'tea', 'cider')\n",
    "# print(menu)\n",
    "# print(menu[0])\n",
    "# print(menu[2])\n",
    "# print(menu[0:3])\n",
    "# menu[1] = 'cola'"
   ]
  },
  {
   "cell_type": "code",
   "execution_count": 21,
   "id": "e3c4675f-a93f-4d82-9cf1-03657ae5663b",
   "metadata": {},
   "outputs": [
    {
     "name": "stdout",
     "output_type": "stream",
     "text": [
      "('apple', 'banana', 'cherry', 'orange', 'melon', 'strawberry')\n",
      "6\n",
      "apple\n",
      "banana\n",
      "cherry\n"
     ]
    }
   ],
   "source": [
    "tuple1 = ('apple', 'banana', 'cherry')\n",
    "tuple2 = ('orange', 'melon', 'strawberry')\n",
    "tuple3 = tuple1 + tuple2\n",
    "print(tuple3) \n",
    "print(len(tuple3)) \n",
    "for x in tuple1 :\n",
    "    print(x)\n",
    "del tuple1"
   ]
  },
  {
   "cell_type": "code",
   "execution_count": 51,
   "id": "cffb2c80-f285-42da-9018-ca89880b42b3",
   "metadata": {},
   "outputs": [
    {
     "name": "stdout",
     "output_type": "stream",
     "text": [
      "구구단표\n",
      "------------------------------\n",
      "2 x 1 = 2\n",
      "2 x 2 = 4\n",
      "2 x 3 = 6\n",
      "2 x 4 = 8\n",
      "2 x 5 = 10\n",
      "2 x 6 = 12\n",
      "2 x 7 = 14\n",
      "2 x 8 = 16\n",
      "2 x 9 = 18\n",
      "------------------------------\n",
      "3 x 1 = 3\n",
      "3 x 2 = 6\n",
      "3 x 3 = 9\n",
      "3 x 4 = 12\n",
      "3 x 5 = 15\n",
      "3 x 6 = 18\n",
      "3 x 7 = 21\n",
      "3 x 8 = 24\n",
      "3 x 9 = 27\n",
      "------------------------------\n",
      "4 x 1 = 4\n",
      "4 x 2 = 8\n",
      "4 x 3 = 12\n",
      "4 x 4 = 16\n",
      "4 x 5 = 20\n",
      "4 x 6 = 24\n",
      "4 x 7 = 28\n",
      "4 x 8 = 32\n",
      "4 x 9 = 36\n",
      "------------------------------\n",
      "5 x 1 = 5\n",
      "5 x 2 = 10\n",
      "5 x 3 = 15\n",
      "5 x 4 = 20\n",
      "5 x 5 = 25\n",
      "5 x 6 = 30\n",
      "5 x 7 = 35\n",
      "5 x 8 = 40\n",
      "5 x 9 = 45\n",
      "------------------------------\n",
      "6 x 1 = 6\n",
      "6 x 2 = 12\n",
      "6 x 3 = 18\n",
      "6 x 4 = 24\n",
      "6 x 5 = 30\n",
      "6 x 6 = 36\n",
      "6 x 7 = 42\n",
      "6 x 8 = 48\n",
      "6 x 9 = 54\n",
      "------------------------------\n",
      "7 x 1 = 7\n",
      "7 x 2 = 14\n",
      "7 x 3 = 21\n",
      "7 x 4 = 28\n",
      "7 x 5 = 35\n",
      "7 x 6 = 42\n",
      "7 x 7 = 49\n",
      "7 x 8 = 56\n",
      "7 x 9 = 63\n",
      "------------------------------\n",
      "8 x 1 = 8\n",
      "8 x 2 = 16\n",
      "8 x 3 = 24\n",
      "8 x 4 = 32\n",
      "8 x 5 = 40\n",
      "8 x 6 = 48\n",
      "8 x 7 = 56\n",
      "8 x 8 = 64\n",
      "8 x 9 = 72\n",
      "------------------------------\n",
      "9 x 1 = 9\n",
      "9 x 2 = 18\n",
      "9 x 3 = 27\n",
      "9 x 4 = 36\n",
      "9 x 5 = 45\n",
      "9 x 6 = 54\n",
      "9 x 7 = 63\n",
      "9 x 8 = 72\n",
      "9 x 9 = 81\n",
      "------------------------------\n"
     ]
    }
   ],
   "source": [
    "#q6-1\n",
    "# 구구단표 \n",
    "# -----------------------------\n",
    "# 2 x 1 = 2 \n",
    "# 2 x 2 = 4 \n",
    "# 2 x 3 = 6 \n",
    "# ...\n",
    "# 9 x 8 = 72 \n",
    "# 9 x 9 = 81 \n",
    "# -----------------------------\n",
    "d=(2,3,4,5,6,7,8,9)\n",
    "print('구구단표')\n",
    "print('-'*30)\n",
    "for dan in d:\n",
    "    for i in range(1,10):\n",
    "        print('%d x %d = %d'%(dan, i, dan*i))\n",
    "    print('-'*30)"
   ]
  },
  {
   "cell_type": "code",
   "execution_count": 55,
   "id": "2abbfd6c-29e8-42fe-8252-7f9982fc4e8b",
   "metadata": {},
   "outputs": [
    {
     "name": "stdout",
     "output_type": "stream",
     "text": [
      "{'name': '안지영', 'age': 30, 'email': 'jiyoung@korea.com'}\n",
      "안지영\n",
      "30\n",
      "길이 : 3\n"
     ]
    }
   ],
   "source": [
    "#딕셔너리의 기본 구조\n",
    "members = {'name': '안지영', 'age': 30, 'email': 'jiyoung@korea.com'}\n",
    "print(members)\n",
    "print(members['name'])\n",
    "print(members['age'])\n",
    "print('길이 : %d' % len(members)) # 키, 값은 한쌍"
   ]
  },
  {
   "cell_type": "code",
   "execution_count": 61,
   "id": "c6a62de4-8e6e-4597-ba3e-c41da9e7eb88",
   "metadata": {},
   "outputs": [
    {
     "name": "stdout",
     "output_type": "stream",
     "text": [
      "{'kor': 95, 'eng': 85, 'math': 90, 'science': 80}\n",
      "70\n",
      "{'kor': 70, 'eng': 85, 'math': 90, 'science': 80, 'music': 100}\n",
      "{'kor': 70, 'eng': 85, 'math': 90, 'music': 100}\n",
      "이름 : 안진영\n",
      "국어 : 70\n",
      "영어 : 85\n",
      "수학 : 90\n"
     ]
    }
   ],
   "source": [
    "#딕셔너리 요소 다루기\n",
    "name = '안진영'\n",
    "scores = {'kor': 95, 'eng': 85, 'math': 90, 'science': 80} \n",
    "print(scores)\n",
    "scores['kor'] = 70 \n",
    "print(scores['kor'])\n",
    "scores['music'] = 100 \n",
    "print(scores)\n",
    "del scores['science']\n",
    "print(scores)\n",
    "print('이름 : %s' % name)\n",
    "print('국어 : %d' % scores['kor'])\n",
    "print('영어 : %d' % scores['eng'])\n",
    "print('수학 : %d' % scores['math'])"
   ]
  },
  {
   "cell_type": "code",
   "execution_count": 92,
   "id": "cf118b2d-3157-4ed8-ac2c-ceefda9f0469",
   "metadata": {},
   "outputs": [
    {
     "name": "stdout",
     "output_type": "stream",
     "text": [
      "{'갤럭시 노트8': 2017, '갤럭시 S9': 2018, '갤럭시 노트10': 2019, '갤럭시 S20': 2020}\n",
      "dict_items([('갤럭시 노트8', 2017), ('갤럭시 S9', 2018), ('갤럭시 노트10', 2019), ('갤럭시 S20', 2020)])\n",
      "dict_keys(['갤럭시 노트8', '갤럭시 S9', '갤럭시 노트10', '갤럭시 S20'])\n",
      "dict_values([2017, 2018, 2019, 2020])\n",
      "갤럭시 노트8 => 2017\n",
      "갤럭시 S9 => 2018\n",
      "갤럭시 노트10 => 2019\n",
      "갤럭시 S20 => 2020\n",
      "4\n"
     ]
    }
   ],
   "source": [
    "#for문에서 딕셔너리 사용하기\n",
    "phones = {'갤럭시 노트8': 2017,  '갤럭시 S9': 2018, '갤럭시 노트10': 2019, '갤럭시 S20': 2020} \n",
    "print(phones)\n",
    "print(phones.items()) # list type\n",
    "print(phones.keys())\n",
    "print(phones.values())\n",
    "for key in phones :\n",
    "    print('%s => %s' % (key, phones[key])) \n",
    "print(len(phones))"
   ]
  },
  {
   "cell_type": "code",
   "execution_count": 165,
   "id": "5cf839ef-c2a4-46f3-96ef-a4ac88d4685b",
   "metadata": {},
   "outputs": [
    {
     "name": "stdout",
     "output_type": "stream",
     "text": [
      "['apple', 'banana', 'cherry', 'orange', 'melon', 'strawberry']\n",
      "['kim', 24, 'kim@naver.com', 'lee', 35, 'lee@hanmail.net']\n",
      "['kim', 24, 'kim@naver.com', 'lee', 35, 'lee@hanmail.net']\n"
     ]
    }
   ],
   "source": [
    "l1=['apple', 'banana', 'cherry']\n",
    "l2 = ['orange', 'melon', 'strawberry']\n",
    "l3 = [1,2,3]\n",
    "l4 = [4,5,6]\n",
    "\n",
    "l1.extend(l2)\n",
    "l5= l1\n",
    "print(l5)\n",
    "\n",
    "person1 = ['kim', 24, 'kim@naver.com']\n",
    "person2 = ['lee', 35, 'lee@hanmail.net']\n",
    "person = person1+(person2)\n",
    "print(person)\n",
    "\n",
    "person1.extend(person2) #person=person1.extend(person2)는 none (extend()의 내장함수의 반환값이 none)\n",
    "personR=person1\n",
    "print(personR)"
   ]
  },
  {
   "cell_type": "code",
   "execution_count": 178,
   "id": "d0dc9f73-0aa7-4ef6-903a-ea53240cb374",
   "metadata": {},
   "outputs": [
    {
     "name": "stdout",
     "output_type": "stream",
     "text": [
      "7은(는) 홀수이다.\n",
      "16은(는) 짝수이다.\n"
     ]
    }
   ],
   "source": [
    "# 매개 변수가 1개인 경우\n",
    "def even_odd(num) :\n",
    "    if num % 2 == 0 :\n",
    "        print('%d은(는) 짝수이다.' % num) \n",
    "    else :\n",
    "        print('%d은(는) 홀수이다.' % num) \n",
    "even_odd(7)\n",
    "even_odd(16)"
   ]
  },
  {
   "cell_type": "code",
   "execution_count": 214,
   "id": "68d919ab-f826-492d-923f-1191f9487ff8",
   "metadata": {},
   "outputs": [
    {
     "name": "stdout",
     "output_type": "stream",
     "text": [
      "김지영님은 빨강을 좋아하지 않습니다.\n",
      "홍채영님은 노랑을 조금 좋아합니다.\n",
      "진소진님은 파랑을 매우 좋아합니다.\n"
     ]
    }
   ],
   "source": [
    "#매개 변수가 여러 개인 경우\n",
    "def favorate_color(name, color, amount) :\n",
    "    if (amount == 1) :\n",
    "        print('%s님은 %s을 좋아하지 않습니다.' % (name, color)) \n",
    "    elif (amount == 2) :\n",
    "        print('%s님은 %s을 조금 좋아합니다.' % (name, color)) \n",
    "    else :\n",
    "        print('%s님은 %s을 매우 좋아합니다.' % (name, color))\n",
    "favorate_color('김지영', '빨강', 1)\n",
    "favorate_color('홍채영', '노랑', 2)\n",
    "favorate_color('진소진', '파랑', 3)"
   ]
  },
  {
   "cell_type": "code",
   "execution_count": 229,
   "id": "f9361b79-36c6-432a-8bf9-6dd7ac4c142a",
   "metadata": {},
   "outputs": [
    {
     "name": "stdout",
     "output_type": "stream",
     "text": [
      "3과목의 평균 : 90.00\n",
      "4과목의 평균 : 81.75\n",
      "5과목의 평균 : 79.40\n"
     ]
    }
   ],
   "source": [
    "#매개 변수 *args\n",
    "def average(*scores) : # *변수 = 변수 여러개 한번에\n",
    "    sum = 0\n",
    "    for i in range(len(scores)) : # 가능하면 함수의 개수를 최소로\n",
    "        sum += scores[i] \n",
    "    avg = sum/len(scores)\n",
    "    print('%d과목의 평균 : %.2f' % (len(scores), avg))\n",
    "average(80, 90, 100)\n",
    "average(75, 80, 94, 78)\n",
    "average(80, 73, 76, 86, 82)"
   ]
  },
  {
   "cell_type": "code",
   "execution_count": 34,
   "id": "c4d81785-dea1-4723-a952-45735a5409fa",
   "metadata": {},
   "outputs": [
    {
     "name": "stdout",
     "output_type": "stream",
     "text": [
      "메인 : x =  10 , id = 140730080836312\n",
      "func() : x =  100 , id = 140730080839192\n",
      "y= 20\n",
      "y= 50\n",
      "메인 : x =  10 , id = 140730080836312\n"
     ]
    }
   ],
   "source": [
    "#파이썬의 값에 의한 호출\n",
    "# 서브 루틴 : func() 함수 \n",
    "def func(x) :\n",
    "    x = 100\n",
    "    global y\n",
    "    print('func() : x = ', x, ', id =', id(x)) #id = 객체를 구별하기 위해 고유 값 리턴 일련번호는 의미x\n",
    "    print('y=',y)\n",
    "    y = y + 30\n",
    "    print('y=',y)\n",
    "# 메인 루틴\n",
    "x = 10\n",
    "y = 20\n",
    "print('메인 : x = ', x, ', id =', id(x)) \n",
    "func(x)\n",
    "print('메인 : x = ', x, ', id =', id(x))\n",
    "print('메인에서 출력하는 "
   ]
  },
  {
   "cell_type": "code",
   "execution_count": 38,
   "id": "6ee538ba-c5d2-45e0-8603-0ac58a9ea2cc",
   "metadata": {},
   "outputs": [
    {
     "name": "stdout",
     "output_type": "stream",
     "text": [
      "메인 : x =  [1, 2, 3] , id = 3006547956992\n",
      "func() : x =  [100, 2, 3] , id = 3006547956992\n",
      "메인 : x =  [100, 2, 3] , id = 3006547956992\n"
     ]
    }
   ],
   "source": [
    "#파이썬의 레퍼런스에 의한 호출\n",
    "# 서브 루틴 : func() 함수 \n",
    "def func(x) :\n",
    "    x[0] = 100\n",
    "    print('func() : x = ', x, ', id =', id(x)) \n",
    "# 메인 루틴\n",
    "x = [1, 2, 3]\n",
    "print('메인 : x = ', x, ', id =', id(x)) \n",
    "func(x)\n",
    "print('메인 : x = ', x, ', id =', id(x))"
   ]
  },
  {
   "cell_type": "code",
   "execution_count": 42,
   "id": "90089b72-2d64-4445-9e0f-fcef9d998bda",
   "metadata": {},
   "outputs": [
    {
     "name": "stdin",
     "output_type": "stream",
     "text": [
      "원의 반지름을 입력하세요 :  3\n"
     ]
    },
    {
     "name": "stdout",
     "output_type": "stream",
     "text": [
      "반지름 : 3, 원의 면적 : 28.26\n"
     ]
    },
    {
     "name": "stdin",
     "output_type": "stream",
     "text": [
      "원의 반지름을 입력하세요 :  3\n"
     ]
    },
    {
     "name": "stdout",
     "output_type": "stream",
     "text": [
      "반지름 : 3, 원의 면적 : 28.26\n"
     ]
    }
   ],
   "source": [
    "# 함수 값의 반환\n",
    "def circle_area(r) : \n",
    "    area = r * r * 3.14   \n",
    "    return area\n",
    "radius = int(input('원의 반지름을 입력하세요 : ')) \n",
    "result = circle_area(radius)\n",
    "print('반지름 : %d, 원의 면적 : %.2f' % (radius, result)) \n",
    "radius = int(input('원의 반지름을 입력하세요 : '))\n",
    "result = circle_area(radius)\n",
    "print('반지름 : %d, 원의 면적 : %.2f' % (radius, result))"
   ]
  },
  {
   "cell_type": "code",
   "execution_count": 56,
   "id": "c41497e8-8a39-4cf2-aa05-2f80e71f54f9",
   "metadata": {},
   "outputs": [
    {
     "name": "stdout",
     "output_type": "stream",
     "text": [
      "25\n",
      "100\n"
     ]
    }
   ],
   "source": [
    "#람다 함수\n",
    "x = lambda a : a**2 \n",
    "# def x(a):\n",
    "#     return a**2\n",
    "print(x(5))  #25\n",
    "print(x(10))  #100"
   ]
  },
  {
   "cell_type": "code",
   "execution_count": 69,
   "id": "8c503cb0-19b3-4fe2-b6dd-46fc58dcfb1d",
   "metadata": {
    "scrolled": true
   },
   "outputs": [
    {
     "name": "stdout",
     "output_type": "stream",
     "text": [
      "60\n",
      "30\n",
      "50\n"
     ]
    }
   ],
   "source": [
    "#람다 함수 사용 예  #https://chatgpt.com/c/8f769d40-343c-43a1-a030-5253173b11ab\n",
    "f = lambda x, y, z : x + y + z \n",
    "# def f (x,y,z):\n",
    "#     return x+y+z\n",
    "print(f(10, 20, 30))\n",
    "def mul(n) :\n",
    "    return lambda x : x * n \n",
    "    # mul = lambda n: lambda x : x * n\n",
    "g = mul(3)\n",
    "h = mul(5) \n",
    "print(g(10)) #mul(3)(10)\n",
    "print(h(10))"
   ]
  },
  {
   "cell_type": "code",
   "execution_count": 73,
   "id": "d3c1df12-17b9-4567-bd20-71d75b485f3d",
   "metadata": {},
   "outputs": [
    {
     "name": "stdout",
     "output_type": "stream",
     "text": [
      "10\n",
      "<function <lambda> at 0x000002BC001287C0>\n"
     ]
    }
   ],
   "source": [
    "#지역 변수 사용 시의 오류\n",
    "def func() : \n",
    "    x = 10 \n",
    "    print(x)\n",
    "func() \n",
    "print(x) #지역변수 x 는 함수 외에 무효"
   ]
  },
  {
   "cell_type": "code",
   "execution_count": 75,
   "id": "6070c4fc-5d90-415b-9c1c-939cf02b107f",
   "metadata": {},
   "outputs": [
    {
     "name": "stdout",
     "output_type": "stream",
     "text": [
      "10\n",
      "140730080836312\n",
      "10\n",
      "140730080836312\n"
     ]
    }
   ],
   "source": [
    "#전역 변수의 사용 예\n",
    "def func() : \n",
    "    print(x) \n",
    "    print(id(x))\n",
    "x = 10 \n",
    "print(x) \n",
    "print(id(x)) \n",
    "func()"
   ]
  },
  {
   "cell_type": "code",
   "execution_count": 1,
   "id": "54f03269-3f6e-42c0-aff6-e45cd2021f65",
   "metadata": {},
   "outputs": [
    {
     "name": "stdout",
     "output_type": "stream",
     "text": [
      "10\n",
      "140730080836312\n",
      "100\n",
      "140730080839192\n",
      "10\n",
      "140730080836312\n"
     ]
    }
   ],
   "source": [
    "#전역 변수의 값의 변경\n",
    "def func() : \n",
    "    x = 100 \n",
    "    print(x) \n",
    "    print(id(x))\n",
    "x = 10 \n",
    "print(x) \n",
    "print(id(x))\n",
    "func() \n",
    "print(x)\n",
    "print(id(x))"
   ]
  },
  {
   "cell_type": "code",
   "execution_count": 79,
   "id": "82190a0a-744d-4bbc-a680-e8c65aacdedd",
   "metadata": {},
   "outputs": [
    {
     "name": "stdout",
     "output_type": "stream",
     "text": [
      "10\n",
      "100\n",
      "140730080839192\n",
      "100\n",
      "140730080839192\n"
     ]
    }
   ],
   "source": [
    "#키워드 global\n",
    "def func() : \n",
    "    global x \n",
    "    x = 100 \n",
    "    print(x) \n",
    "    print(id(x))\n",
    "x = 10 \n",
    "print(x) \n",
    "func() \n",
    "print(x) \n",
    "print(id(x))"
   ]
  },
  {
   "cell_type": "code",
   "execution_count": 102,
   "id": "27015823-4614-4f8e-883e-45b68dd50efd",
   "metadata": {},
   "outputs": [
    {
     "name": "stdin",
     "output_type": "stream",
     "text": [
      "관리자 아이디 입력:  admin\n",
      "관리자 비밀번호 입력:  12345\n"
     ]
    },
    {
     "name": "stdout",
     "output_type": "stream",
     "text": [
      "관리자\n"
     ]
    }
   ],
   "source": [
    "#q6-2\n",
    "# 실행 결과 1\n",
    "# 관리자 아이디를 입력하세요 : rubato \n",
    "# 관리자 비밀번호를 입력하세요 : 1111 \n",
    "# 아이디 또는 비밀번호가 잘못 입력되었습니다.\n",
    "# 실행결과 2\n",
    "# 관리자 아이디를 입력하세요 : admin \n",
    "# 관리자 비밀번호를 입력하세요 : 12345 \n",
    "# 관리자입니다.\n",
    "admin_info = ('admin', '12345', 'rubato@naver.com')\n",
    "id = input('관리자 아이디 입력: ')\n",
    "password = input('관리자 비밀번호 입력: ')\n",
    "if id == 'admin' and password == '12345' :\n",
    "    print('관리자')\n",
    "else :\n",
    "    print('아이디 또는 비밀번호가 잘못되었습니다')"
   ]
  },
  {
   "cell_type": "code",
   "execution_count": 204,
   "id": "8a1b2cc5-56f8-4c3c-8d3e-df5f4484f019",
   "metadata": {},
   "outputs": [
    {
     "name": "stdout",
     "output_type": "stream",
     "text": [
      "김예진: 90\n",
      "박영진: 95\n",
      "김소희: 84\n",
      "합계: 269, 평균 :89.67\n"
     ]
    }
   ],
   "source": [
    "# q6-3\n",
    "# 김예진 : 90\n",
    "# 박영진 : 95\n",
    "# 김소희 : 84\n",
    "# 합계 : 269, 평균 : 89.67\n",
    "scores = {'김예진': 90, '박영진' : 95, '김소희' : 84}\n",
    "sum = 0\n",
    "for key in scores :\n",
    "    sum += scores[key]\n",
    "    print('%s: %d' %(key, scores[key]))\n",
    "avg = sum/len(scores)\n",
    "print('합계: %d, 평균 :%0.2f'%(sum,avg))"
   ]
  },
  {
   "cell_type": "code",
   "execution_count": 212,
   "id": "7df759e4-2799-4c2f-bbea-024b1f621f67",
   "metadata": {},
   "outputs": [
    {
     "name": "stdin",
     "output_type": "stream",
     "text": [
      "아이디 입력 asd\n",
      "비밀번호 입력 asd\n"
     ]
    },
    {
     "name": "stdout",
     "output_type": "stream",
     "text": [
      "정보 권한 없음\n"
     ]
    }
   ],
   "source": [
    "# q6-4\n",
    "# 결과1\n",
    "# 아이디를 입력하세요: ocella \n",
    "# 비밀번호를 입력하세요: 13093 \n",
    "# 정보에 접근 권한이 없습니다!\n",
    "# 결과2\n",
    "# 아이디를 입력하세요: admin \n",
    "# 비밀번호를 입력하세요: 11111 \n",
    "# 모든 정보에 접근 가능합니다!\n",
    "ad = {'id': 'admin', 'password': '11111'}\n",
    "in_id=input('아이디 입력')\n",
    "in_password=input('비밀번호 입력')\n",
    "if(in_id==ad['id'] and in_password==ad['password']):\n",
    "    print('모든 정보 접근 가능')\n",
    "else:\n",
    "    print('정보 권한 없음')"
   ]
  },
  {
   "cell_type": "code",
   "execution_count": 22,
   "id": "8a75d8c9-0950-42ff-a9fa-db693c637a20",
   "metadata": {
    "jp-MarkdownHeadingCollapsed": true
   },
   "outputs": [
    {
     "name": "stdin",
     "output_type": "stream",
     "text": [
      "사과에 해당되는 영어 단어를 입력:  apple\n"
     ]
    },
    {
     "name": "stdout",
     "output_type": "stream",
     "text": [
      "정답\n"
     ]
    },
    {
     "name": "stdin",
     "output_type": "stream",
     "text": [
      "컴퓨터에 해당되는 영어 단어를 입력:  computer\n"
     ]
    },
    {
     "name": "stdout",
     "output_type": "stream",
     "text": [
      "정답\n"
     ]
    },
    {
     "name": "stdin",
     "output_type": "stream",
     "text": [
      "학교에 해당되는 영어 단어를 입력:  asd\n"
     ]
    },
    {
     "name": "stdout",
     "output_type": "stream",
     "text": [
      "오답\n"
     ]
    },
    {
     "name": "stdin",
     "output_type": "stream",
     "text": [
      "책상에 해당되는 영어 단어를 입력:  asd\n"
     ]
    },
    {
     "name": "stdout",
     "output_type": "stream",
     "text": [
      "오답\n"
     ]
    },
    {
     "name": "stdin",
     "output_type": "stream",
     "text": [
      "의자에 해당되는 영어 단어를 입력:  dsa\n"
     ]
    },
    {
     "name": "stdout",
     "output_type": "stream",
     "text": [
      "오답\n"
     ]
    }
   ],
   "source": [
    "# q6-5\n",
    "# 사과에 해당되는 영어 단어를 입력해주세요: apple \n",
    "# 정답입니다!\n",
    "# 컴퓨터에 해당되는 영어 단어를 입력해주세요: commputer \n",
    "# 틀렸습니다!\n",
    "# 학교에 해당되는 영어 단어를 입력해주세요: school \n",
    "# 정답입니다!\n",
    "# 책상에 해당되는 영어 단어를 입력해주세요: tesk \n",
    "# 틀렸습니다!\n",
    "# 의자에 해당되는 영어 단어를 입력해주세요: chaaar \n",
    "# 틀렸습니다!\n",
    "words={'사과': 'apple', '컴퓨터': 'computer', '학교': 'school', '책상': 'desk', '의자': 'chair'}\n",
    "for key in words:\n",
    "    in_word = input('%s에 해당되는 영어 단어를 입력: '%key)\n",
    "    if in_word == words[key]:\n",
    "        print('정답')\n",
    "    else:\n",
    "        print('오답')"
   ]
  },
  {
   "cell_type": "code",
   "execution_count": 18,
   "id": "087783ee-f731-48b4-a7ca-92df0fd3fb9e",
   "metadata": {
    "scrolled": true
   },
   "outputs": [
    {
     "name": "stdout",
     "output_type": "stream",
     "text": [
      "10 ~ 100의 정수 합계: 5005\n",
      "100 ~ 1000의 정수 합계: 495550\n",
      "1000 ~ 10000의 정수 합계: 49505500\n"
     ]
    }
   ],
   "source": [
    "#q7-1\n",
    "# 10 ~ 100의 정수 합계 : 5005\n",
    "# 100 ~ 1000의 정수 합계 : 495550 \n",
    "# 1000 ~ 10000의 정수 합계 : 49505500\n",
    "def sum(start,end):\n",
    "    total=0\n",
    "    for i in range(start,end+1):\n",
    "        total += i\n",
    "    print('%d ~ %d의 정수 합계: %d'%(start,end,total))\n",
    "sum(10,100)\n",
    "sum(100,1000)\n",
    "sum(1000,10000)"
   ]
  },
  {
   "cell_type": "code",
   "execution_count": 126,
   "id": "5a195a79-39e1-4378-98e1-a43314e8c093",
   "metadata": {},
   "outputs": [
    {
     "name": "stdin",
     "output_type": "stream",
     "text": [
      "시작 수 입력:  10\n",
      "끝 수 입력:  100\n",
      "합계를 구할 배수:  5\n"
     ]
    },
    {
     "name": "stdout",
     "output_type": "stream",
     "text": [
      "10~100의 정수 중 5의 배수의 합: 1045\n"
     ]
    }
   ],
   "source": [
    "#q7-2\n",
    "# 시작 수를 입력하세요: 10\n",
    "# 끝 수를 입력하세요: 100\n",
    "# 합계를 구할 배수를 입력하세요: 5 \n",
    "# 10 ~ 100의 정수 중 5의 배수의 합 : 1045\n",
    "def sum_besu(n1,n2,num):\n",
    "    sum=0\n",
    "    for i in range(n1,n2+1):\n",
    "        if i % besu == 0:\n",
    "            sum += i\n",
    "    return sum\n",
    "start = int(input('시작 수 입력: '))\n",
    "end = int(input('끝 수 입력: '))\n",
    "besu = int(input('합계를 구할 배수: '))\n",
    "result = sum_besu(start,end,besu)\n",
    "print('%d~%d의 정수 중 %d의 배수의 합: %d'%(start,end,besu,result))"
   ]
  },
  {
   "cell_type": "code",
   "execution_count": 122,
   "id": "28416018-e55a-4c4f-b6e6-afeeb47d3da9",
   "metadata": {},
   "outputs": [
    {
     "name": "stdin",
     "output_type": "stream",
     "text": [
      "첫 번째 수:  33\n",
      "두 번쨰 수:  44\n"
     ]
    },
    {
     "name": "stdout",
     "output_type": "stream",
     "text": [
      "33과(와) 44 최대공약수: 11\n"
     ]
    }
   ],
   "source": [
    "#q7-3\n",
    "# 첫 번째 수를 입력하세요: 33 \n",
    "# 두 번째 수를 입력하세요: 44 \n",
    "# 33과(와) 44의 최대공약수 : 11\n",
    "def computemaxgong(x,y):\n",
    "    if x > y :\n",
    "        small= y\n",
    "    else:\n",
    "        small= x\n",
    "        for i in range(1,small+1):\n",
    "            if(x%i==0) and (y%i==0):\n",
    "                result = i \n",
    "        return result\n",
    "num1 = int(input('첫 번째 수: '))\n",
    "num2 = int(input('두 번쨰 수: '))\n",
    "max_gong = computemaxgong(num1,num2)\n",
    "print('%d과(와) %d 최대공약수: %d'%(num1, num2, max_gong))"
   ]
  },
  {
   "cell_type": "code",
   "execution_count": 132,
   "id": "6e12222f-1602-416a-ada7-0008207f4386",
   "metadata": {
    "scrolled": true
   },
   "outputs": [
    {
     "name": "stdin",
     "output_type": "stream",
     "text": [
      "오렌지에 맞는 영어 단어는? orange\n"
     ]
    },
    {
     "name": "stdout",
     "output_type": "stream",
     "text": [
      "맞습니다!\n"
     ]
    },
    {
     "name": "stdin",
     "output_type": "stream",
     "text": [
      "과자에 맞는 영어 단어는? asd\n"
     ]
    },
    {
     "name": "stdout",
     "output_type": "stream",
     "text": [
      "틀렸습니다!\n"
     ]
    },
    {
     "name": "stdin",
     "output_type": "stream",
     "text": [
      "엄마에 맞는 영어 단어는? das\n"
     ]
    },
    {
     "name": "stdout",
     "output_type": "stream",
     "text": [
      "틀렸습니다!\n"
     ]
    },
    {
     "name": "stdin",
     "output_type": "stream",
     "text": [
      "형제에 맞는 영어 단어는? brother\n"
     ]
    },
    {
     "name": "stdout",
     "output_type": "stream",
     "text": [
      "맞습니다!\n"
     ]
    },
    {
     "name": "stdin",
     "output_type": "stream",
     "text": [
      "파이썬에 맞는 영어 단어는? python\n"
     ]
    },
    {
     "name": "stdout",
     "output_type": "stream",
     "text": [
      "맞습니다!\n"
     ]
    }
   ],
   "source": [
    "#q7-4\n",
    "# 오렌지에 맞는 영어 단어는? orange \n",
    "# 맞습니다!\n",
    "# 과자에 맞는 영어 단어는? cookie \n",
    "# 맞습니다!\n",
    "# 어머니에 맞는 영어 단어는? motheer \n",
    "# 틀렸습니다!\n",
    "# 형제에 맞는 영어 단어는? brother \n",
    "# 맞습니다!\n",
    "# 파이썬에 맞는 영어 단어는? pithon \n",
    "# 틀렸습니다!\n",
    "def matchword(word,answer):\n",
    "    if word == answer:\n",
    "        msg = '맞습니다!'\n",
    "    else:\n",
    "        msg = '틀렸습니다!'\n",
    "    return msg\n",
    "eng_dict = {'orange': '오렌지', 'cookie': '과자', 'mother': '엄마', 'brother': '형제', 'python': '파이썬'}\n",
    "for key in  eng_dict:\n",
    "    string = input(eng_dict[key]+'에 맞는 영어 단어는?')\n",
    "    result = matchword(string, key)\n",
    "    print(result)"
   ]
  },
  {
   "cell_type": "code",
   "execution_count": 66,
   "id": "476c9236-1603-4f6f-a02e-df4752eca51d",
   "metadata": {},
   "outputs": [
    {
     "name": "stdin",
     "output_type": "stream",
     "text": [
      "첫 수 입력 33\n",
      "두 수 입력 77\n",
      "세 수 입력 -21\n"
     ]
    },
    {
     "name": "stdout",
     "output_type": "stream",
     "text": [
      "33,77,-21중 큰 수 : 77\n"
     ]
    }
   ],
   "source": [
    "#q7-5\n",
    "# 첫 번째 수를 입력하세요: 33 \n",
    "# 두 번째 수를 입력하세요: 77 \n",
    "# 세 번째 수를 입력하세요: -21 \n",
    "# 33, 77, -21 중 가장 큰 수 : 77\n",
    "def maxtwo(i,j):\n",
    "    if i>j :\n",
    "        return i\n",
    "    else:\n",
    "        return j\n",
    "def maxthree(x,y,z):\n",
    "    max1=maxtwo(x,y)\n",
    "    max2=maxtwo(y,z)\n",
    "    if max1 > max2:\n",
    "        largest=max1\n",
    "    else:\n",
    "        largest=max2\n",
    "    return largest\n",
    "a= int(input('첫 수 입력'))\n",
    "b= int(input('두 수 입력'))\n",
    "c= int(input('세 수 입력'))\n",
    "max_num = maxthree(a,b,c)\n",
    "\n",
    "print('%d,%d,%d중 큰 수 : %d'%(a,b,c,max_num))"
   ]
  }
 ],
 "metadata": {
  "kernelspec": {
   "display_name": "Python 3 (ipykernel)",
   "language": "python",
   "name": "python3"
  },
  "language_info": {
   "codemirror_mode": {
    "name": "ipython",
    "version": 3
   },
   "file_extension": ".py",
   "mimetype": "text/x-python",
   "name": "python",
   "nbconvert_exporter": "python",
   "pygments_lexer": "ipython3",
   "version": "3.12.4"
  }
 },
 "nbformat": 4,
 "nbformat_minor": 5
}
