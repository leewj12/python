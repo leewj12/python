{
 "cells": [
  {
   "cell_type": "code",
   "execution_count": 9,
   "id": "450a6d22-7f5b-414c-aae6-a99b50690dc3",
   "metadata": {},
   "outputs": [
    {
     "name": "stdin",
     "output_type": "stream",
     "text": [
      "한 글자를 입력하세요 : 4\n"
     ]
    },
    {
     "name": "stdout",
     "output_type": "stream",
     "text": [
      "0\n"
     ]
    }
   ],
   "source": [
    "#string s에 입력받은 글자가 몇개 있는지 확인하는 코드\n",
    "s= \"have a nice day!\"\n",
    "data = input(\"한 글자를 입력하세요 :\")\n",
    "count = 0\n",
    "for i in range(len(s)):\n",
    "    if s[i] == data:\n",
    "        count += 1\n",
    "print(count)"
   ]
  },
  {
   "cell_type": "code",
   "execution_count": 13,
   "id": "430381dd-7d50-4dc0-ac96-dec559e093cf",
   "metadata": {},
   "outputs": [
    {
     "name": "stdout",
     "output_type": "stream",
     "text": [
      "6\n"
     ]
    }
   ],
   "source": [
    "data = [[1, 2, 1],\n",
    "        [2, 1, 2],\n",
    "        [1, 1, 1]]\n",
    "a = 1\n",
    "count = 0\n",
    "for i in range(len(data)):\n",
    "    for j in range(len(data[0])):\n",
    "        if data[i][j] == a:\n",
    "            count += 1\n",
    "print(count)"
   ]
  },
  {
   "cell_type": "code",
   "execution_count": 19,
   "id": "2cd78d21-6a22-428f-b06c-22dbc91212ad",
   "metadata": {
    "scrolled": true
   },
   "outputs": [
    {
     "name": "stdout",
     "output_type": "stream",
     "text": [
      "-1\n",
      "1\n",
      "-1\n",
      "-1\n"
     ]
    }
   ],
   "source": [
    "# 문제 1. 정수 num1과 num2가 매개변수로 주어집니다. \n",
    "# 수가 같으면 1 다르면 -1을 retrun하도록 solution 함수를 완성해주세요\n",
    "def solution(num1, num2):\n",
    "    if num1 == num2:\n",
    "        return 1\n",
    "    else:\n",
    "        return -1\n",
    "print(solution(2, 3)) #result= -1\n",
    "print(solution(11, 11)) #result= 1\n",
    "print(solution(7, 99)) #result= -1\n",
    "print(solution(4,5))"
   ]
  },
  {
   "cell_type": "code",
   "execution_count": 57,
   "id": "7cc3d4e9-cfe8-41ba-aa4a-e39859a0f3b1",
   "metadata": {
    "scrolled": true
   },
   "outputs": [
    {
     "name": "stdout",
     "output_type": "stream",
     "text": [
      "56.67\n"
     ]
    }
   ],
   "source": [
    "#for if 중첩문\n",
    "s = [\n",
    "    [60, 70, 80],\n",
    "    [80, 10, 40],\n",
    "    [40, 70, 90],\n",
    "    [60, 50, 50]\n",
    "]\n",
    "#2차원 배열로 각 학생의 국어, 영어, 수학 점수를 작성하였다.\n",
    "#국어 점수가 60점 이상인 학생의 수학 정수로 구하여라\n",
    "sum_s = 0   #국어 점수가 60점 이상인 학생의 수학 점수의 합\n",
    "count = 0       #국어 점수가 60점 이상인 학생의 수\n",
    "for i in range(len(s)):\n",
    "    # print(i)\n",
    "    if s[i][0] >= 60:\n",
    "        # print(s[i][2])\n",
    "        count += 1\n",
    "        sum_s += s[i][2]\n",
    "result =sum_s/count\n",
    "print(\"%.2f\"  % result)"
   ]
  },
  {
   "cell_type": "code",
   "execution_count": null,
   "id": "a2fcb80f-0f39-46fd-9b11-de9ebf83967a",
   "metadata": {},
   "outputs": [],
   "source": [
    "#체육대회 다른 학년의 같은 반은 한 팀이다.\n",
    "#학번 \"E60134\" E: 초등학생, 6: 학년, 01 :반, 34: 출석번호\n",
    "#for문과 if문을 이용하여minsu와 students의 각 학생들이 같은 팀인지 확인 하는 코드를 작성해봅시다.\n",
    "students = [\"E10123\", \"E31201\", \"E40156\"]\n",
    "minsu = \"E60134\""
   ]
  },
  {
   "cell_type": "code",
   "execution_count": 17,
   "id": "72743494-8169-40c0-b9bb-31dc7495a5f0",
   "metadata": {},
   "outputs": [
    {
     "name": "stdout",
     "output_type": "stream",
     "text": [
      "6\n"
     ]
    }
   ],
   "source": [
    "#거스름돈\n",
    "#1260원을 동전으로 거슬러 줄때, 화폐를 최소로 줄수 있게 계산하는 코드\n",
    "#거슬러 줘야 하는 동전의 총 개수를 출력한다\n",
    "money = 1260\n",
    "coin = [500, 100, 50, 10]\n",
    "count = 0\n",
    "for i in range(4):\n",
    "    # print(i, money, coin[i],count)\n",
    "    count += money // coin[i]\n",
    "    money = money % coin[i]\n",
    "print(count)"
   ]
  },
  {
   "cell_type": "code",
   "execution_count": 23,
   "id": "daae5d64-953c-44fc-96ca-5d5ef0318e54",
   "metadata": {
    "scrolled": true
   },
   "outputs": [
    {
     "name": "stdout",
     "output_type": "stream",
     "text": [
      "15.0\n"
     ]
    }
   ],
   "source": [
    "# 삼각형의 밑변 길이 : 10 \n",
    "# 삼각형의 높이 : 3 \n",
    "# 삼각형의 면적 : 15.0\n",
    "w  = 10 \n",
    "h = 3\n",
    "# print(w*h/2)\n",
    "def n(w,h):\n",
    "    n = w * h / 2\n",
    "    return n\n",
    "print(n(w,h))"
   ]
  },
  {
   "cell_type": "code",
   "execution_count": null,
   "id": "02b0b9b8-2028-44d8-9e74-407c9d1f7097",
   "metadata": {},
   "outputs": [],
   "source": [
    "w  = 10 \n",
    "h = 3\n",
    "class triangle:\n",
    "    def n(self,w,h):\n",
    "    n = w * h * 0.5\n",
    "    return n"
   ]
  },
  {
   "cell_type": "code",
   "execution_count": 11,
   "id": "843a83a2-cc9a-463c-9079-eabdcb9eaba3",
   "metadata": {},
   "outputs": [
    {
     "name": "stdout",
     "output_type": "stream",
     "text": [
      "15.0\n"
     ]
    }
   ],
   "source": [
    "class triangle:\n",
    "    def __init__(self,w,h):\n",
    "        self.w = w\n",
    "        self.h = h\n",
    "        \n",
    "    def result(self):\n",
    "        self.tr = self.w * self.h * 0.5\n",
    "        return self.tr\n",
    "a = triangle(3,10)\n",
    "a.result()\n",
    "print(a.result())"
   ]
  },
  {
   "cell_type": "code",
   "execution_count": 13,
   "id": "0e04a4d0-eed7-42b0-9993-1edd6c744b12",
   "metadata": {
    "scrolled": true
   },
   "outputs": [
    {
     "name": "stdout",
     "output_type": "stream",
     "text": [
      "2600\n"
     ]
    }
   ],
   "source": [
    "# 물건가격 : 800 원 \n",
    "# 구매개수 : 3 개 \n",
    "# 지불금액 : 5000 원 \n",
    "# 거스름돈 : 2600 원\n",
    "price = 800 \n",
    "buy = 3 \n",
    "pay = 5000\n",
    "print(pay-(price*buy))"
   ]
  },
  {
   "cell_type": "code",
   "execution_count": 17,
   "id": "1feb30e9-a816-4670-829e-0d28742a2008",
   "metadata": {
    "scrolled": true
   },
   "outputs": [
    {
     "name": "stdout",
     "output_type": "stream",
     "text": [
      "2600\n"
     ]
    }
   ],
   "source": [
    "def p(pay,price,buy):\n",
    "    c = pay - (price*buy)\n",
    "    return c\n",
    "print(p(5000,800,3))"
   ]
  },
  {
   "cell_type": "code",
   "execution_count": 19,
   "id": "7b39f301-ce67-4a97-aa88-804f3cc0cf50",
   "metadata": {},
   "outputs": [
    {
     "name": "stdout",
     "output_type": "stream",
     "text": [
      "2600\n"
     ]
    }
   ],
   "source": [
    "class change:\n",
    "    def __init__(self,pay,price,buy):\n",
    "        self.pay = pay\n",
    "        self.price = price\n",
    "        self. buy = buy\n",
    "    def c(self):\n",
    "        result = self.pay-(self.price * self.buy)\n",
    "        return result\n",
    "a = change(5000,300,8)\n",
    "print(a.c())"
   ]
  },
  {
   "cell_type": "code",
   "execution_count": 21,
   "id": "e24cd768-99d5-454b-b2b0-a30b8c4a4abe",
   "metadata": {
    "scrolled": true
   },
   "outputs": [
    {
     "name": "stdout",
     "output_type": "stream",
     "text": [
      "4\n",
      "4 -4\n"
     ]
    }
   ],
   "source": [
    "x = 20 \n",
    "y = 4\n",
    "x = y % x \n",
    "print(x)\n",
    "y -= x * 2 \n",
    "print(x, y)"
   ]
  },
  {
   "cell_type": "code",
   "execution_count": null,
   "id": "42f40df1-c0ab-4094-aa72-5e9c91fab0cf",
   "metadata": {},
   "outputs": [],
   "source": [
    "# 성:홍 \n",
    "# 이름 : 길동\n",
    "# 홍길동의 나이 : 30세, 키 : 171.50cm\n",
    "# name = \"홍길동\" \n",
    "# age = 30\n",
    "# height = 171.5\n"
   ]
  },
  {
   "cell_type": "code",
   "execution_count": 45,
   "id": "033b92ad-382c-45c2-98c0-e3bc372a0719",
   "metadata": {},
   "outputs": [
    {
     "name": "stdin",
     "output_type": "stream",
     "text": [
      "학생 이름을 입력하세요 : 황예린\n"
     ]
    },
    {
     "name": "stdout",
     "output_type": "stream",
     "text": [
      "이름: 황예린, 국어: 83, 영어: 85, 수학: 91,평균: 86.3\n"
     ]
    }
   ],
   "source": [
    "# 학생 이름을 입력하세요 :황예린 \n",
    "# 국어 성적을 입력하세요 :83 \n",
    "# 영어 성적을 입력하세요 :85 \n",
    "# 수학 성적을 입력하세요 :91 \n",
    "# 이름:황예린, 국어:83, 영어:85,수학:91, 평균:86.3 점\n",
    "name = input('학생 이름을 입력하세요 :') \n",
    "k = 83\n",
    "e = 85\n",
    "m = 91\n",
    "avg = (k + e + m) /3\n",
    "print('이름: %s, 국어: %d, 영어: %d, 수학: %d,평균: %.1f' %(name,k,e,m,avg))"
   ]
  },
  {
   "cell_type": "code",
   "execution_count": 65,
   "id": "f25a69a3-7e1a-4f7f-bb53-a0a5c7c28839",
   "metadata": {
    "scrolled": true
   },
   "outputs": [
    {
     "name": "stdin",
     "output_type": "stream",
     "text": [
      " 4\n",
      " r \n"
     ]
    },
    {
     "name": "stdout",
     "output_type": "stream",
     "text": [
      "0\n"
     ]
    }
   ],
   "source": [
    "n = int(input()) #범위\n",
    "co = input().split() #명령어 입력\n",
    "ma = [[0] *(n+1) for _ in range(n+1)]\n",
    "x, y = 1, 1\n",
    "print(ma[x][y-1])\n",
    "\n",
    "l = ma[x][y-1]\n",
    "\n",
    "# r = n[x][y+1]\n",
    "# u = n[x-1][y]\n",
    "# d = n[x+1][y]\n",
    "# for i in range(len(nu)):\n",
    "#     if "
   ]
  },
  {
   "cell_type": "code",
   "execution_count": 19,
   "id": "fec8db6d-0233-4911-bf17-2b8bd917057c",
   "metadata": {},
   "outputs": [
    {
     "name": "stdin",
     "output_type": "stream",
     "text": [
      " 5\n",
      " u\n"
     ]
    },
    {
     "name": "stdout",
     "output_type": "stream",
     "text": [
      "['U']\n",
      "1 1\n"
     ]
    }
   ],
   "source": [
    "n = int(input())\n",
    "\n",
    "info = input().upper().split()\n",
    "print(info)\n",
    "graph = [[0] * (n+1) for _ in range(n+1)]\n",
    "x, y = 1, 1\n",
    "#상하좌우(UDLR)\n",
    "move = [\"U\", \"D\", \"L\", \"R\"]\n",
    "dx = [-1, 1, 0, 0]\n",
    "dy = [0, 0, -1, 1]\n",
    "\n",
    "for i in range(len(info)):\n",
    "    for j in range(4):\n",
    "        if info[i] == move[j]:\n",
    "            nx = x+dx[j]\n",
    "            ny = y+dy[j]\n",
    "    \n",
    "            if nx >0 and nx <= n and ny >0 and ny <= n:\n",
    "                x = nx\n",
    "                y = ny\n",
    "print(x, y)"
   ]
  },
  {
   "cell_type": "code",
   "execution_count": 27,
   "id": "454b6a70-ef4a-43f2-a84c-6b65e0500534",
   "metadata": {},
   "outputs": [
    {
     "name": "stdin",
     "output_type": "stream",
     "text": [
      " u d d d\n"
     ]
    },
    {
     "name": "stdout",
     "output_type": "stream",
     "text": [
      "4 1\n"
     ]
    }
   ],
   "source": [
    "# n = int(input())\n",
    "n = 5\n",
    "com = input().lower().split()\n",
    "d = [[0] * (n+1) for _ in range(n+1)]\n",
    "dx = [-1,1,0,0]\n",
    "dy = [0,0,-1,1]\n",
    "move = ['u','d','l','r']\n",
    "x,y = 1,1\n",
    "for i in range(len(com)):\n",
    "    for j in range(len(dx)):\n",
    "        if com[i] == move[j]:\n",
    "            nx = x + dx[j]\n",
    "            ny = y + dy[j]\n",
    "            if 0 < nx <= n and 0 < ny <= n:\n",
    "                x = nx\n",
    "                y = ny\n",
    "print(x,y)"
   ]
  },
  {
   "cell_type": "code",
   "execution_count": null,
   "id": "24bba5d1-21ee-4726-9687-5d9af2e618ea",
   "metadata": {},
   "outputs": [],
   "source": [
    "# 상자들이 쌓여있는 방이 있다. 방이 오른쪽으로 90도 회젂하여 상자들이 중력의 영향을 받아 낙하한다고 할 때, 낙차가 가장 큰 상자를 구하 \n",
    "# 여 그 낙차를 리턴 하는 프로그램을 작성하시오.\n",
    "# 중력은 회전이 완료된 후 적용된다.\n",
    "# 상자들은 모두 한쪽 벽면에 붙여진 상태로 쌓여 2차원의 형태를 이루며 벽에서 떨어져서 쌓인 상자는 없다.\n",
    "# 가로길이는 항상 100이며, 세로 길이도 항상 100이다. \n",
    "# 즉, 상자는 최소 0, 최대 100 높이로 쌓을 수 있다.\n"
   ]
  }
 ],
 "metadata": {
  "kernelspec": {
   "display_name": "Python 3 (ipykernel)",
   "language": "python",
   "name": "python3"
  },
  "language_info": {
   "codemirror_mode": {
    "name": "ipython",
    "version": 3
   },
   "file_extension": ".py",
   "mimetype": "text/x-python",
   "name": "python",
   "nbconvert_exporter": "python",
   "pygments_lexer": "ipython3",
   "version": "3.12.4"
  }
 },
 "nbformat": 4,
 "nbformat_minor": 5
}
