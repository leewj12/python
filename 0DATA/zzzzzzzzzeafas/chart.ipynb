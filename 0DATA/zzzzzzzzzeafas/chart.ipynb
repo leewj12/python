{
 "cells": [
  {
   "cell_type": "code",
   "execution_count": 31,
   "id": "e5fec0f6-301d-45c4-9459-edabb20ca029",
   "metadata": {
    "scrolled": true
   },
   "outputs": [
    {
     "name": "stdout",
     "output_type": "stream",
     "text": [
      "1 삼성전자 78,600/1,600/-2.00%\n",
      "2 SK하이닉스 194,600/5,100/-2.55%\n",
      "3 LG에너지솔루션 332,000/4,500/-1.34%\n",
      "4 삼성바이오로직스 947,000/16,000/+1.72%\n",
      "5 현대차 256,500/1,500/+0.59%\n",
      "6 삼성전자우 63,400/1,300/-2.01%\n",
      "7 셀트리온 197,300/100/+0.05%\n",
      "8 기아 105,700/200/-0.19%\n",
      "9 KB금융 86,700/2,700/+3.21%\n",
      "10 신한지주 56,600/1,100/+1.98%\n",
      "11 POSCO홀딩스 326,500/4,000/-1.21%\n",
      "12 NAVER 158,400/900/+0.57%\n",
      "13 삼성물산 144,100/300/-0.21%\n",
      "14 삼성SDI 315,500/5,000/-1.56%\n",
      "15 LG화학 295,000/2,500/+0.85%\n",
      "16 현대모비스 222,000/2,000/+0.91%\n",
      "17 HD현대중공업 210,000/6,000/+2.94%\n",
      "18 삼성생명 93,000/4,200/+4.73%\n",
      "19 하나금융지주 62,800/1,800/+2.95%\n",
      "20 메리츠금융지주 90,100/1,300/+1.46%\n",
      "21 카카오 37,200/650/+1.78%\n",
      "22 삼성화재 344,000/3,000/+0.88%\n",
      "23 LG전자 98,200/1,600/+1.66%\n",
      "24 포스코퓨처엠 207,000/3,500/-1.66%\n",
      "25 크래프톤 324,500/0/0.00%\n",
      "26 한화에어로스페이스 302,000/3,000/-0.98%\n",
      "27 HD한국조선해양 201,500/4,800/+2.44%\n",
      "28 HMM 17,980/40/+0.22%\n",
      "29 KT&G 100,800/1,700/+1.72%\n",
      "30 LG 80,100/400/-0.50%\n",
      "31 한국전력 19,310/40/+0.21%\n",
      "32 한미반도체 125,400/2,300/-1.80%\n",
      "33 SK텔레콤 55,100/600/+1.10%\n",
      "34 두산에너빌리티 18,430/320/-1.71%\n",
      "35 SK스퀘어 87,300/800/-0.91%\n",
      "36 우리금융지주 15,770/350/+2.27%\n",
      "37 기업은행 13,850/160/+1.17%\n",
      "38 삼성에스디에스 142,300/400/-0.28%\n",
      "39 고려아연 527,000/8,000/+1.54%\n",
      "40 삼성전기 145,700/400/-0.27%\n",
      "41 카카오뱅크 22,100/100/+0.45%\n",
      "42 HD현대일렉트릭 288,500/9,000/-3.03%\n",
      "43 SK 138,500/0/0.00%\n",
      "44 SK이노베이션 102,300/0/0.00%\n",
      "45 한화오션 31,700/100/-0.31%\n",
      "46 KT 38,300/400/+1.06%\n",
      "47 삼성중공업 10,840/20/+0.18%\n",
      "48 KODEX CD금리액티브(합성) 1,045,455/80/+0.01%\n",
      "49 포스코인터내셔널 51,200/1,300/-2.48%\n",
      "50 SK바이오팜 108,700/3,100/+2.94%\n"
     ]
    }
   ],
   "source": [
    "import requests as req \n",
    "from bs4 import BeautifulSoup as bs \n",
    "\n",
    "res = req.get('https://finance.naver.com/sise/sise_market_sum.naver?&page=1') \n",
    "soup = bs(res.text, \"lxml\")\n",
    "info = soup.select(\"#contentarea > div.box_type_l > table.type_2 > tbody > tr\")  #각 항목의 tr을 범위로 지정\n",
    "for infos in info: #중간 tr에 공백을 사용했기에 for문 중간에 범위 값이 없기에 none값이 나옴\n",
    "    try:  \n",
    "        rank = infos.select_one(\"td.no\").text.strip()  #각 항목의 값을 추출하였음\n",
    "        name = infos.select_one(\"td:nth-child(2) > a\").text.strip() #처음에 출력하니까 공백난리났음\n",
    "        money = infos.select_one(\"td:nth-child(3)\").text.strip()  #strip() 사용하여 공백제거 하였음\n",
    "        moeny1 = infos.select_one(\"td:nth-child(4) > span\").text.strip() \n",
    "        updw = infos.select_one(\"td:nth-child(5) > span\").text.strip()\n",
    "        print(f\"{rank} {name} {money}/{moeny1}/{updw}\")\n",
    "              #text.strip() 안하고 rank.strip() 이렇게 해도 공백제거 가능 ★뭐가 더 좋은지 모르겠음 (질문사항)​\n",
    "    except AttributeError:  #none값을 무시하기 위해서 사용 \n",
    "        continue #에러무시하고 출력해라"
   ]
  },
  {
   "cell_type": "code",
   "execution_count": null,
   "id": "64e69c23-5987-4659-bd8d-9b10ef02ae09",
   "metadata": {},
   "outputs": [],
   "source": [
    "#contentarea > div.box_type_l > table.type_2 > thead > tr > th:nth-child(1)\n",
    "#contentarea > div.box_type_l > table.type_2 > tbody > tr:nth-child(2) > td.no\n",
    "#contentarea > div.box_type_l > table.type_2 > tbody > tr:nth-child(3) > td.no\n",
    "\n",
    "#contentarea > div.box_type_l > table.type_2 > thead > tr > th:nth-child(2)\n",
    "#contentarea > div.box_type_l > table.type_2 > tbody > tr:nth-child(2) > td:nth-child(2) > a\n",
    "#contentarea > div.box_type_l > table.type_2 > tbody > tr:nth-child(3) > td:nth-child(2) > a\n",
    "\n",
    "#contentarea > div.box_type_l > table.type_2 > thead > tr > th:nth-child(3)\n",
    "#contentarea > div.box_type_l > table.type_2 > tbody > tr:nth-child(2) > td:nth-child(3)\n",
    "#contentarea > div.box_type_l > table.type_2 > tbody > tr:nth-child(3) > td:nth-child(3)\n",
    "\n",
    "#contentarea > div.box_type_l > table.type_2 > thead > tr > th:nth-child(4)\n",
    "#contentarea > div.box_type_l > table.type_2 > tbody > tr:nth-child(2) > td:nth-child(4) > span\n",
    "#contentarea > div.box_type_l > table.type_2 > tbody > tr:nth-child(3) > td:nth-child(4) > span\n",
    "\n",
    "#contentarea > div.box_type_l > table.type_2 > thead > tr > th:nth-child(5)\n",
    "#contentarea > div.box_type_l > table.type_2 > tbody > tr:nth-child(3) > td:nth-child(5) > span\n",
    "#contentarea > div.box_type_l > table.type_2 > tbody > tr:nth-child(3) > td:nth-child(5) > span\n"
   ]
  },
  {
   "cell_type": "code",
   "execution_count": null,
   "id": "03c1e6d3-5989-443a-b4fa-04c799f6ce7b",
   "metadata": {},
   "outputs": [],
   "source": []
  },
  {
   "cell_type": "code",
   "execution_count": null,
   "id": "2fc7812e-17e4-43a9-a76f-05ed2f7233be",
   "metadata": {},
   "outputs": [],
   "source": []
  },
  {
   "cell_type": "code",
   "execution_count": null,
   "id": "b4a0b125-b49c-44b7-8668-74c57023884a",
   "metadata": {},
   "outputs": [],
   "source": []
  }
 ],
 "metadata": {
  "kernelspec": {
   "display_name": "Python 3 (ipykernel)",
   "language": "python",
   "name": "python3"
  },
  "language_info": {
   "codemirror_mode": {
    "name": "ipython",
    "version": 3
   },
   "file_extension": ".py",
   "mimetype": "text/x-python",
   "name": "python",
   "nbconvert_exporter": "python",
   "pygments_lexer": "ipython3",
   "version": "3.12.4"
  }
 },
 "nbformat": 4,
 "nbformat_minor": 5
}
