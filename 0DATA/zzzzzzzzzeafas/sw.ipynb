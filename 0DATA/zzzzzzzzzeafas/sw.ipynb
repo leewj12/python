{
 "cells": [
  {
   "cell_type": "code",
   "execution_count": 97,
   "id": "023afcbc-b620-47fc-92f3-33846a682259",
   "metadata": {
    "scrolled": true
   },
   "outputs": [
    {
     "name": "stdin",
     "output_type": "stream",
     "text": [
      " 3\n",
      "1~10000사이의 숫자를 띄어쓰기로 구분하여 입력 1 2 3 4 5\n"
     ]
    },
    {
     "name": "stdout",
     "output_type": "stream",
     "text": [
      "#1 9\n"
     ]
    },
    {
     "name": "stdin",
     "output_type": "stream",
     "text": [
      "1~10000사이의 숫자를 띄어쓰기로 구분하여 입력 3 4 5 6 7\n"
     ]
    },
    {
     "name": "stdout",
     "output_type": "stream",
     "text": [
      "#2 15\n"
     ]
    },
    {
     "name": "stdin",
     "output_type": "stream",
     "text": [
      "1~10000사이의 숫자를 띄어쓰기로 구분하여 입력 5 6 7 8 9\n"
     ]
    },
    {
     "name": "stdout",
     "output_type": "stream",
     "text": [
      "#3 21\n"
     ]
    }
   ],
   "source": [
    "# 홀수 더하기\n",
    "b = int(input())\n",
    "t = 0\n",
    "for j in range(b):\n",
    "    sum = 0\n",
    "    a = list(map(int, input().split()))\n",
    "    for i in range(len(a)):\n",
    "        if a[i] & 1 == 1:\n",
    "            sum += a[i]\n",
    "    t += 1\n",
    "    print('#%d'%(t), sum)"
   ]
  },
  {
   "cell_type": "code",
   "execution_count": 121,
   "id": "ef68fc5c-e1ff-4656-9383-f5d2d6974fb8",
   "metadata": {
    "scrolled": true
   },
   "outputs": [
    {
     "name": "stdin",
     "output_type": "stream",
     "text": [
      " 12345678\n"
     ]
    },
    {
     "name": "stdout",
     "output_type": "stream",
     "text": [
      "36\n"
     ]
    }
   ],
   "source": [
    "# 자릿수 더하기\n",
    "a = list(map(int, input()))\n",
    "sum = 0\n",
    "for i in range(len(a)):\n",
    "    sum += a[i]\n",
    "print(sum)"
   ]
  },
  {
   "cell_type": "code",
   "execution_count": null,
   "id": "7fb1098f-8421-4270-8200-82ae34603b2c",
   "metadata": {},
   "outputs": [],
   "source": [
    "#문자열 동화\n",
    "t = int(input())\n",
    "t1 = 0\n",
    "for i in range(t):\n",
    "    n = int(input())\n",
    "    a = input()\n",
    "    b = input()\n",
    "    c = input()\n",
    "    count = 0\n",
    "    t1 += 1\n",
    "    for j in range(n):\n",
    "        if a[j] == b[j] == c[j]:\n",
    "            pass\n",
    "        elif a[j] == b[j] or a[j] == c[j] or b[j] == c[j]:\n",
    "            count += 1\n",
    "        else:\n",
    "            count += 2\n",
    "    print('#%d'%(t1), count)"
   ]
  },
  {
   "cell_type": "code",
   "execution_count": 160,
   "id": "9b9d93ac-308b-4dcf-a745-ad4ec35965b5",
   "metadata": {},
   "outputs": [
    {
     "name": "stdin",
     "output_type": "stream",
     "text": [
      " The_headline_is_the_text_indicating_the_nature_of_the_article_below_it.\n"
     ]
    },
    {
     "name": "stdout",
     "output_type": "stream",
     "text": [
      "THE_HEADLINE_IS_THE_TEXT_INDICATING_THE_NATURE_OF_THE_ARTICLE_BELOW_IT.\n"
     ]
    }
   ],
   "source": [
    "# 헤드라인\n",
    "print(input().upper())"
   ]
  },
  {
   "cell_type": "code",
   "execution_count": 5,
   "id": "ef63f06d-7ff4-4952-a596-b1072d159d27",
   "metadata": {},
   "outputs": [
    {
     "name": "stdin",
     "output_type": "stream",
     "text": [
      " 2\n",
      " 4\n",
      " west\n",
      " east\n",
      " wait\n"
     ]
    },
    {
     "name": "stdout",
     "output_type": "stream",
     "text": [
      "#1 3\n"
     ]
    },
    {
     "name": "stdin",
     "output_type": "stream",
     "text": [
      " 7\n",
      " samsung\n",
      " samsung\n",
      " samsang\n"
     ]
    },
    {
     "name": "stdout",
     "output_type": "stream",
     "text": [
      "#2 1\n"
     ]
    }
   ],
   "source": [
    "#문자열 동화\n",
    "\n",
    "t = int(input()) # 총 시행 횟수\n",
    "\n",
    "t1 = 0 # t1 번째 시도\n",
    "\n",
    "for i in range(t): # 시행 횟수만큼 반복\n",
    "\n",
    "    n = int(input()) # 입력값 자리수\n",
    "\n",
    "    a = input() #입력값 1\n",
    "\n",
    "    b = input() #입력값 2\n",
    "\n",
    "    c = input() #입력값 3\n",
    "\n",
    "    count = 0 # 문자열 바꾼 횟수\n",
    "\n",
    "    t1 += 1 # 시행횟수 +1\n",
    "\n",
    "    for j in range(n): # 입력값 자리수 만큼 반복\n",
    "\n",
    "        if a[j] == b[j] == c[j]: # 세 문자가 같으니 pass\n",
    "\n",
    "            pass\n",
    "\n",
    "        elif a[j] == b[j] or a[j] == c[j] or b[j] == c[j]: #두 문자가 같으니 1회 교체\n",
    "\n",
    "            count += 1\n",
    "\n",
    "        else:\n",
    "\n",
    "            count += 2 # 세 문자가 다르면 2회 교체\n",
    "\n",
    "    print('#%d'%(t1), count) # 총 횟수 출력"
   ]
  }
 ],
 "metadata": {
  "kernelspec": {
   "display_name": "Python 3 (ipykernel)",
   "language": "python",
   "name": "python3"
  },
  "language_info": {
   "codemirror_mode": {
    "name": "ipython",
    "version": 3
   },
   "file_extension": ".py",
   "mimetype": "text/x-python",
   "name": "python",
   "nbconvert_exporter": "python",
   "pygments_lexer": "ipython3",
   "version": "3.12.4"
  }
 },
 "nbformat": 4,
 "nbformat_minor": 5
}
